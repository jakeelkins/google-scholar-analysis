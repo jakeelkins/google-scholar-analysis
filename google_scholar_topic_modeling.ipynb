{
 "cells": [
  {
   "cell_type": "markdown",
   "metadata": {},
   "source": [
    "## Google scholar text analysis"
   ]
  },
  {
   "cell_type": "markdown",
   "metadata": {},
   "source": [
    "In this notebook, I read in google scholar data from a query URL and run some clustering (KMeans) and topic modeling (LDA) algorithms to attempt to uncover trends in the recent published research on google scholar. I've put comments in hashes and cells all thru the notebook"
   ]
  },
  {
   "cell_type": "code",
   "execution_count": 1,
   "metadata": {},
   "outputs": [],
   "source": [
    "#bring in the google scholar API to web-scrape the papers, titles, and their abstracts\n",
    "import scholarly"
   ]
  },
  {
   "cell_type": "code",
   "execution_count": 2,
   "metadata": {},
   "outputs": [],
   "source": [
    "#go to google scholar and grab the URL from the search query and put it here\n",
    "#everything after 'https://google.scholar.com'\n",
    "results = scholarly.search_pubs_custom_url('/scholar?as_ylo=2019&q=\"supply+chain\"&hl=en&as_sdt=1,1&as_vis=1')"
   ]
  },
  {
   "cell_type": "code",
   "execution_count": 3,
   "metadata": {},
   "outputs": [
    {
     "name": "stdout",
     "output_type": "stream",
     "text": [
      "{'_filled': False,\n",
      " 'bib': {'abstract': 'We opened our 2010 paper in the Journal of Business '\n",
      "                     'Logistics with a 6th century quote by Heraclitus–“The '\n",
      "                     'only constant is change.” This immutable law certainly '\n",
      "                     \"holds in today's volatile business world, especially for \"\n",
      "                     'supply chain management, and has been the driving …',\n",
      "         'author': 'TJ Pettit and KL Croxton and J Fiksel',\n",
      "         'eprint': 'https://onlinelibrary.wiley.com/doi/pdf/10.1111/jbl.12202',\n",
      "         'title': 'The Evolution of Resilience in Supply Chain Management: A '\n",
      "                  'Retrospective on Ensuring Supply Chain Resilience',\n",
      "         'url': 'https://onlinelibrary.wiley.com/doi/abs/10.1111/jbl.12202'},\n",
      " 'citedby': 1,\n",
      " 'id_scholarcitedby': '16408947525918857329',\n",
      " 'source': 'scholar',\n",
      " 'url_scholarbib': 'https://scholar.googleusercontent.com/scholar.bib?q=info:cRhrJNZKuOMJ:scholar.google.com/&output=citation&scisdr=CgUD3q0BGAA:AAGBfm0AAAAAXZyxVpz5GxkCK5HmHQ_fi0d6zAHz62W6&scisig=AAGBfm0AAAAAXZyxVlgZa-yPjimQoz5A5bzHuHkpwZtb&scisf=4&ct=citation&cd=0&hl=en'}\n"
     ]
    }
   ],
   "source": [
    "#print an example\n",
    "for result in results:\n",
    "    print(result)\n",
    "    break"
   ]
  },
  {
   "cell_type": "code",
   "execution_count": 4,
   "metadata": {},
   "outputs": [],
   "source": [
    "#build a list of titles\n",
    "\n",
    "num_scraped = 0\n",
    "title_list = []\n",
    "\n",
    "for result in results:\n",
    "    num_scraped += 1\n",
    "    \n",
    "    title_list.append(result.bib['title'])\n",
    "    \n",
    "    if num_scraped == 5000:\n",
    "        break"
   ]
  },
  {
   "cell_type": "code",
   "execution_count": 5,
   "metadata": {},
   "outputs": [
    {
     "data": {
      "text/plain": [
       "'An empirical analysis of supply chain finance adoption'"
      ]
     },
     "execution_count": 5,
     "metadata": {},
     "output_type": "execute_result"
    }
   ],
   "source": [
    "#example of these titles\n",
    "title_list[2]"
   ]
  },
  {
   "cell_type": "code",
   "execution_count": 6,
   "metadata": {},
   "outputs": [],
   "source": [
    "#get all the data science/NLP packages we'll need\n",
    "import pandas as pd\n",
    "from sklearn.feature_extraction.text import TfidfVectorizer\n",
    "from sklearn.cluster import KMeans\n",
    "from gensim.models.phrases import Phrases\n",
    "from gensim.utils import simple_preprocess\n",
    "from gensim.parsing.preprocessing import remove_stopwords\n",
    "\n",
    "from sklearn.metrics import pairwise_distances_argmin_min"
   ]
  },
  {
   "cell_type": "code",
   "execution_count": 7,
   "metadata": {},
   "outputs": [],
   "source": [
    "example = title_list[0]"
   ]
  },
  {
   "cell_type": "code",
   "execution_count": 8,
   "metadata": {},
   "outputs": [
    {
     "data": {
      "text/plain": [
       "'A behavioral investigation of supply chain contracts for a newsvendor problem in a developing economy'"
      ]
     },
     "execution_count": 8,
     "metadata": {},
     "output_type": "execute_result"
    }
   ],
   "source": [
    "example"
   ]
  },
  {
   "cell_type": "code",
   "execution_count": 9,
   "metadata": {},
   "outputs": [
    {
     "data": {
      "text/plain": [
       "['behavioral',\n",
       " 'investigation',\n",
       " 'of',\n",
       " 'supply',\n",
       " 'chain',\n",
       " 'contracts',\n",
       " 'for',\n",
       " 'newsvendor',\n",
       " 'problem',\n",
       " 'in',\n",
       " 'developing',\n",
       " 'economy']"
      ]
     },
     "execution_count": 9,
     "metadata": {},
     "output_type": "execute_result"
    }
   ],
   "source": [
    "#process the titles by removing stopwords, break up into 'tokens' (words)\n",
    "simple_preprocess(example)"
   ]
  },
  {
   "cell_type": "code",
   "execution_count": 10,
   "metadata": {},
   "outputs": [],
   "source": [
    "#initialize the data table\n",
    "corpus = pd.DataFrame(columns=['raw_text', 'processed_text'])"
   ]
  },
  {
   "cell_type": "code",
   "execution_count": 11,
   "metadata": {},
   "outputs": [],
   "source": [
    "#build the table\n",
    "\n",
    "for i, title in enumerate(title_list):\n",
    "    \n",
    "    corpus.loc[i, 'raw_text'] = title\n",
    "    \n",
    "    no_stop_title = remove_stopwords(title)\n",
    "    \n",
    "    processed = simple_preprocess(no_stop_title)\n",
    "    \n",
    "    corpus.loc[i, 'processed_text'] = processed"
   ]
  },
  {
   "cell_type": "code",
   "execution_count": 12,
   "metadata": {},
   "outputs": [
    {
     "data": {
      "text/plain": [
       "['behavioral',\n",
       " 'investigation',\n",
       " 'supply',\n",
       " 'chain',\n",
       " 'contracts',\n",
       " 'newsvendor',\n",
       " 'problem',\n",
       " 'developing',\n",
       " 'economy']"
      ]
     },
     "execution_count": 12,
     "metadata": {},
     "output_type": "execute_result"
    }
   ],
   "source": [
    "corpus.loc[0, 'processed_text']"
   ]
  },
  {
   "cell_type": "code",
   "execution_count": 13,
   "metadata": {},
   "outputs": [],
   "source": [
    "#put bigrams (two-word phrases) together\n",
    "bigrammer = Phrases(corpus['processed_text'], threshold=5)"
   ]
  },
  {
   "cell_type": "code",
   "execution_count": 14,
   "metadata": {},
   "outputs": [
    {
     "data": {
      "text/plain": [
       "['blockchain_technology',\n",
       " 'relationships',\n",
       " 'sustainable',\n",
       " 'supply_chain',\n",
       " 'management']"
      ]
     },
     "execution_count": 14,
     "metadata": {},
     "output_type": "execute_result"
    }
   ],
   "source": [
    "#example of the bigrammer putting the bigrams together (supply chain turns into 1 token)\n",
    "bigrammer[corpus.loc[7, 'processed_text']]"
   ]
  },
  {
   "cell_type": "code",
   "execution_count": 15,
   "metadata": {},
   "outputs": [],
   "source": [
    "#run the bigrammer on all the processed data\n",
    "corpus['bigram_proc_text'] = [[0]]*len(corpus)\n",
    "\n",
    "for i in range(len(corpus)):\n",
    "    \n",
    "    corpus.loc[i, 'bigram_proc_text'] = bigrammer[corpus.loc[i, 'processed_text']]"
   ]
  },
  {
   "cell_type": "code",
   "execution_count": 16,
   "metadata": {},
   "outputs": [],
   "source": [
    "teststr = ' hi my name is jake'"
   ]
  },
  {
   "cell_type": "code",
   "execution_count": 17,
   "metadata": {},
   "outputs": [
    {
     "data": {
      "text/plain": [
       "'hi my name is jake'"
      ]
     },
     "execution_count": 17,
     "metadata": {},
     "output_type": "execute_result"
    }
   ],
   "source": [
    "teststr[1:]"
   ]
  },
  {
   "cell_type": "code",
   "execution_count": 18,
   "metadata": {},
   "outputs": [],
   "source": [
    "#put them back into a whole string, as that's what scikit's vectorizer needs\n",
    "new_corpus = []\n",
    "\n",
    "for doc in corpus['bigram_proc_text']:\n",
    "    \n",
    "    build_str = ''\n",
    "    \n",
    "    for xstr in doc:\n",
    "        \n",
    "        build_str = build_str + ' ' + xstr\n",
    "        \n",
    "    build_str = build_str[1:]\n",
    "    \n",
    "    new_corpus.append(build_str)"
   ]
  },
  {
   "cell_type": "code",
   "execution_count": 19,
   "metadata": {},
   "outputs": [],
   "source": [
    "#transform words into vectors using tfidf (term-frequency inverse-document-frequency)\n",
    "vectorizer = TfidfVectorizer(lowercase=False)"
   ]
  },
  {
   "cell_type": "code",
   "execution_count": 20,
   "metadata": {},
   "outputs": [],
   "source": [
    "#run the vectorizer\n",
    "vectorized = vectorizer.fit_transform(new_corpus)"
   ]
  },
  {
   "cell_type": "code",
   "execution_count": 22,
   "metadata": {},
   "outputs": [
    {
     "data": {
      "text/plain": [
       "<1x2036 sparse matrix of type '<class 'numpy.float64'>'\n",
       "\twith 8 stored elements in Compressed Sparse Row format>"
      ]
     },
     "execution_count": 22,
     "metadata": {},
     "output_type": "execute_result"
    }
   ],
   "source": [
    "vectorized[0]"
   ]
  },
  {
   "cell_type": "code",
   "execution_count": 69,
   "metadata": {},
   "outputs": [],
   "source": [
    "#run kmeans clustering\n",
    "kmeans = KMeans(n_clusters=50).fit(vectorized)"
   ]
  },
  {
   "cell_type": "code",
   "execution_count": 70,
   "metadata": {},
   "outputs": [
    {
     "data": {
      "text/plain": [
       "array([[0., 0., 0., ..., 0., 0., 0.],\n",
       "       [0., 0., 0., ..., 0., 0., 0.],\n",
       "       [0., 0., 0., ..., 0., 0., 0.],\n",
       "       ...,\n",
       "       [0., 0., 0., ..., 0., 0., 0.],\n",
       "       [0., 0., 0., ..., 0., 0., 0.],\n",
       "       [0., 0., 0., ..., 0., 0., 0.]])"
      ]
     },
     "execution_count": 70,
     "metadata": {},
     "output_type": "execute_result"
    }
   ],
   "source": [
    "kmeans.cluster_centers_"
   ]
  },
  {
   "cell_type": "markdown",
   "metadata": {},
   "source": [
    "a lot of times, you'll want the documents closest to the cluster centers in order to get the best \"exemplar\" of the cluster. it's all about going from the topic --> useful information."
   ]
  },
  {
   "cell_type": "code",
   "execution_count": 72,
   "metadata": {},
   "outputs": [],
   "source": [
    "#do that with this scikit function. not sure how reliable this is\n",
    "closest, _ = pairwise_distances_argmin_min(kmeans.cluster_centers_, vectorized)"
   ]
  },
  {
   "cell_type": "code",
   "execution_count": 73,
   "metadata": {},
   "outputs": [
    {
     "data": {
      "text/plain": [
       "array([581, 607, 627, 466, 235, 123, 587, 311, 541, 831, 634, 746, 122,\n",
       "       395, 263, 309, 740, 147, 719, 138, 631, 683, 407, 832, 432, 149,\n",
       "       480, 530, 742, 756, 625, 226, 167,  76, 682, 844, 916, 290, 103,\n",
       "       228, 729,  23, 305, 315, 860, 566, 361,  39, 154, 246])"
      ]
     },
     "execution_count": 73,
     "metadata": {},
     "output_type": "execute_result"
    }
   ],
   "source": [
    "closest\n",
    "#looks okay"
   ]
  },
  {
   "cell_type": "code",
   "execution_count": 74,
   "metadata": {},
   "outputs": [
    {
     "data": {
      "text/plain": [
       "'Identifying trade-offs between sustainability dimensions in the supply chain of biodiesel in Colombia'"
      ]
     },
     "execution_count": 74,
     "metadata": {},
     "output_type": "execute_result"
    }
   ],
   "source": [
    "#let's check out a few\n",
    "corpus.loc[closest[0], 'raw_text']"
   ]
  },
  {
   "cell_type": "code",
   "execution_count": 75,
   "metadata": {},
   "outputs": [
    {
     "data": {
      "text/plain": [
       "\"Supply chain coordination to optimize manufacturer's capacity procurement decisions through a new commitment-based model with penalty and revenue …\""
      ]
     },
     "execution_count": 75,
     "metadata": {},
     "output_type": "execute_result"
    }
   ],
   "source": [
    "corpus.loc[closest[1], 'raw_text']"
   ]
  },
  {
   "cell_type": "code",
   "execution_count": 76,
   "metadata": {},
   "outputs": [
    {
     "data": {
      "text/plain": [
       "'Architectures for Green-Field Supply Chain Integration-Supply Chain Integration Design'"
      ]
     },
     "execution_count": 76,
     "metadata": {},
     "output_type": "execute_result"
    }
   ],
   "source": [
    "corpus.loc[closest[2], 'raw_text']"
   ]
  },
  {
   "cell_type": "code",
   "execution_count": 77,
   "metadata": {},
   "outputs": [
    {
     "data": {
      "text/plain": [
       "'Optimal planning of municipal solid waste management systems in an integrated supply chain network'"
      ]
     },
     "execution_count": 77,
     "metadata": {},
     "output_type": "execute_result"
    }
   ],
   "source": [
    "corpus.loc[closest[3], 'raw_text']\n",
    "\n",
    "#not that impressive. let's predict the data we have and see where they get clustered."
   ]
  },
  {
   "cell_type": "code",
   "execution_count": 78,
   "metadata": {},
   "outputs": [],
   "source": [
    "#cluster the data we have\n",
    "corpus['kmeans_pred'] = kmeans.predict(vectorized)"
   ]
  },
  {
   "cell_type": "code",
   "execution_count": 79,
   "metadata": {},
   "outputs": [
    {
     "data": {
      "text/plain": [
       "45    75\n",
       "25    46\n",
       "6     43\n",
       "34    31\n",
       "22    31\n",
       "24    28\n",
       "29    27\n",
       "35    27\n",
       "7     26\n",
       "19    26\n",
       "46    26\n",
       "20    25\n",
       "16    24\n",
       "23    23\n",
       "4     22\n",
       "3     22\n",
       "14    22\n",
       "2     21\n",
       "49    21\n",
       "15    20\n",
       "37    20\n",
       "40    20\n",
       "32    19\n",
       "48    18\n",
       "8     18\n",
       "31    17\n",
       "11    17\n",
       "21    17\n",
       "13    17\n",
       "44    16\n",
       "27    15\n",
       "42    15\n",
       "17    15\n",
       "30    14\n",
       "28    14\n",
       "26    13\n",
       "43    13\n",
       "1     13\n",
       "39    12\n",
       "18    12\n",
       "41    11\n",
       "5     11\n",
       "47    11\n",
       "38    10\n",
       "9      9\n",
       "33     9\n",
       "12     8\n",
       "10     8\n",
       "36     7\n",
       "0      3\n",
       "Name: kmeans_pred, dtype: int64"
      ]
     },
     "execution_count": 79,
     "metadata": {},
     "output_type": "execute_result"
    }
   ],
   "source": [
    "#show largest clusters\n",
    "corpus['kmeans_pred'].value_counts()"
   ]
  },
  {
   "cell_type": "code",
   "execution_count": 83,
   "metadata": {},
   "outputs": [
    {
     "data": {
      "text/html": [
       "<div>\n",
       "<style scoped>\n",
       "    .dataframe tbody tr th:only-of-type {\n",
       "        vertical-align: middle;\n",
       "    }\n",
       "\n",
       "    .dataframe tbody tr th {\n",
       "        vertical-align: top;\n",
       "    }\n",
       "\n",
       "    .dataframe thead th {\n",
       "        text-align: right;\n",
       "    }\n",
       "</style>\n",
       "<table border=\"1\" class=\"dataframe\">\n",
       "  <thead>\n",
       "    <tr style=\"text-align: right;\">\n",
       "      <th></th>\n",
       "      <th>raw_text</th>\n",
       "      <th>processed_text</th>\n",
       "      <th>bigram_proc_text</th>\n",
       "      <th>kmeans_pred</th>\n",
       "    </tr>\n",
       "  </thead>\n",
       "  <tbody>\n",
       "    <tr>\n",
       "      <th>5</th>\n",
       "      <td>Supply chain management in industrial marketin...</td>\n",
       "      <td>[supply, chain, management, industrial, market...</td>\n",
       "      <td>[supply_chain, management, industrial, marketi...</td>\n",
       "      <td>6</td>\n",
       "    </tr>\n",
       "    <tr>\n",
       "      <th>10</th>\n",
       "      <td>Resilience of medium-sized firms to supply cha...</td>\n",
       "      <td>[resilience, medium, sized, firms, supply, cha...</td>\n",
       "      <td>[resilience, medium, sized, firms, supply_chai...</td>\n",
       "      <td>6</td>\n",
       "    </tr>\n",
       "    <tr>\n",
       "      <th>28</th>\n",
       "      <td>Competition policy and antitrust law: implicat...</td>\n",
       "      <td>[competition, policy, antitrust, law, implicat...</td>\n",
       "      <td>[competition, policy, antitrust, law, implicat...</td>\n",
       "      <td>6</td>\n",
       "    </tr>\n",
       "    <tr>\n",
       "      <th>51</th>\n",
       "      <td>The Promise: Signaling Sustainability in Suppl...</td>\n",
       "      <td>[the, promise, signaling, sustainability, supp...</td>\n",
       "      <td>[the, promise, signaling, sustainability, supp...</td>\n",
       "      <td>6</td>\n",
       "    </tr>\n",
       "    <tr>\n",
       "      <th>98</th>\n",
       "      <td>Reporting on supply chain sustainability: Meas...</td>\n",
       "      <td>[reporting, supply, chain, sustainability, mea...</td>\n",
       "      <td>[reporting, supply_chain, sustainability, meas...</td>\n",
       "      <td>6</td>\n",
       "    </tr>\n",
       "    <tr>\n",
       "      <th>134</th>\n",
       "      <td>Supply Chain Linked Sustainability Assessment ...</td>\n",
       "      <td>[supply, chain, linked, sustainability, assess...</td>\n",
       "      <td>[supply_chain, linked, sustainability, assessm...</td>\n",
       "      <td>6</td>\n",
       "    </tr>\n",
       "    <tr>\n",
       "      <th>143</th>\n",
       "      <td>Does social capital matter for supply chain re...</td>\n",
       "      <td>[does, social, capital, matter, supply, chain,...</td>\n",
       "      <td>[does, social, capital, matter, supply_chain, ...</td>\n",
       "      <td>6</td>\n",
       "    </tr>\n",
       "    <tr>\n",
       "      <th>144</th>\n",
       "      <td>Supply chain sustainability risk and assessment</td>\n",
       "      <td>[supply, chain, sustainability, risk, assessment]</td>\n",
       "      <td>[supply_chain, sustainability, risk_assessment]</td>\n",
       "      <td>6</td>\n",
       "    </tr>\n",
       "    <tr>\n",
       "      <th>152</th>\n",
       "      <td>Information sharing and the impact of shutdown...</td>\n",
       "      <td>[information, sharing, impact, shutdown, polic...</td>\n",
       "      <td>[information_sharing, impact, shutdown, policy...</td>\n",
       "      <td>6</td>\n",
       "    </tr>\n",
       "    <tr>\n",
       "      <th>222</th>\n",
       "      <td>Exploring the Social, Economic and Environment...</td>\n",
       "      <td>[exploring, social, economic, environmental, f...</td>\n",
       "      <td>[exploring, social, economic, environmental, f...</td>\n",
       "      <td>6</td>\n",
       "    </tr>\n",
       "  </tbody>\n",
       "</table>\n",
       "</div>"
      ],
      "text/plain": [
       "                                              raw_text  \\\n",
       "5    Supply chain management in industrial marketin...   \n",
       "10   Resilience of medium-sized firms to supply cha...   \n",
       "28   Competition policy and antitrust law: implicat...   \n",
       "51   The Promise: Signaling Sustainability in Suppl...   \n",
       "98   Reporting on supply chain sustainability: Meas...   \n",
       "134  Supply Chain Linked Sustainability Assessment ...   \n",
       "143  Does social capital matter for supply chain re...   \n",
       "144    Supply chain sustainability risk and assessment   \n",
       "152  Information sharing and the impact of shutdown...   \n",
       "222  Exploring the Social, Economic and Environment...   \n",
       "\n",
       "                                        processed_text  \\\n",
       "5    [supply, chain, management, industrial, market...   \n",
       "10   [resilience, medium, sized, firms, supply, cha...   \n",
       "28   [competition, policy, antitrust, law, implicat...   \n",
       "51   [the, promise, signaling, sustainability, supp...   \n",
       "98   [reporting, supply, chain, sustainability, mea...   \n",
       "134  [supply, chain, linked, sustainability, assess...   \n",
       "143  [does, social, capital, matter, supply, chain,...   \n",
       "144  [supply, chain, sustainability, risk, assessment]   \n",
       "152  [information, sharing, impact, shutdown, polic...   \n",
       "222  [exploring, social, economic, environmental, f...   \n",
       "\n",
       "                                      bigram_proc_text  kmeans_pred  \n",
       "5    [supply_chain, management, industrial, marketi...            6  \n",
       "10   [resilience, medium, sized, firms, supply_chai...            6  \n",
       "28   [competition, policy, antitrust, law, implicat...            6  \n",
       "51   [the, promise, signaling, sustainability, supp...            6  \n",
       "98   [reporting, supply_chain, sustainability, meas...            6  \n",
       "134  [supply_chain, linked, sustainability, assessm...            6  \n",
       "143  [does, social, capital, matter, supply_chain, ...            6  \n",
       "144    [supply_chain, sustainability, risk_assessment]            6  \n",
       "152  [information_sharing, impact, shutdown, policy...            6  \n",
       "222  [exploring, social, economic, environmental, f...            6  "
      ]
     },
     "execution_count": 83,
     "metadata": {},
     "output_type": "execute_result"
    }
   ],
   "source": [
    "#print a few clusters\n",
    "corpus[corpus['kmeans_pred']==6].head(10)\n",
    "\n",
    "#this one is all about sustainability"
   ]
  },
  {
   "cell_type": "code",
   "execution_count": 85,
   "metadata": {},
   "outputs": [
    {
     "data": {
      "text/html": [
       "<div>\n",
       "<style scoped>\n",
       "    .dataframe tbody tr th:only-of-type {\n",
       "        vertical-align: middle;\n",
       "    }\n",
       "\n",
       "    .dataframe tbody tr th {\n",
       "        vertical-align: top;\n",
       "    }\n",
       "\n",
       "    .dataframe thead th {\n",
       "        text-align: right;\n",
       "    }\n",
       "</style>\n",
       "<table border=\"1\" class=\"dataframe\">\n",
       "  <thead>\n",
       "    <tr style=\"text-align: right;\">\n",
       "      <th></th>\n",
       "      <th>raw_text</th>\n",
       "      <th>processed_text</th>\n",
       "      <th>bigram_proc_text</th>\n",
       "      <th>kmeans_pred</th>\n",
       "    </tr>\n",
       "  </thead>\n",
       "  <tbody>\n",
       "    <tr>\n",
       "      <th>9</th>\n",
       "      <td>Personal relationships and loyalty in supply c...</td>\n",
       "      <td>[personal, relationships, loyalty, supply, chain]</td>\n",
       "      <td>[personal, relationships, loyalty, supply_chain]</td>\n",
       "      <td>45</td>\n",
       "    </tr>\n",
       "    <tr>\n",
       "      <th>11</th>\n",
       "      <td>Does supply chain visibility affect operating ...</td>\n",
       "      <td>[does, supply, chain, visibility, affect, oper...</td>\n",
       "      <td>[does, supply_chain, visibility, affect, opera...</td>\n",
       "      <td>45</td>\n",
       "    </tr>\n",
       "    <tr>\n",
       "      <th>20</th>\n",
       "      <td>Toward a Digitally Dominant Paradigm for twent...</td>\n",
       "      <td>[toward, digitally, dominant, paradigm, twenty...</td>\n",
       "      <td>[toward, digitally, dominant, paradigm, twenty...</td>\n",
       "      <td>45</td>\n",
       "    </tr>\n",
       "    <tr>\n",
       "      <th>31</th>\n",
       "      <td>From consumer to prosumer: a supply chain revo...</td>\n",
       "      <td>[from, consumer, prosumer, supply, chain, revo...</td>\n",
       "      <td>[from, consumer, prosumer, supply_chain, revol...</td>\n",
       "      <td>45</td>\n",
       "    </tr>\n",
       "    <tr>\n",
       "      <th>36</th>\n",
       "      <td>How to secure your supply chain</td>\n",
       "      <td>[how, secure, supply, chain]</td>\n",
       "      <td>[how, secure, supply_chain]</td>\n",
       "      <td>45</td>\n",
       "    </tr>\n",
       "    <tr>\n",
       "      <th>69</th>\n",
       "      <td>Radio frequency identification (RFID) technolo...</td>\n",
       "      <td>[radio, frequency, identification, rfid, techn...</td>\n",
       "      <td>[radio, frequency, identification, rfid, techn...</td>\n",
       "      <td>45</td>\n",
       "    </tr>\n",
       "    <tr>\n",
       "      <th>73</th>\n",
       "      <td>Performance Impact Analysis of Disruption Prop...</td>\n",
       "      <td>[performance, impact, analysis, disruption, pr...</td>\n",
       "      <td>[performance, impact, analysis, disruption, pr...</td>\n",
       "      <td>45</td>\n",
       "    </tr>\n",
       "    <tr>\n",
       "      <th>84</th>\n",
       "      <td>Designing response supply chain against bioatt...</td>\n",
       "      <td>[designing, response, supply, chain, bioattacks]</td>\n",
       "      <td>[designing, response, supply_chain, bioattacks]</td>\n",
       "      <td>45</td>\n",
       "    </tr>\n",
       "    <tr>\n",
       "      <th>104</th>\n",
       "      <td>Achieving sustainable performance in a data-dr...</td>\n",
       "      <td>[achieving, sustainable, performance, data, dr...</td>\n",
       "      <td>[achieving, sustainable, performance, data_dri...</td>\n",
       "      <td>45</td>\n",
       "    </tr>\n",
       "    <tr>\n",
       "      <th>106</th>\n",
       "      <td>Broadening the perspective of supply chain fin...</td>\n",
       "      <td>[broadening, perspective, supply, chain, finan...</td>\n",
       "      <td>[broadening, perspective, supply_chain, financ...</td>\n",
       "      <td>45</td>\n",
       "    </tr>\n",
       "    <tr>\n",
       "      <th>145</th>\n",
       "      <td>Predicting supply chain performance based on S...</td>\n",
       "      <td>[predicting, supply, chain, performance, based...</td>\n",
       "      <td>[predicting, supply_chain, performance, based,...</td>\n",
       "      <td>45</td>\n",
       "    </tr>\n",
       "    <tr>\n",
       "      <th>156</th>\n",
       "      <td>Survey of mislabelling across finfish supply c...</td>\n",
       "      <td>[survey, mislabelling, finfish, supply, chain,...</td>\n",
       "      <td>[survey, mislabelling, finfish, supply_chain, ...</td>\n",
       "      <td>45</td>\n",
       "    </tr>\n",
       "    <tr>\n",
       "      <th>188</th>\n",
       "      <td>The effect of integration between audit and le...</td>\n",
       "      <td>[the, effect, integration, audit, leadership, ...</td>\n",
       "      <td>[the, effect, integration, audit, leadership, ...</td>\n",
       "      <td>45</td>\n",
       "    </tr>\n",
       "    <tr>\n",
       "      <th>198</th>\n",
       "      <td>Big data-driven supply chain performance measu...</td>\n",
       "      <td>[big, data, driven, supply, chain, performance...</td>\n",
       "      <td>[big_data, driven, supply_chain, performance, ...</td>\n",
       "      <td>45</td>\n",
       "    </tr>\n",
       "    <tr>\n",
       "      <th>212</th>\n",
       "      <td>Data-driven sustainable supply chain managemen...</td>\n",
       "      <td>[data, driven, sustainable, supply, chain, man...</td>\n",
       "      <td>[data_driven, sustainable, supply_chain, manag...</td>\n",
       "      <td>45</td>\n",
       "    </tr>\n",
       "    <tr>\n",
       "      <th>231</th>\n",
       "      <td>THE IMPACT OF ADOPTING ADDITIVE MANUFACTURING ...</td>\n",
       "      <td>[the, impact, of, adopting, additive, manufact...</td>\n",
       "      <td>[the_impact, of, adopting, additive, manufactu...</td>\n",
       "      <td>45</td>\n",
       "    </tr>\n",
       "    <tr>\n",
       "      <th>253</th>\n",
       "      <td>Data‐Driven Supply Chain Orientation and Finan...</td>\n",
       "      <td>[data, driven, supply, chain, orientation, fin...</td>\n",
       "      <td>[data_driven, supply_chain, orientation, finan...</td>\n",
       "      <td>45</td>\n",
       "    </tr>\n",
       "    <tr>\n",
       "      <th>255</th>\n",
       "      <td>Defensible standardized ploidy assessments for...</td>\n",
       "      <td>[defensible, standardized, ploidy, assessments...</td>\n",
       "      <td>[defensible, standardized, ploidy, assessments...</td>\n",
       "      <td>45</td>\n",
       "    </tr>\n",
       "    <tr>\n",
       "      <th>275</th>\n",
       "      <td>Boosting sustainability and financial performa...</td>\n",
       "      <td>[boosting, sustainability, financial, performa...</td>\n",
       "      <td>[boosting, sustainability, financial, performa...</td>\n",
       "      <td>45</td>\n",
       "    </tr>\n",
       "    <tr>\n",
       "      <th>279</th>\n",
       "      <td>Supply chain micro-communities in urban areas</td>\n",
       "      <td>[supply, chain, micro, communities, urban, areas]</td>\n",
       "      <td>[supply_chain, micro, communities, urban, areas]</td>\n",
       "      <td>45</td>\n",
       "    </tr>\n",
       "  </tbody>\n",
       "</table>\n",
       "</div>"
      ],
      "text/plain": [
       "                                              raw_text  \\\n",
       "9    Personal relationships and loyalty in supply c...   \n",
       "11   Does supply chain visibility affect operating ...   \n",
       "20   Toward a Digitally Dominant Paradigm for twent...   \n",
       "31   From consumer to prosumer: a supply chain revo...   \n",
       "36                     How to secure your supply chain   \n",
       "69   Radio frequency identification (RFID) technolo...   \n",
       "73   Performance Impact Analysis of Disruption Prop...   \n",
       "84   Designing response supply chain against bioatt...   \n",
       "104  Achieving sustainable performance in a data-dr...   \n",
       "106  Broadening the perspective of supply chain fin...   \n",
       "145  Predicting supply chain performance based on S...   \n",
       "156  Survey of mislabelling across finfish supply c...   \n",
       "188  The effect of integration between audit and le...   \n",
       "198  Big data-driven supply chain performance measu...   \n",
       "212  Data-driven sustainable supply chain managemen...   \n",
       "231  THE IMPACT OF ADOPTING ADDITIVE MANUFACTURING ...   \n",
       "253  Data‐Driven Supply Chain Orientation and Finan...   \n",
       "255  Defensible standardized ploidy assessments for...   \n",
       "275  Boosting sustainability and financial performa...   \n",
       "279      Supply chain micro-communities in urban areas   \n",
       "\n",
       "                                        processed_text  \\\n",
       "9    [personal, relationships, loyalty, supply, chain]   \n",
       "11   [does, supply, chain, visibility, affect, oper...   \n",
       "20   [toward, digitally, dominant, paradigm, twenty...   \n",
       "31   [from, consumer, prosumer, supply, chain, revo...   \n",
       "36                        [how, secure, supply, chain]   \n",
       "69   [radio, frequency, identification, rfid, techn...   \n",
       "73   [performance, impact, analysis, disruption, pr...   \n",
       "84    [designing, response, supply, chain, bioattacks]   \n",
       "104  [achieving, sustainable, performance, data, dr...   \n",
       "106  [broadening, perspective, supply, chain, finan...   \n",
       "145  [predicting, supply, chain, performance, based...   \n",
       "156  [survey, mislabelling, finfish, supply, chain,...   \n",
       "188  [the, effect, integration, audit, leadership, ...   \n",
       "198  [big, data, driven, supply, chain, performance...   \n",
       "212  [data, driven, sustainable, supply, chain, man...   \n",
       "231  [the, impact, of, adopting, additive, manufact...   \n",
       "253  [data, driven, supply, chain, orientation, fin...   \n",
       "255  [defensible, standardized, ploidy, assessments...   \n",
       "275  [boosting, sustainability, financial, performa...   \n",
       "279  [supply, chain, micro, communities, urban, areas]   \n",
       "\n",
       "                                      bigram_proc_text  kmeans_pred  \n",
       "9     [personal, relationships, loyalty, supply_chain]           45  \n",
       "11   [does, supply_chain, visibility, affect, opera...           45  \n",
       "20   [toward, digitally, dominant, paradigm, twenty...           45  \n",
       "31   [from, consumer, prosumer, supply_chain, revol...           45  \n",
       "36                         [how, secure, supply_chain]           45  \n",
       "69   [radio, frequency, identification, rfid, techn...           45  \n",
       "73   [performance, impact, analysis, disruption, pr...           45  \n",
       "84     [designing, response, supply_chain, bioattacks]           45  \n",
       "104  [achieving, sustainable, performance, data_dri...           45  \n",
       "106  [broadening, perspective, supply_chain, financ...           45  \n",
       "145  [predicting, supply_chain, performance, based,...           45  \n",
       "156  [survey, mislabelling, finfish, supply_chain, ...           45  \n",
       "188  [the, effect, integration, audit, leadership, ...           45  \n",
       "198  [big_data, driven, supply_chain, performance, ...           45  \n",
       "212  [data_driven, sustainable, supply_chain, manag...           45  \n",
       "231  [the_impact, of, adopting, additive, manufactu...           45  \n",
       "253  [data_driven, supply_chain, orientation, finan...           45  \n",
       "255  [defensible, standardized, ploidy, assessments...           45  \n",
       "275  [boosting, sustainability, financial, performa...           45  \n",
       "279   [supply_chain, micro, communities, urban, areas]           45  "
      ]
     },
     "execution_count": 85,
     "metadata": {},
     "output_type": "execute_result"
    }
   ],
   "source": [
    "corpus[corpus['kmeans_pred']==45].head(20)\n",
    "#cant really tell what this one is about. needs more text (like abstract instead of title maybe)"
   ]
  },
  {
   "cell_type": "code",
   "execution_count": 86,
   "metadata": {},
   "outputs": [
    {
     "data": {
      "text/html": [
       "<div>\n",
       "<style scoped>\n",
       "    .dataframe tbody tr th:only-of-type {\n",
       "        vertical-align: middle;\n",
       "    }\n",
       "\n",
       "    .dataframe tbody tr th {\n",
       "        vertical-align: top;\n",
       "    }\n",
       "\n",
       "    .dataframe thead th {\n",
       "        text-align: right;\n",
       "    }\n",
       "</style>\n",
       "<table border=\"1\" class=\"dataframe\">\n",
       "  <thead>\n",
       "    <tr style=\"text-align: right;\">\n",
       "      <th></th>\n",
       "      <th>raw_text</th>\n",
       "      <th>processed_text</th>\n",
       "      <th>bigram_proc_text</th>\n",
       "      <th>kmeans_pred</th>\n",
       "    </tr>\n",
       "  </thead>\n",
       "  <tbody>\n",
       "    <tr>\n",
       "      <th>219</th>\n",
       "      <td>Robust gasoline closed loop supply chain desig...</td>\n",
       "      <td>[robust, gasoline, closed, loop, supply, chain...</td>\n",
       "      <td>[robust, gasoline, closed_loop, supply_chain, ...</td>\n",
       "      <td>37</td>\n",
       "    </tr>\n",
       "    <tr>\n",
       "      <th>290</th>\n",
       "      <td>Service quality coordination contracts for onl...</td>\n",
       "      <td>[service, quality, coordination, contracts, on...</td>\n",
       "      <td>[service, quality, coordination, contracts, on...</td>\n",
       "      <td>37</td>\n",
       "    </tr>\n",
       "    <tr>\n",
       "      <th>355</th>\n",
       "      <td>Moving sequence preference in coopetition outs...</td>\n",
       "      <td>[moving, sequence, preference, coopetition, ou...</td>\n",
       "      <td>[moving, sequence, preference, coopetition, ou...</td>\n",
       "      <td>37</td>\n",
       "    </tr>\n",
       "    <tr>\n",
       "      <th>453</th>\n",
       "      <td>Developing the framework of sustainable servic...</td>\n",
       "      <td>[developing, framework, sustainable, service, ...</td>\n",
       "      <td>[developing, framework, sustainable, service, ...</td>\n",
       "      <td>37</td>\n",
       "    </tr>\n",
       "    <tr>\n",
       "      <th>471</th>\n",
       "      <td>Supply chain-a service delivery enhancement or...</td>\n",
       "      <td>[supply, chain, service, delivery, enhancement...</td>\n",
       "      <td>[supply_chain, service, delivery, enhancement,...</td>\n",
       "      <td>37</td>\n",
       "    </tr>\n",
       "    <tr>\n",
       "      <th>482</th>\n",
       "      <td>3D Printing for Supply Chain Service Companies</td>\n",
       "      <td>[printing, supply, chain, service, companies]</td>\n",
       "      <td>[printing, supply_chain, service, companies]</td>\n",
       "      <td>37</td>\n",
       "    </tr>\n",
       "    <tr>\n",
       "      <th>495</th>\n",
       "      <td>Component Procurement for an Assembly Supply C...</td>\n",
       "      <td>[component, procurement, assembly, supply, cha...</td>\n",
       "      <td>[component, procurement, assembly, supply_chai...</td>\n",
       "      <td>37</td>\n",
       "    </tr>\n",
       "    <tr>\n",
       "      <th>548</th>\n",
       "      <td>Coordination Effects of Market Power and Fairn...</td>\n",
       "      <td>[coordination, effects, market, power, fairnes...</td>\n",
       "      <td>[coordination, effects, market, power, fairnes...</td>\n",
       "      <td>37</td>\n",
       "    </tr>\n",
       "    <tr>\n",
       "      <th>649</th>\n",
       "      <td>After-sale Service Deployment and Information ...</td>\n",
       "      <td>[after, sale, service, deployment, information...</td>\n",
       "      <td>[after, sale, service, deployment, information...</td>\n",
       "      <td>37</td>\n",
       "    </tr>\n",
       "    <tr>\n",
       "      <th>650</th>\n",
       "      <td>Price and Service Competition in a Tourism Sup...</td>\n",
       "      <td>[price, service, competition, tourism, supply,...</td>\n",
       "      <td>[price, service, competition, tourism, supply_...</td>\n",
       "      <td>37</td>\n",
       "    </tr>\n",
       "    <tr>\n",
       "      <th>662</th>\n",
       "      <td>Dynamic pricing and time-to-market strategy in...</td>\n",
       "      <td>[dynamic, pricing, time, to, market, strategy,...</td>\n",
       "      <td>[dynamic, pricing, time, to, market, strategy,...</td>\n",
       "      <td>37</td>\n",
       "    </tr>\n",
       "    <tr>\n",
       "      <th>674</th>\n",
       "      <td>Return and refund policy for product and core ...</td>\n",
       "      <td>[return, refund, policy, product, core, servic...</td>\n",
       "      <td>[return, refund, policy, product, core, servic...</td>\n",
       "      <td>37</td>\n",
       "    </tr>\n",
       "    <tr>\n",
       "      <th>706</th>\n",
       "      <td>Low-Carbon Initiatives of Logistics Service Pr...</td>\n",
       "      <td>[low, carbon, initiatives, logistics, service,...</td>\n",
       "      <td>[low_carbon, initiatives, logistics, service, ...</td>\n",
       "      <td>37</td>\n",
       "    </tr>\n",
       "    <tr>\n",
       "      <th>747</th>\n",
       "      <td>Networked correlation-aware manufacturing serv...</td>\n",
       "      <td>[networked, correlation, aware, manufacturing,...</td>\n",
       "      <td>[networked, correlation, aware, manufacturing,...</td>\n",
       "      <td>37</td>\n",
       "    </tr>\n",
       "    <tr>\n",
       "      <th>824</th>\n",
       "      <td>Service capacity procurement of logistics serv...</td>\n",
       "      <td>[service, capacity, procurement, logistics, se...</td>\n",
       "      <td>[service, capacity, procurement, logistics, se...</td>\n",
       "      <td>37</td>\n",
       "    </tr>\n",
       "    <tr>\n",
       "      <th>825</th>\n",
       "      <td>A Model of an Integrated Analytics Decision Su...</td>\n",
       "      <td>[model, integrated, analytics, decision, suppo...</td>\n",
       "      <td>[model, integrated, analytics, decision_suppor...</td>\n",
       "      <td>37</td>\n",
       "    </tr>\n",
       "    <tr>\n",
       "      <th>854</th>\n",
       "      <td>Supply chain coordination of incomplete preven...</td>\n",
       "      <td>[supply, chain, coordination, incomplete, prev...</td>\n",
       "      <td>[supply_chain, coordination, incomplete, preve...</td>\n",
       "      <td>37</td>\n",
       "    </tr>\n",
       "    <tr>\n",
       "      <th>863</th>\n",
       "      <td>The Complexity Entropy Analysis of a Supply Ch...</td>\n",
       "      <td>[the, complexity, entropy, analysis, supply, c...</td>\n",
       "      <td>[the, complexity, entropy, analysis, supply_ch...</td>\n",
       "      <td>37</td>\n",
       "    </tr>\n",
       "    <tr>\n",
       "      <th>864</th>\n",
       "      <td>Research on Service-oriented Manufacturing Sup...</td>\n",
       "      <td>[research, service, oriented, manufacturing, s...</td>\n",
       "      <td>[research, service, oriented, manufacturing, s...</td>\n",
       "      <td>37</td>\n",
       "    </tr>\n",
       "    <tr>\n",
       "      <th>938</th>\n",
       "      <td>ADVANTAGES OF CLOUD SUPPLY CHAIN MANAGEMENT SY...</td>\n",
       "      <td>[advantages, of, cloud, supply, chain, managem...</td>\n",
       "      <td>[advantages, of, cloud, supply_chain, manageme...</td>\n",
       "      <td>37</td>\n",
       "    </tr>\n",
       "  </tbody>\n",
       "</table>\n",
       "</div>"
      ],
      "text/plain": [
       "                                              raw_text  \\\n",
       "219  Robust gasoline closed loop supply chain desig...   \n",
       "290  Service quality coordination contracts for onl...   \n",
       "355  Moving sequence preference in coopetition outs...   \n",
       "453  Developing the framework of sustainable servic...   \n",
       "471  Supply chain-a service delivery enhancement or...   \n",
       "482     3D Printing for Supply Chain Service Companies   \n",
       "495  Component Procurement for an Assembly Supply C...   \n",
       "548  Coordination Effects of Market Power and Fairn...   \n",
       "649  After-sale Service Deployment and Information ...   \n",
       "650  Price and Service Competition in a Tourism Sup...   \n",
       "662  Dynamic pricing and time-to-market strategy in...   \n",
       "674  Return and refund policy for product and core ...   \n",
       "706  Low-Carbon Initiatives of Logistics Service Pr...   \n",
       "747  Networked correlation-aware manufacturing serv...   \n",
       "824  Service capacity procurement of logistics serv...   \n",
       "825  A Model of an Integrated Analytics Decision Su...   \n",
       "854  Supply chain coordination of incomplete preven...   \n",
       "863  The Complexity Entropy Analysis of a Supply Ch...   \n",
       "864  Research on Service-oriented Manufacturing Sup...   \n",
       "938  ADVANTAGES OF CLOUD SUPPLY CHAIN MANAGEMENT SY...   \n",
       "\n",
       "                                        processed_text  \\\n",
       "219  [robust, gasoline, closed, loop, supply, chain...   \n",
       "290  [service, quality, coordination, contracts, on...   \n",
       "355  [moving, sequence, preference, coopetition, ou...   \n",
       "453  [developing, framework, sustainable, service, ...   \n",
       "471  [supply, chain, service, delivery, enhancement...   \n",
       "482      [printing, supply, chain, service, companies]   \n",
       "495  [component, procurement, assembly, supply, cha...   \n",
       "548  [coordination, effects, market, power, fairnes...   \n",
       "649  [after, sale, service, deployment, information...   \n",
       "650  [price, service, competition, tourism, supply,...   \n",
       "662  [dynamic, pricing, time, to, market, strategy,...   \n",
       "674  [return, refund, policy, product, core, servic...   \n",
       "706  [low, carbon, initiatives, logistics, service,...   \n",
       "747  [networked, correlation, aware, manufacturing,...   \n",
       "824  [service, capacity, procurement, logistics, se...   \n",
       "825  [model, integrated, analytics, decision, suppo...   \n",
       "854  [supply, chain, coordination, incomplete, prev...   \n",
       "863  [the, complexity, entropy, analysis, supply, c...   \n",
       "864  [research, service, oriented, manufacturing, s...   \n",
       "938  [advantages, of, cloud, supply, chain, managem...   \n",
       "\n",
       "                                      bigram_proc_text  kmeans_pred  \n",
       "219  [robust, gasoline, closed_loop, supply_chain, ...           37  \n",
       "290  [service, quality, coordination, contracts, on...           37  \n",
       "355  [moving, sequence, preference, coopetition, ou...           37  \n",
       "453  [developing, framework, sustainable, service, ...           37  \n",
       "471  [supply_chain, service, delivery, enhancement,...           37  \n",
       "482       [printing, supply_chain, service, companies]           37  \n",
       "495  [component, procurement, assembly, supply_chai...           37  \n",
       "548  [coordination, effects, market, power, fairnes...           37  \n",
       "649  [after, sale, service, deployment, information...           37  \n",
       "650  [price, service, competition, tourism, supply_...           37  \n",
       "662  [dynamic, pricing, time, to, market, strategy,...           37  \n",
       "674  [return, refund, policy, product, core, servic...           37  \n",
       "706  [low_carbon, initiatives, logistics, service, ...           37  \n",
       "747  [networked, correlation, aware, manufacturing,...           37  \n",
       "824  [service, capacity, procurement, logistics, se...           37  \n",
       "825  [model, integrated, analytics, decision_suppor...           37  \n",
       "854  [supply_chain, coordination, incomplete, preve...           37  \n",
       "863  [the, complexity, entropy, analysis, supply_ch...           37  \n",
       "864  [research, service, oriented, manufacturing, s...           37  \n",
       "938  [advantages, of, cloud, supply_chain, manageme...           37  "
      ]
     },
     "execution_count": 86,
     "metadata": {},
     "output_type": "execute_result"
    }
   ],
   "source": [
    "corpus[corpus['kmeans_pred']==37].head(20)\n",
    "#service"
   ]
  },
  {
   "cell_type": "code",
   "execution_count": 87,
   "metadata": {},
   "outputs": [
    {
     "data": {
      "text/html": [
       "<div>\n",
       "<style scoped>\n",
       "    .dataframe tbody tr th:only-of-type {\n",
       "        vertical-align: middle;\n",
       "    }\n",
       "\n",
       "    .dataframe tbody tr th {\n",
       "        vertical-align: top;\n",
       "    }\n",
       "\n",
       "    .dataframe thead th {\n",
       "        text-align: right;\n",
       "    }\n",
       "</style>\n",
       "<table border=\"1\" class=\"dataframe\">\n",
       "  <thead>\n",
       "    <tr style=\"text-align: right;\">\n",
       "      <th></th>\n",
       "      <th>raw_text</th>\n",
       "      <th>processed_text</th>\n",
       "      <th>bigram_proc_text</th>\n",
       "      <th>kmeans_pred</th>\n",
       "    </tr>\n",
       "  </thead>\n",
       "  <tbody>\n",
       "    <tr>\n",
       "      <th>0</th>\n",
       "      <td>A behavioral investigation of supply chain con...</td>\n",
       "      <td>[behavioral, investigation, supply, chain, con...</td>\n",
       "      <td>[behavioral, investigation, supply_chain, cont...</td>\n",
       "      <td>41</td>\n",
       "    </tr>\n",
       "    <tr>\n",
       "      <th>23</th>\n",
       "      <td>Cyber risk from IoT technologies in the supply...</td>\n",
       "      <td>[cyber, risk, iot, technologies, supply, chain...</td>\n",
       "      <td>[cyber, risk, iot, technologies, supply_chain,...</td>\n",
       "      <td>41</td>\n",
       "    </tr>\n",
       "    <tr>\n",
       "      <th>37</th>\n",
       "      <td>Towards Industry 4.0: Mapping digital technolo...</td>\n",
       "      <td>[towards, industry, mapping, digital, technolo...</td>\n",
       "      <td>[towards, industry, mapping, digital, technolo...</td>\n",
       "      <td>41</td>\n",
       "    </tr>\n",
       "    <tr>\n",
       "      <th>350</th>\n",
       "      <td>Risk, Trustworthiness, and Justice: Understand...</td>\n",
       "      <td>[risk, trustworthiness, justice, understanding...</td>\n",
       "      <td>[risk, trustworthiness, justice, understanding...</td>\n",
       "      <td>41</td>\n",
       "    </tr>\n",
       "    <tr>\n",
       "      <th>384</th>\n",
       "      <td>Towards a decision support framework for techn...</td>\n",
       "      <td>[towards, decision, support, framework, techno...</td>\n",
       "      <td>[towards, decision_support, framework, technol...</td>\n",
       "      <td>41</td>\n",
       "    </tr>\n",
       "    <tr>\n",
       "      <th>437</th>\n",
       "      <td>Decision support system for light petroleum pr...</td>\n",
       "      <td>[decision, support, light, petroleum, products...</td>\n",
       "      <td>[decision_support, light, petroleum, products,...</td>\n",
       "      <td>41</td>\n",
       "    </tr>\n",
       "    <tr>\n",
       "      <th>828</th>\n",
       "      <td>PERCEPTUS: Predictive complex event processing...</td>\n",
       "      <td>[perceptus, predictive, complex, event, proces...</td>\n",
       "      <td>[perceptus, predictive, complex, event, proces...</td>\n",
       "      <td>41</td>\n",
       "    </tr>\n",
       "    <tr>\n",
       "      <th>939</th>\n",
       "      <td>The Review of Risk Identification of E-Commerc...</td>\n",
       "      <td>[the, review, risk, identification, commerce, ...</td>\n",
       "      <td>[the, review, risk, identification, commerce, ...</td>\n",
       "      <td>41</td>\n",
       "    </tr>\n",
       "    <tr>\n",
       "      <th>942</th>\n",
       "      <td>How the Digital Economy is Impacting the Suppl...</td>\n",
       "      <td>[how, digital, economy, impacting, supply, chain]</td>\n",
       "      <td>[how, digital, economy, impacting, supply_chain]</td>\n",
       "      <td>41</td>\n",
       "    </tr>\n",
       "    <tr>\n",
       "      <th>960</th>\n",
       "      <td>Defining granularity levels for supply chain t...</td>\n",
       "      <td>[defining, granularity, levels, supply, chain,...</td>\n",
       "      <td>[defining, granularity, levels, supply_chain, ...</td>\n",
       "      <td>41</td>\n",
       "    </tr>\n",
       "    <tr>\n",
       "      <th>979</th>\n",
       "      <td>Cyber-Physical Systems (CPS) als technologisch...</td>\n",
       "      <td>[cyber, physical, systems, cps, als, technolog...</td>\n",
       "      <td>[cyber, physical, systems, cps, als, technolog...</td>\n",
       "      <td>41</td>\n",
       "    </tr>\n",
       "  </tbody>\n",
       "</table>\n",
       "</div>"
      ],
      "text/plain": [
       "                                              raw_text  \\\n",
       "0    A behavioral investigation of supply chain con...   \n",
       "23   Cyber risk from IoT technologies in the supply...   \n",
       "37   Towards Industry 4.0: Mapping digital technolo...   \n",
       "350  Risk, Trustworthiness, and Justice: Understand...   \n",
       "384  Towards a decision support framework for techn...   \n",
       "437  Decision support system for light petroleum pr...   \n",
       "828  PERCEPTUS: Predictive complex event processing...   \n",
       "939  The Review of Risk Identification of E-Commerc...   \n",
       "942  How the Digital Economy is Impacting the Suppl...   \n",
       "960  Defining granularity levels for supply chain t...   \n",
       "979  Cyber-Physical Systems (CPS) als technologisch...   \n",
       "\n",
       "                                        processed_text  \\\n",
       "0    [behavioral, investigation, supply, chain, con...   \n",
       "23   [cyber, risk, iot, technologies, supply, chain...   \n",
       "37   [towards, industry, mapping, digital, technolo...   \n",
       "350  [risk, trustworthiness, justice, understanding...   \n",
       "384  [towards, decision, support, framework, techno...   \n",
       "437  [decision, support, light, petroleum, products...   \n",
       "828  [perceptus, predictive, complex, event, proces...   \n",
       "939  [the, review, risk, identification, commerce, ...   \n",
       "942  [how, digital, economy, impacting, supply, chain]   \n",
       "960  [defining, granularity, levels, supply, chain,...   \n",
       "979  [cyber, physical, systems, cps, als, technolog...   \n",
       "\n",
       "                                      bigram_proc_text  kmeans_pred  \n",
       "0    [behavioral, investigation, supply_chain, cont...           41  \n",
       "23   [cyber, risk, iot, technologies, supply_chain,...           41  \n",
       "37   [towards, industry, mapping, digital, technolo...           41  \n",
       "350  [risk, trustworthiness, justice, understanding...           41  \n",
       "384  [towards, decision_support, framework, technol...           41  \n",
       "437  [decision_support, light, petroleum, products,...           41  \n",
       "828  [perceptus, predictive, complex, event, proces...           41  \n",
       "939  [the, review, risk, identification, commerce, ...           41  \n",
       "942   [how, digital, economy, impacting, supply_chain]           41  \n",
       "960  [defining, granularity, levels, supply_chain, ...           41  \n",
       "979  [cyber, physical, systems, cps, als, technolog...           41  "
      ]
     },
     "execution_count": 87,
     "metadata": {},
     "output_type": "execute_result"
    }
   ],
   "source": [
    "corpus[corpus['kmeans_pred']==41].head(20)\n",
    "#cyber and IoT"
   ]
  },
  {
   "cell_type": "code",
   "execution_count": null,
   "metadata": {},
   "outputs": [],
   "source": [
    "#sustainability/green/env friendly, supply disruption, cyber risks from IoT\n",
    "#supplier evaluation and selection (optimized)\n",
    "\n",
    "#all of the typical ways people deal with uncertainty & decision making (like fuzzy logic)"
   ]
  },
  {
   "cell_type": "markdown",
   "metadata": {},
   "source": [
    "## Do LDA with LDA vis for a little more intuition"
   ]
  },
  {
   "cell_type": "markdown",
   "metadata": {},
   "source": [
    "LDA assumes \"topics\" (what the doc is about) can be quantified by a group of words associated with the topic.\n",
    "\n",
    "LIke, for a document about dogs, the words \"dog\", \"bowl\", \"paw\", \"woof\" are the words for the topics.\n",
    "\n",
    "We see those words, we say, \"oh, this topic is about dogs\""
   ]
  },
  {
   "cell_type": "code",
   "execution_count": 32,
   "metadata": {},
   "outputs": [],
   "source": [
    "from sklearn.decomposition import LatentDirichletAllocation\n",
    "import pyLDAvis.sklearn\n",
    "pyLDAvis.enable_notebook()"
   ]
  },
  {
   "cell_type": "code",
   "execution_count": 88,
   "metadata": {},
   "outputs": [],
   "source": [
    "lda = LatentDirichletAllocation(n_components=5)"
   ]
  },
  {
   "cell_type": "markdown",
   "metadata": {},
   "source": [
    "the tough part is: we don't know how many topics. so, to save time, i'll just start at five"
   ]
  },
  {
   "cell_type": "code",
   "execution_count": 89,
   "metadata": {},
   "outputs": [
    {
     "name": "stderr",
     "output_type": "stream",
     "text": [
      "/anaconda3/lib/python3.6/site-packages/sklearn/decomposition/online_lda.py:536: DeprecationWarning: The default value for 'learning_method' will be changed from 'online' to 'batch' in the release 0.20. This warning was introduced in 0.18.\n",
      "  DeprecationWarning)\n"
     ]
    },
    {
     "data": {
      "text/plain": [
       "LatentDirichletAllocation(batch_size=128, doc_topic_prior=None,\n",
       "             evaluate_every=-1, learning_decay=0.7, learning_method=None,\n",
       "             learning_offset=10.0, max_doc_update_iter=100, max_iter=10,\n",
       "             mean_change_tol=0.001, n_components=15, n_jobs=1,\n",
       "             n_topics=None, perp_tol=0.1, random_state=None,\n",
       "             topic_word_prior=None, total_samples=1000000.0, verbose=0)"
      ]
     },
     "execution_count": 89,
     "metadata": {},
     "output_type": "execute_result"
    }
   ],
   "source": [
    "lda.fit(vectorized)"
   ]
  },
  {
   "cell_type": "markdown",
   "metadata": {},
   "source": [
    "now let's visualize using pyLDAvis, which gives a great representation of the topics."
   ]
  },
  {
   "cell_type": "code",
   "execution_count": 90,
   "metadata": {},
   "outputs": [
    {
     "data": {
      "text/html": [
       "\n",
       "<link rel=\"stylesheet\" type=\"text/css\" href=\"https://cdn.rawgit.com/bmabey/pyLDAvis/files/ldavis.v1.0.0.css\">\n",
       "\n",
       "\n",
       "<div id=\"ldavis_el2865850414560164848228254\"></div>\n",
       "<script type=\"text/javascript\">\n",
       "\n",
       "var ldavis_el2865850414560164848228254_data = {\"mdsDat\": {\"Freq\": [44.265023669097175, 10.234094860346286, 6.077294862384792, 6.050834886526016, 5.451176195253084, 3.4503780150069607, 3.2248613457337942, 2.8998975738917956, 2.877925443248839, 2.769289577436512, 2.694512927974692, 2.611104872470508, 2.4857926462693634, 2.472260741034141, 2.4355523833260464], \"cluster\": [1, 1, 1, 1, 1, 1, 1, 1, 1, 1, 1, 1, 1, 1, 1], \"topics\": [1, 2, 3, 4, 5, 6, 7, 8, 9, 10, 11, 12, 13, 14, 15], \"x\": [0.1924608345611858, 0.10084123340140963, -0.006758243132521679, -0.007351146001451285, -0.019743586377300823, -0.03688289400467444, -0.019823696293131465, -0.026929627336801664, -0.027363320477528576, -0.03461528646327166, -0.02377352715932496, -0.027212160988500704, -0.01777317487040544, -0.022272828162103946, -0.02280257669557877], \"y\": [0.08170320321462841, -0.1446568498046411, 0.0015166772380612369, 0.028892357397562782, 0.01490807519627437, 0.002094025257572496, -0.0024485763116290768, 0.00791407530653593, 0.010340286868668124, 0.006243888163680618, 0.0009685447488471295, -0.001399162265043487, -0.00659222706791966, 0.0002462829181930394, 0.00026939913920946316]}, \"tinfo\": {\"Category\": [\"Default\", \"Default\", \"Default\", \"Default\", \"Default\", \"Default\", \"Default\", \"Default\", \"Default\", \"Default\", \"Default\", \"Default\", \"Default\", \"Default\", \"Default\", \"Default\", \"Default\", \"Default\", \"Default\", \"Default\", \"Default\", \"Default\", \"Default\", \"Default\", \"Default\", \"Default\", \"Default\", \"Default\", \"Default\", \"Default\", \"Topic1\", \"Topic1\", \"Topic1\", \"Topic1\", \"Topic1\", \"Topic1\", \"Topic1\", \"Topic1\", \"Topic1\", \"Topic1\", \"Topic1\", \"Topic1\", \"Topic1\", \"Topic1\", \"Topic1\", \"Topic1\", \"Topic1\", \"Topic1\", \"Topic1\", \"Topic1\", \"Topic1\", \"Topic1\", \"Topic1\", \"Topic1\", \"Topic1\", \"Topic1\", \"Topic1\", \"Topic1\", \"Topic1\", \"Topic1\", \"Topic1\", \"Topic1\", \"Topic1\", \"Topic1\", \"Topic1\", \"Topic1\", \"Topic1\", \"Topic1\", \"Topic1\", \"Topic1\", \"Topic1\", \"Topic1\", \"Topic1\", \"Topic1\", \"Topic1\", \"Topic1\", \"Topic1\", \"Topic1\", \"Topic1\", \"Topic1\", \"Topic1\", \"Topic1\", \"Topic1\", \"Topic1\", \"Topic2\", \"Topic2\", \"Topic2\", \"Topic2\", \"Topic2\", \"Topic2\", \"Topic2\", \"Topic2\", \"Topic2\", \"Topic2\", \"Topic2\", \"Topic2\", \"Topic2\", \"Topic2\", \"Topic2\", \"Topic2\", \"Topic2\", \"Topic2\", \"Topic2\", \"Topic2\", \"Topic2\", \"Topic2\", \"Topic2\", \"Topic2\", \"Topic2\", \"Topic2\", \"Topic2\", \"Topic2\", \"Topic2\", \"Topic2\", \"Topic2\", \"Topic2\", \"Topic2\", \"Topic2\", \"Topic2\", \"Topic2\", \"Topic2\", \"Topic2\", \"Topic2\", \"Topic2\", \"Topic2\", \"Topic2\", \"Topic2\", \"Topic2\", \"Topic2\", \"Topic2\", \"Topic2\", \"Topic2\", \"Topic2\", \"Topic2\", \"Topic2\", \"Topic2\", \"Topic2\", \"Topic2\", \"Topic2\", \"Topic2\", \"Topic2\", \"Topic2\", \"Topic3\", \"Topic3\", \"Topic3\", \"Topic3\", \"Topic3\", \"Topic3\", \"Topic3\", \"Topic3\", \"Topic3\", \"Topic3\", \"Topic3\", \"Topic3\", \"Topic3\", \"Topic3\", \"Topic3\", \"Topic3\", \"Topic3\", \"Topic3\", \"Topic3\", \"Topic3\", \"Topic3\", \"Topic3\", \"Topic3\", \"Topic3\", \"Topic3\", \"Topic3\", \"Topic3\", \"Topic3\", \"Topic3\", \"Topic3\", \"Topic3\", \"Topic3\", \"Topic3\", \"Topic3\", \"Topic3\", \"Topic3\", \"Topic3\", \"Topic3\", \"Topic3\", \"Topic3\", \"Topic3\", \"Topic3\", \"Topic3\", \"Topic3\", \"Topic3\", \"Topic3\", \"Topic3\", \"Topic3\", \"Topic3\", \"Topic3\", \"Topic3\", \"Topic3\", \"Topic4\", \"Topic4\", \"Topic4\", \"Topic4\", \"Topic4\", \"Topic4\", \"Topic4\", \"Topic4\", \"Topic4\", \"Topic4\", \"Topic4\", \"Topic4\", \"Topic4\", \"Topic4\", \"Topic4\", \"Topic4\", \"Topic4\", \"Topic4\", \"Topic4\", \"Topic4\", \"Topic4\", \"Topic4\", \"Topic4\", \"Topic4\", \"Topic4\", \"Topic4\", \"Topic4\", \"Topic4\", \"Topic4\", \"Topic4\", \"Topic4\", \"Topic4\", \"Topic4\", \"Topic4\", \"Topic4\", \"Topic4\", \"Topic4\", \"Topic4\", \"Topic4\", \"Topic4\", \"Topic4\", \"Topic4\", \"Topic4\", \"Topic4\", \"Topic4\", \"Topic4\", \"Topic4\", \"Topic4\", \"Topic4\", \"Topic4\", \"Topic4\", \"Topic4\", \"Topic4\", \"Topic5\", \"Topic5\", \"Topic5\", \"Topic5\", \"Topic5\", \"Topic5\", \"Topic5\", \"Topic5\", \"Topic5\", \"Topic5\", \"Topic5\", \"Topic5\", \"Topic5\", \"Topic5\", \"Topic5\", \"Topic5\", \"Topic5\", \"Topic5\", \"Topic5\", \"Topic5\", \"Topic5\", \"Topic5\", \"Topic5\", \"Topic5\", \"Topic5\", \"Topic5\", \"Topic5\", \"Topic5\", \"Topic5\", \"Topic5\", \"Topic5\", \"Topic5\", \"Topic5\", \"Topic5\", \"Topic5\", \"Topic5\", \"Topic5\", \"Topic5\", \"Topic5\", \"Topic5\", \"Topic5\", \"Topic5\", \"Topic5\", \"Topic5\", \"Topic5\", \"Topic5\", \"Topic5\", \"Topic6\", \"Topic6\", \"Topic6\", \"Topic6\", \"Topic6\", \"Topic6\", \"Topic6\", \"Topic6\", \"Topic6\", \"Topic6\", \"Topic6\", \"Topic6\", \"Topic6\", \"Topic6\", \"Topic6\", \"Topic6\", \"Topic6\", \"Topic6\", \"Topic6\", \"Topic6\", \"Topic6\", \"Topic6\", \"Topic6\", \"Topic6\", \"Topic6\", \"Topic6\", \"Topic6\", \"Topic6\", \"Topic6\", \"Topic6\", \"Topic6\", \"Topic6\", \"Topic6\", \"Topic6\", \"Topic6\", \"Topic6\", \"Topic6\", \"Topic6\", \"Topic6\", \"Topic6\", \"Topic6\", \"Topic6\", \"Topic6\", \"Topic6\", \"Topic6\", \"Topic6\", \"Topic7\", \"Topic7\", \"Topic7\", \"Topic7\", \"Topic7\", \"Topic7\", \"Topic7\", \"Topic7\", \"Topic7\", \"Topic7\", \"Topic7\", \"Topic7\", \"Topic7\", \"Topic7\", \"Topic7\", \"Topic7\", \"Topic7\", \"Topic7\", \"Topic7\", \"Topic7\", \"Topic7\", \"Topic7\", \"Topic7\", \"Topic7\", \"Topic7\", \"Topic7\", \"Topic7\", \"Topic7\", \"Topic7\", \"Topic7\", \"Topic7\", \"Topic7\", \"Topic7\", \"Topic7\", \"Topic7\", \"Topic7\", \"Topic7\", \"Topic7\", \"Topic7\", \"Topic7\", \"Topic7\", \"Topic7\", \"Topic8\", \"Topic8\", \"Topic8\", \"Topic8\", \"Topic8\", \"Topic8\", \"Topic8\", \"Topic8\", \"Topic8\", \"Topic8\", \"Topic8\", \"Topic8\", \"Topic8\", \"Topic8\", \"Topic8\", \"Topic8\", \"Topic8\", \"Topic8\", \"Topic8\", \"Topic8\", \"Topic8\", \"Topic8\", \"Topic8\", \"Topic8\", \"Topic8\", \"Topic8\", \"Topic8\", \"Topic8\", \"Topic8\", \"Topic8\", \"Topic8\", \"Topic8\", \"Topic8\", \"Topic8\", \"Topic8\", \"Topic8\", \"Topic8\", \"Topic8\", \"Topic8\", \"Topic8\", \"Topic8\", \"Topic8\", \"Topic9\", \"Topic9\", \"Topic9\", \"Topic9\", \"Topic9\", \"Topic9\", \"Topic9\", \"Topic9\", \"Topic9\", \"Topic9\", \"Topic9\", \"Topic9\", \"Topic9\", \"Topic9\", \"Topic9\", \"Topic9\", \"Topic9\", \"Topic9\", \"Topic9\", \"Topic9\", \"Topic9\", \"Topic9\", \"Topic9\", \"Topic9\", \"Topic9\", \"Topic9\", \"Topic9\", \"Topic9\", \"Topic9\", \"Topic9\", \"Topic9\", \"Topic9\", \"Topic9\", \"Topic9\", \"Topic9\", \"Topic9\", \"Topic9\", \"Topic9\", \"Topic9\", \"Topic9\", \"Topic9\", \"Topic9\", \"Topic10\", \"Topic10\", \"Topic10\", \"Topic10\", \"Topic10\", \"Topic10\", \"Topic10\", \"Topic10\", \"Topic10\", \"Topic10\", \"Topic10\", \"Topic10\", \"Topic10\", \"Topic10\", \"Topic10\", \"Topic10\", \"Topic10\", \"Topic10\", \"Topic10\", \"Topic10\", \"Topic10\", \"Topic10\", \"Topic10\", \"Topic10\", \"Topic10\", \"Topic10\", \"Topic10\", \"Topic10\", \"Topic10\", \"Topic10\", \"Topic10\", \"Topic10\", \"Topic10\", \"Topic10\", \"Topic10\", \"Topic10\", \"Topic10\", \"Topic10\", \"Topic11\", \"Topic11\", \"Topic11\", \"Topic11\", \"Topic11\", \"Topic11\", \"Topic11\", \"Topic11\", \"Topic11\", \"Topic11\", \"Topic11\", \"Topic11\", \"Topic11\", \"Topic11\", \"Topic11\", \"Topic11\", \"Topic11\", \"Topic11\", \"Topic11\", \"Topic11\", \"Topic11\", \"Topic11\", \"Topic11\", \"Topic11\", \"Topic11\", \"Topic11\", \"Topic11\", \"Topic11\", \"Topic11\", \"Topic11\", \"Topic11\", \"Topic11\", \"Topic11\", \"Topic11\", \"Topic11\", \"Topic11\", \"Topic11\", \"Topic11\", \"Topic11\", \"Topic11\", \"Topic11\", \"Topic11\", \"Topic11\", \"Topic11\", \"Topic12\", \"Topic12\", \"Topic12\", \"Topic12\", \"Topic12\", \"Topic12\", \"Topic12\", \"Topic12\", \"Topic12\", \"Topic12\", \"Topic12\", \"Topic12\", \"Topic12\", \"Topic12\", \"Topic12\", \"Topic12\", \"Topic12\", \"Topic12\", \"Topic12\", \"Topic12\", \"Topic12\", \"Topic12\", \"Topic12\", \"Topic12\", \"Topic12\", \"Topic12\", \"Topic12\", \"Topic12\", \"Topic12\", \"Topic12\", \"Topic12\", \"Topic12\", \"Topic12\", \"Topic12\", \"Topic12\", \"Topic12\", \"Topic12\", \"Topic12\", \"Topic12\", \"Topic12\", \"Topic12\", \"Topic12\", \"Topic12\", \"Topic12\", \"Topic12\", \"Topic13\", \"Topic13\", \"Topic13\", \"Topic13\", \"Topic13\", \"Topic13\", \"Topic13\", \"Topic13\", \"Topic13\", \"Topic13\", \"Topic13\", \"Topic13\", \"Topic13\", \"Topic13\", \"Topic13\", \"Topic13\", \"Topic13\", \"Topic13\", \"Topic13\", \"Topic13\", \"Topic13\", \"Topic13\", \"Topic13\", \"Topic13\", \"Topic13\", \"Topic13\", \"Topic13\", \"Topic13\", \"Topic13\", \"Topic13\", \"Topic13\", \"Topic13\", \"Topic13\", \"Topic13\", \"Topic13\", \"Topic13\", \"Topic13\", \"Topic13\", \"Topic14\", \"Topic14\", \"Topic14\", \"Topic14\", \"Topic14\", \"Topic14\", \"Topic14\", \"Topic14\", \"Topic14\", \"Topic14\", \"Topic14\", \"Topic14\", \"Topic14\", \"Topic14\", \"Topic14\", \"Topic14\", \"Topic14\", \"Topic14\", \"Topic14\", \"Topic14\", \"Topic14\", \"Topic14\", \"Topic14\", \"Topic14\", \"Topic14\", \"Topic14\", \"Topic14\", \"Topic14\", \"Topic14\", \"Topic14\", \"Topic14\", \"Topic14\", \"Topic14\", \"Topic14\", \"Topic14\", \"Topic14\", \"Topic14\", \"Topic14\", \"Topic15\", \"Topic15\", \"Topic15\", \"Topic15\", \"Topic15\", \"Topic15\", \"Topic15\", \"Topic15\", \"Topic15\", \"Topic15\", \"Topic15\", \"Topic15\", \"Topic15\", \"Topic15\", \"Topic15\", \"Topic15\", \"Topic15\", \"Topic15\", \"Topic15\", \"Topic15\", \"Topic15\", \"Topic15\", \"Topic15\", \"Topic15\", \"Topic15\", \"Topic15\", \"Topic15\", \"Topic15\", \"Topic15\", \"Topic15\", \"Topic15\", \"Topic15\", \"Topic15\", \"Topic15\", \"Topic15\", \"Topic15\", \"Topic15\", \"Topic15\", \"Topic15\", \"Topic15\", \"Topic15\"], \"Freq\": [6.0, 5.0, 13.0, 5.0, 43.0, 5.0, 8.0, 22.0, 10.0, 3.0, 5.0, 4.0, 6.0, 6.0, 8.0, 3.0, 2.0, 9.0, 6.0, 2.0, 2.0, 8.0, 2.0, 5.0, 8.0, 4.0, 5.0, 9.0, 2.0, 4.0, 5.403741890550656, 6.059403595669987, 13.897863917554016, 3.7979248904038605, 4.454804775063851, 4.673723844067341, 3.9319998483775405, 3.3786193651062115, 4.3847756793051005, 12.446978801176918, 4.560565099783518, 3.0815227102023726, 3.0649625444876034, 3.041388962583328, 3.043906175991424, 3.0426953234429646, 3.5013076998668526, 2.8637893189529384, 4.115277220804604, 8.723047585487688, 3.886584507557939, 3.9523053646139377, 5.147540703193479, 2.7905988336964436, 2.7317894505577667, 7.6383052462297165, 2.694528812135725, 2.6874097319620067, 3.356537041230662, 2.5935504587806504, 5.989278984634156, 5.120157900204276, 3.7499756708081686, 5.201909702794442, 4.453532311555614, 8.408477424011297, 9.211594550866101, 29.033498091707028, 5.190712541100571, 14.41517883369371, 4.786487099491812, 4.478085196138717, 5.326778950043042, 6.494055733641948, 6.356387844240103, 8.351434341474395, 5.550847371913114, 5.695576458359426, 5.286798555777094, 5.7672842056608555, 4.85383443224253, 4.901193525114132, 4.836280574216471, 4.495522570416602, 1.7026206864143045, 1.2475425948316585, 1.578291480519064, 1.2151896082662264, 1.830260812189901, 1.1314688568430655, 1.4632400926002262, 1.111960984891264, 0.7949164619825683, 1.7001853239928535, 0.7392939577989965, 0.7087646131130745, 0.7040979227111953, 0.9582175220796744, 0.6559014641494387, 2.1301734184089716, 0.644917441624737, 0.628448081039647, 1.134958963410627, 0.6121766713056568, 0.5932694226737468, 0.5921263397316735, 0.5766105211043306, 0.7697864201777725, 0.5582123696900534, 0.5525604444147277, 0.535671602601066, 0.5332416875682715, 0.528052847918265, 0.5273964525776701, 1.4024102609741111, 0.7334773461086773, 0.9486856427360049, 0.7673625601887163, 2.9032327235152895, 0.8036196979202616, 2.496468167428493, 2.487650954452771, 1.7506915835426389, 1.0402212803193045, 2.603739453232491, 1.2805892799058505, 1.2265149942849762, 1.1399985635175123, 2.0225754374007523, 5.429001731653978, 2.18754750997819, 3.0843979798415844, 1.9949767377663103, 1.4828935590591141, 1.6077279535355489, 1.2608490162233148, 1.1287308415981017, 1.2991599596750012, 1.2853548645337887, 1.2549201224546234, 1.1937677749610844, 1.2724508508662413, 0.9708356394988118, 0.9685887203636179, 0.8446791350671682, 2.321741321043958, 0.6094559248258793, 1.510412437221454, 0.5558580876948155, 0.5105261319733281, 0.7876364992031363, 0.48825696981047745, 0.4647942864468476, 0.4453310909854207, 0.4450208340404171, 0.437993392380397, 2.4623000100308587, 0.9119166523479437, 0.4287787924956113, 0.4134773572292435, 0.4131667824759006, 0.41404322856416553, 0.4132579985250827, 0.4133110438736744, 0.3725880963497105, 0.3616287091427165, 0.4287991027051215, 0.3371833952928291, 0.33714565332691854, 0.3314694599845118, 0.3312122677154904, 0.32880303784874193, 0.48188083514137875, 0.4911816948296327, 0.5846197957250587, 0.9588006661826527, 0.3925912732220642, 0.545887367541751, 1.4528789638239896, 1.3433040655938573, 1.7066767352232919, 1.3707665169236047, 0.9047076564717903, 0.6040049974416557, 1.919971406881193, 0.6027625919877921, 0.7542638493946696, 0.6103325911257592, 0.5657849201599794, 0.5120258626122193, 0.5336203101962798, 0.5417979706016811, 0.5066644285888076, 0.5157230046350336, 1.0982002397786703, 1.3097214110404016, 0.8441093370091667, 0.799503516380164, 0.5951768507371453, 0.5687015944083862, 0.5215140526046044, 0.6363096808160682, 0.4993149721748676, 0.4889747800968194, 0.47917567507782555, 0.46096006564614406, 0.45675848338449726, 0.5725829842588401, 0.4323279074052952, 0.43039650279790403, 0.43031150195431567, 0.4301779264330285, 0.4300427822692078, 0.42571913059896616, 0.8154768633213278, 0.41471418194039383, 0.4139478782614613, 0.39345061272724974, 0.393483189886132, 0.5728756388960075, 0.4986101105867393, 0.35082314573224654, 0.9168702044506399, 0.33955538339716823, 0.6151081157374017, 0.5410495632816517, 0.6682444212399906, 1.9716162720654111, 0.7344739181176816, 1.0277546217359432, 0.8632829863796799, 0.8111436339907511, 1.0706550396732937, 0.5265746673175629, 1.1663675425677786, 1.5937322544001704, 1.959713869416517, 0.9489240845468745, 0.8214642559549477, 0.6376729123090898, 0.7597690107462278, 0.6793944497321749, 0.8817306502027011, 0.6749710403396675, 0.6710491048493783, 0.6102647537334869, 0.5924107491952925, 1.9870030177323605, 1.5387294183049167, 1.8329461120523085, 0.9083609030625867, 0.754933281470257, 0.7431622632216476, 0.554067359489912, 0.549263694503311, 0.5320972920172513, 0.5022934724146706, 0.5003667685187474, 0.46800883233614043, 0.6328912548551909, 0.3996898870214317, 0.5788958890018795, 0.376142761109314, 0.37613365491613476, 0.3758557624181069, 2.5063155775946626, 0.36066390641468954, 0.3536348736152127, 0.3500629265816255, 0.3359245019017275, 0.4563902826982423, 0.6632396587998557, 0.33329846096695814, 0.4813547383270767, 0.32622416856619635, 0.8073109830264453, 0.3113101760973453, 0.6897998016654925, 0.8979487894854773, 0.6656858363585885, 1.6831367471216725, 0.5472695893516943, 0.4991383137616987, 1.5713481011777906, 0.7729339298345876, 0.7430749247792614, 0.7512016589741904, 0.8075470517624911, 1.4216799956324588, 0.6899040485378823, 0.9491661865255099, 0.6406513638923046, 0.519257153631314, 0.5242619627826062, 1.019369386083532, 0.7201519152516059, 0.39735714381638204, 0.8440409662873483, 0.28352055523519765, 0.40823922599879936, 0.2736597884385984, 0.27213902654134386, 0.27222336752138426, 0.3470094064472727, 0.26918368418191724, 0.26018150968745907, 0.4953758367968192, 0.2419128482542047, 0.24116779436444302, 0.2337909534914904, 0.2337099248862455, 0.3535400145726121, 0.22879145762941003, 0.21869988941533178, 0.21878044518925796, 0.21724493111298593, 0.32938391321628974, 0.20358990588219478, 0.20334616735327046, 0.20245606103504502, 0.2022545510628257, 0.2000908753793883, 0.19986806068298962, 0.19978362533139793, 0.6007372991352559, 0.8076889696643483, 0.42379988925958584, 0.35779674468240624, 0.30664422886977155, 0.2559579301232777, 0.4117235900250246, 0.4403849923057615, 0.29803099797302934, 0.260163699047661, 0.37611906014129914, 0.3040327389348484, 0.5115222253914622, 0.2634495741447944, 0.25942067373040456, 0.30586118702054393, 0.7854252961917744, 0.7748121375390431, 0.5144833224161663, 0.42117475417798544, 0.4213203095868957, 0.41439012129983316, 0.3385409468991306, 0.3149170979764482, 0.2922622654196205, 0.2922160750134866, 0.2923336080681908, 0.2922190599150403, 0.2923253398208218, 0.2922299544414357, 0.2921624476624563, 0.3980608064197232, 0.28348147312613914, 0.23334706728293264, 0.22985619401729396, 0.22609226507417965, 0.22605632353196062, 0.22606324041299972, 0.225996626813894, 0.2260254333501564, 0.22593983248196398, 0.22597614681296188, 0.3111145691334132, 0.22444492889136416, 0.22436539770385786, 0.22254268162672544, 0.31836478630719667, 0.5801711494870201, 0.4019969300822477, 0.31554151451284906, 0.565942305401527, 0.43823030895593507, 0.31055566440888177, 0.5821803235290962, 0.31365020891155965, 0.34893051565904204, 0.3517484641464096, 0.2785572727639802, 0.7781653545170585, 0.45795184664826555, 0.5675884816431064, 0.4451052758077823, 0.41005504765198836, 0.9696071449142504, 0.35559795558013085, 0.3227466948200496, 0.4367267754139463, 0.3057375954145827, 0.32072358578295895, 0.23887700895909983, 0.23906681137266808, 0.2390992351185215, 0.2390400210110369, 0.23899601436691978, 0.23895603479061403, 0.23895790467242894, 0.40510150062943656, 0.4700542034422366, 0.20879326866752884, 0.20880482586372467, 0.20287079632007354, 0.20281149763446146, 0.1985768128674148, 0.19848162001322128, 0.4506318136269956, 0.18814449481894374, 0.18810674589908805, 0.18794537647721898, 0.668707662531997, 0.46192561731090964, 0.33693554054766295, 0.4651976947491959, 0.22716213602826546, 0.3223610781251803, 0.3495361580938932, 0.24455249925034797, 0.6143782689439651, 0.2939928679899577, 0.25684107558456687, 0.24018954874020784, 0.9004357501444076, 0.31088706874391814, 0.2600040897322528, 0.2502834764001439, 0.25018774660884147, 0.24579024084347917, 0.24403967962598935, 0.24412468623626388, 0.2440041400650021, 0.24422691384207945, 0.24420671264745442, 0.24416581283189756, 0.24404605409969557, 0.24402536284279436, 0.23836635810443133, 0.23853823780030992, 0.23552970068558168, 0.23544796649587788, 0.22949575565846791, 0.22925972548894918, 0.21526931079322578, 0.21058972909926674, 0.203169618248737, 0.20315019314715407, 0.19980654419305935, 0.19976468648361093, 0.19085258014368925, 0.19058592430717466, 0.18477639093026238, 0.17560237034798953, 0.17568353650614865, 0.23202789717652952, 0.23202175099484926, 0.3226189627501476, 0.2732950621288547, 0.28973815251615026, 0.3387338917574294, 0.23379719343977565, 0.3400624644793495, 0.34895440595830823, 0.2784488856108066, 0.3554846596546047, 0.595720967057062, 0.4653269918367111, 0.6359364037075214, 0.31552356980749513, 0.3113656614825208, 0.269481024796517, 0.2648302096421091, 0.4881468069286429, 0.32160973365334794, 0.23330267321155027, 0.23333026202359544, 0.23319221461907239, 0.2332442998047963, 0.2333067758044727, 0.23318356798356454, 0.2331943642072344, 0.23325534368088738, 0.23312328019393705, 0.23317317967090112, 0.32169681561170405, 0.2216221959827229, 0.22150962973278937, 0.22161293238571933, 0.2160349041102122, 0.21401538513435675, 0.21056266150885858, 0.19462965336154706, 0.19451887713737293, 0.1945498206316977, 0.19462433973678087, 0.2516207515376585, 0.4487548044797538, 0.3090252116133336, 0.28414078384825886, 0.641775110698817, 0.27154347945234464, 0.2868169654851399, 0.2880968292277756, 0.6798704262631042, 0.3441518547793828, 0.2853289830418067, 0.23613495245018262, 0.2344326379837713, 0.23445741908461382, 0.23287848588148508, 0.22661875370076978, 0.21184083463941558, 0.21160646962339336, 0.19514807731935116, 0.18980136668572473, 0.18985111192432555, 0.18902403170369067, 0.35571585580890935, 0.36630254077469204, 0.1771886392979934, 0.17263153778985854, 0.17251759670029534, 0.17249867021249157, 0.17142022588804615, 0.17131472817224164, 0.16584588383794577, 0.1657798444704009, 0.1656394225544005, 0.16587443415222544, 0.2245544448858731, 0.14542019458033986, 0.1453648904284299, 0.14528524415543392, 0.9608848528979477, 0.18567748504518536, 0.20150587391958336, 0.3399508753770232, 0.2254583035263893, 0.30852449466847087, 0.1856929358969389, 0.32860305756106806, 0.197423216438513, 0.21639006472273292, 0.19749027542968675, 0.17978436705986323, 0.1805514604204127, 0.17994706747303033, 0.6616274533660851, 0.32601476903150134, 0.25505523281039844, 0.25498614719216084, 0.19832385328170898, 0.19836930855849258, 0.1983649142404966, 0.1779570569929834, 0.17783377041599716, 0.17797062962314641, 0.17791439339547538, 0.17447684364105123, 0.17455451223004506, 0.17450811575534222, 0.17464668272727757, 0.17453148247816938, 0.17459500576682965, 0.17449959341916133, 0.1677925424927844, 0.1679149044980011, 0.24519937215677273, 0.1539954369740808, 0.15396288508056666, 0.15394307441935154, 0.15387951513637171, 0.1523138657093856, 0.15232630149119025, 0.15223850549318932, 0.1523055282660328, 0.1523849852977295, 0.36501025454443203, 0.18886390940116543, 0.22774240787630354, 0.40345117454298096, 0.23592768007497658, 0.37442026471451384, 0.2445007085563429, 0.18876384326490214, 0.18891497004936098, 0.23601072129995646, 0.2254202946702897, 0.18804391845579957, 0.17897595491338916, 0.1768139604399468, 0.17635651016000276, 0.683729027501331, 0.6644677297200703, 0.530956850628929, 0.3164960412434544, 0.30741404176491444, 0.28168303242076187, 0.23672944412044786, 0.23681422243887362, 0.23686122756297306, 0.23679894143626648, 0.23678698403580975, 0.56973829494477, 0.21440844878600254, 0.21433247854755538, 0.20479161572763158, 0.20483949175602303, 0.20290218621058406, 0.20286740924685054, 0.20149585672130482, 0.27504514660475277, 0.22509635544122986, 0.15395506834198383, 0.1929143818762653, 0.19491518042714243, 0.2040485821232501, 0.39287937870411754, 0.19483599137783683, 0.13788123200298788, 0.1811724408514386, 0.1523099944975749, 0.47751754642780864, 0.355440890455405, 0.31100380622231005, 0.3133955889113066, 0.33815383136637095, 0.21976988015887736, 0.2038441681667391, 0.20576482441284638, 0.7042564079413223, 0.4507300081227155, 0.30395187652695915, 0.29180378114498357, 0.26369339680605314, 0.2636876244652628, 0.2636257421769175, 0.2637158521519335, 0.26376583537843223, 0.2635553818482823, 0.241359915996713, 0.2411518465598269, 0.24070000798667257, 0.23480295665432338, 0.2116459980590807, 0.21172955121984824, 0.20414546523794505, 0.19593850354060685, 0.19604142958802043, 0.19601339621043462, 0.3144667489906329, 0.1880282960372539, 0.18795997253386001, 0.22969950893418764, 0.22320269502663825, 0.8107846368245107, 0.16260218325557813, 0.16254093714418558, 0.15804962802547592, 0.15806859273405371, 0.20129815616964203, 0.21258462840951362, 0.17907476631277536, 0.17909931724310513, 0.3688828895874307, 0.20104843326230576, 0.2841022690756397, 0.2075488450888196, 0.637228552511013, 0.32836443379834984, 0.3283406700738991, 0.31281426244118393, 0.2702952677483382, 0.2700303849841059, 0.2699788493167847, 0.26996202615336934, 0.20515239907723984, 0.2564543055503364, 0.20158553259018955, 0.1941124214083904, 0.1940492579868162, 0.1868368074603485, 0.18665993752849136, 0.31145455748122824, 0.1811523081085703, 0.16908961712038906, 0.16895228156855846, 0.16893664880008505, 0.22291849072070125, 0.16059177898372234, 0.1549334588582483, 0.1550357827646388, 0.15484851384914766, 0.15482452053904422, 0.19186560145248324, 0.16098393433934338, 0.18487534937659653, 0.17767705937327796, 0.2817606229412838, 0.24126668671130624, 0.2392172335212281, 0.3065282299115365, 0.2030968703123125, 0.27479265562110267, 0.2839549835103876, 0.21980148757991186, 0.1798151223700707, 0.21197801646811906, 0.18080081626286618], \"Term\": [\"information\", \"supply_chains\", \"sustainable\", \"network_design\", \"supply_chain\", \"logistics\", \"food\", \"management\", \"model\", \"the_role\", \"resilience\", \"uncertainty\", \"risk\", \"perspective\", \"closed_loop\", \"practices\", \"resilient\", \"analysis\", \"quality\", \"competitiveness\", \"how\", \"sustainability\", \"responsibility\", \"multi\", \"integration\", \"blockchain\", \"pricing\", \"industry\", \"application\", \"supplier\", \"innovation\", \"manufacturing\", \"green\", \"distribution\", \"case_study\", \"production\", \"contract\", \"new\", \"systems\", \"performance\", \"study\", \"level\", \"in\", \"system\", \"business\", \"capital\", \"evidence\", \"sales\", \"integrated\", \"based\", \"dual_channel\", \"supply\", \"strategy\", \"models\", \"remanufacturing\", \"design\", \"agricultural\", \"theory\", \"management_practices\", \"effort\", \"impact\", \"environmental\", \"cost\", \"fuzzy\", \"evaluation\", \"model\", \"the\", \"supply_chain\", \"considering\", \"management\", \"strategies\", \"optimal\", \"network\", \"industry\", \"approach\", \"sustainable\", \"research\", \"closed_loop\", \"sustainability\", \"analysis\", \"coordination\", \"product\", \"food\", \"integration\", \"internet_things\", \"initiatives\", \"iot\", \"aversion\", \"applications\", \"tier\", \"loss\", \"delivery\", \"optimize\", \"knowledge\", \"agri\", \"creation\", \"support\", \"intelligence\", \"theoretic\", \"strategic\", \"taxonomy\", \"income\", \"key\", \"biofuel\", \"degree\", \"hedging\", \"bio\", \"agriculture\", \"simultaneous\", \"financially\", \"indicators\", \"extension\", \"startups\", \"quantifying\", \"blockchain_technology\", \"bullwhip\", \"real\", \"halal\", \"perspective\", \"tool\", \"multi\", \"risk\", \"supplier\", \"information_sharing\", \"integration\", \"risk_management\", \"big_data\", \"capacity\", \"review\", \"supply_chain\", \"industry\", \"management\", \"analysis\", \"demand\", \"product\", \"blockchain\", \"price\", \"service\", \"quality\", \"effect\", \"disruption\", \"sustainable\", \"mixed\", \"is\", \"mathematical\", \"uncertainty\", \"returns\", \"programming\", \"transaction\", \"integer\", \"solution\", \"dental\", \"principal\", \"sms\", \"zambia\", \"regions\", \"network_design\", \"capabilities\", \"batteries\", \"songket\", \"terengganu\", \"actionable\", \"malay\", \"handwoven\", \"advocating\", \"handbook\", \"selecting\", \"ensuring\", \"expert\", \"conundrum\", \"exact\", \"sensitive\", \"forward\", \"vehicles\", \"infrastructure\", \"application\", \"metrics\", \"mobile\", \"closed_loop\", \"sustainability\", \"sustainable\", \"model\", \"problem\", \"information_technology\", \"supply_chain\", \"multi_objective\", \"fuzzy\", \"hybrid\", \"transportation\", \"stochastic\", \"pharmaceutical\", \"supplier\", \"designing\", \"management\", \"safety\", \"fairness_concerns\", \"purchasing\", \"direct\", \"perspectives\", \"bibliometric\", \"definitions\", \"markets\", \"inclusion\", \"contemporary\", \"developments\", \"causes\", \"phosphorus\", \"managed\", \"by\", \"additively\", \"implants\", \"biomedical\", \"manufactured\", \"human\", \"two_stage\", \"era\", \"refurbished\", \"revisited\", \"discounting\", \"vendor\", \"incorporating\", \"making\", \"commerce\", \"propagations\", \"mode\", \"online\", \"consignment\", \"logistics\", \"stock\", \"competition\", \"price\", \"decision_making\", \"pricing\", \"evolutionary\", \"analysis\", \"management\", \"supply_chain\", \"coordination\", \"decisions\", \"time\", \"inventory\", \"products\", \"the\", \"optimal\", \"research\", \"global\", \"operations\", \"resilient\", \"corporate_social\", \"responsibility\", \"achieving\", \"conditions\", \"bank\", \"worldwide\", \"interactions\", \"intervention\", \"quantification\", \"text\", \"methodologies\", \"regional\", \"union\", \"european\", \"gmo\", \"rtopsis\", \"bwm\", \"supply_chains\", \"donation\", \"editorial\", \"labour\", \"recoverability\", \"deployment\", \"retailers\", \"applied\", \"region\", \"bioattacks\", \"data_driven\", \"dependence\", \"traceability\", \"healthcare\", \"government\", \"food\", \"towards\", \"response\", \"sustainable\", \"global\", \"uncertainty\", \"supplier\", \"framework\", \"supply_chain\", \"inventory\", \"management\", \"strategies\", \"decision_support\", \"evaluation\", \"state\", \"art\", \"directions\", \"channel\", \"ai\", \"collection\", \"omni\", \"windows\", \"rail\", \"artificial\", \"arima\", \"inconvenience\", \"mining\", \"customised\", \"outcome\", \"outsourced\", \"factory\", \"extended\", \"asian\", \"prosumer\", \"revolution\", \"collecting\", \"identifying\", \"packaging\", \"reusable\", \"networked\", \"aware\", \"shortening\", \"tani\", \"toko\", \"resource\", \"application\", \"critical\", \"dual\", \"utility\", \"space\", \"of_the\", \"future\", \"success\", \"retailing\", \"factors\", \"scheduling\", \"supply_chain\", \"view\", \"upstream\", \"review\", \"proactive\", \"transshipment\", \"chain_management\", \"self\", \"dan\", \"customization\", \"total\", \"proximity\", \"entwicklung\", \"leitfaden\", \"die\", \"ein\", \"f\\u00fcr\", \"konzepte\", \"innovativer\", \"mass\", \"thinking\", \"mcdm\", \"exploration\", \"kinerja\", \"perusahaan\", \"studi\", \"terhadap\", \"keunggulan\", \"bersaing\", \"integrasi\", \"printing\", \"vulnerability\", \"vesp\", \"tabu\", \"trust\", \"blood\", \"companies\", \"relational\", \"quality\", \"supplier\", \"behavior\", \"supply_chain\", \"networks\", \"product\", \"management\", \"the\", \"success\", \"antecedents\", \"visibility\", \"reversible\", \"impacting\", \"competitiveness\", \"ledger\", \"affect\", \"petroleum\", \"secure\", \"enhance\", \"physical\", \"basis\", \"technologische\", \"digitalen\", \"zukunft\", \"als\", \"cps\", \"function\", \"digital\", \"circularity\", \"servitisation\", \"adaptability\", \"orchestrating\", \"prioritizing\", \"outcomes\", \"critical\", \"fair\", \"plans\", \"games\", \"how\", \"economy\", \"cyber\", \"agility\", \"einer\", \"decision_support\", \"factors\", \"light\", \"supply_chain\", \"logistics\", \"developing\", \"empirical_investigation\", \"relationships\", \"paper\", \"iran\", \"loyalty\", \"personal\", \"platforms\", \"empirischen\", \"wirkungen\", \"herstellern\", \"und\", \"ergebnisse\", \"ma\\u00dfnahmen\", \"bei\", \"studie\", \"simulating\", \"copulas\", \"cases\", \"collected\", \"promise\", \"signaling\", \"description\", \"newton\", \"analytical\", \"foundations\", \"dominated\", \"grid\", \"broadening\", \"cohesion\", \"swedish\", \"classifier\", \"bayes\", \"von\", \"einer\", \"complex\", \"solution\", \"capabilities\", \"power\", \"biofuels\", \"planning\", \"network\", \"optimization\", \"supply_chain\", \"health\", \"findings\", \"base\", \"member\", \"max\", \"mislabelling\", \"best\", \"pyramid\", \"public\", \"logistique\", \"et\", \"sp\\u00e9cial\", \"rencontres\", \"internationales\", \"es\", \"la\", \"en\", \"recherche\", \"num\\u00e9ro\", \"kenya\", \"vector\", \"attack\", \"cad\", \"jit\", \"adaptations\", \"biotechnology\", \"manipulation\", \"directed\", \"microbiome\", \"crispr\", \"greening\", \"of_the\", \"projects\", \"group\", \"practices\", \"vendor\", \"analyzing\", \"supply_chain\", \"asymmetry\", \"leveraging\", \"responding\", \"overconfidence\", \"prevent\", \"leakage\", \"subsidising\", \"abatement\", \"trades\", \"fulfillment\", \"measures\", \"multiechelon\", \"timing\", \"constitutional\", \"flexibility\", \"vehicle\", \"debate\", \"considers\", \"cleaner\", \"incentives\", \"responsiveness\", \"distance\", \"reaction\", \"great\", \"earthquake\", \"japan\", \"duopolistic\", \"intercepted\", \"commercial\", \"standardized\", \"information\", \"recent\", \"incorporating\", \"contracts\", \"option\", \"disruptions\", \"advances\", \"supply_chain\", \"imperfect\", \"pharmaceutical\", \"electric\", \"brexit\", \"smart\", \"order\", \"systematic\", \"guidebook\", \"automation\", \"anchored\", \"obfuscation\", \"protection\", \"ip\", \"limited\", \"testing\", \"accessibility\", \"settings\", \"determines\", \"range\", \"me\", \"what\", \"provenance\", \"korean\", \"steel\", \"generating\", \"collaborations\", \"successful\", \"gasoline\", \"district\", \"redistricting\", \"intra\", \"eradicate\", \"help\", \"why\", \"peste\", \"livestock\", \"improving\", \"logic\", \"literature\", \"blockchain_technology\", \"moderating\", \"blockchain\", \"resource\", \"security\", \"opportunities\", \"supply_chains\", \"supply_chain\", \"factors\", \"processes\", \"overview\", \"sharing\", \"enhancing\", \"empirical_investigation\", \"humanitarian\", \"culture\", \"revisiting\", \"complements\", \"zur\", \"lapp\", \"innerhalb\", \"digitalisierung\", \"einholung\", \"analytics\", \"star\", \"hotels\", \"analysts\", \"pooling\", \"structured\", \"definition\", \"twitter\", \"extended\", \"von\", \"swift\", \"circular\", \"forecasts\", \"kenya\", \"der\", \"hierarchy\", \"trust\", \"evolutionary\", \"flexibility\", \"resilience\", \"literature_review\", \"organizational\", \"risk\", \"supply_chain\", \"blockchain_technology\", \"big_data\", \"management\", \"advanced\", \"biofuels\", \"predictive\", \"acceptance\", \"forests\", \"beetle\", \"timber\", \"mountain\", \"pine\", \"infested\", \"hospitals\", \"image\", \"pressures\", \"intermediaries\", \"maquiladoras\", \"northern\", \"distinguishing\", \"chassis\", \"linchpin\", \"unsung\", \"leadership\", \"perceptus\", \"reasoning\", \"institutional\", \"establishing\", \"the_role\", \"usa\", \"main\", \"fmea\", \"bayesian\", \"mexico\", \"inflation\", \"enabled\", \"event\", \"management\", \"option\", \"supply_chain\", \"biomass\", \"mitigating\", \"boeing\", \"political\", \"paradoxical\", \"continental\", \"bereich\", \"ag\", \"im\", \"instrument\", \"des\", \"german\", \"earth\", \"rare\", \"biorefinery\", \"ethanol\", \"socio\", \"mapping\", \"consensus\", \"coopetition\", \"conict\", \"advantage\", \"twins\", \"responses\", \"tensions\", \"buying\", \"inside\", \"meat\", \"moving\", \"chinese\", \"lignocellulosic\", \"ripple\", \"digital\", \"der\", \"resilience\", \"competitive\", \"risks\", \"effect\", \"automotive\", \"leadership\", \"supply_chain\", \"firm_performance\"], \"Total\": [6.0, 5.0, 13.0, 5.0, 43.0, 5.0, 8.0, 22.0, 10.0, 3.0, 5.0, 4.0, 6.0, 6.0, 8.0, 3.0, 2.0, 9.0, 6.0, 2.0, 2.0, 8.0, 2.0, 5.0, 8.0, 4.0, 5.0, 9.0, 2.0, 4.0, 5.965170995899155, 6.6984575906678065, 15.444098860922734, 4.244051925535972, 5.014458160444164, 5.2677426404064835, 4.433660089233407, 3.8294004082191977, 4.98424958098668, 14.153092796991883, 5.206417137207518, 3.526307462213183, 3.510424030954461, 3.486458302379745, 3.4907327968367525, 3.496089641767841, 4.038211640387668, 3.3094007512347865, 4.758245890744272, 10.09536426309334, 4.503983643054296, 4.588245815646125, 5.975815796553393, 3.2447614073501314, 3.177842410975289, 8.903356416645176, 3.1413389022943026, 3.1366791173424966, 3.938328475036903, 3.0440189870220773, 7.064948236824427, 6.093292529443974, 4.470839861270301, 6.365912580191651, 5.390122052579246, 10.786278305504498, 11.978509150430444, 43.50378487117957, 6.43727348077481, 22.362638141635916, 5.986396200725014, 5.561469616545724, 7.0228470417031925, 9.090731076056723, 8.859792281421509, 13.624921702151294, 7.702235957706763, 8.259114163739689, 8.071119533825033, 9.812570508212925, 7.159843200791773, 7.767785128891171, 8.05348193211212, 8.077981917343667, 2.296041313060337, 1.6976544692152127, 2.1612174881685697, 1.6659697572214025, 2.5304638132215245, 1.5815262503963101, 2.0496588771585724, 1.5625042861193779, 1.245003785689035, 2.7289178987345553, 1.1920233877731254, 1.1586667657661156, 1.154970517746002, 1.5859304860230166, 1.1063248064785136, 3.594417379615836, 1.0945769792923956, 1.0802634283109562, 1.9663969578836098, 1.0625915665212946, 1.0432416999949563, 1.041933627944589, 1.0261856889974639, 1.3815111136525895, 1.0080242578429097, 1.0020762219780623, 0.9857400959480238, 0.9840147628878816, 0.9777739001289344, 0.9776778949365633, 2.6295231060515163, 1.3643511433651163, 1.804927277100184, 1.4446747550493553, 6.29386429886696, 1.5465186581165173, 5.976493972899384, 6.066102753502795, 4.161380106586622, 2.1459103140118265, 8.077981917343667, 3.1846550438729095, 3.1416095389503695, 2.823890446534005, 7.562659978669687, 43.50378487117957, 9.090731076056723, 22.362638141635916, 9.812570508212925, 5.473168216505278, 7.767785128891171, 4.55433246240032, 3.216120972338117, 5.980806220956242, 6.894246536450901, 6.124094390565678, 4.515037365947078, 13.624921702151294, 1.4237489558329584, 1.4220179837422038, 1.2984941568944839, 4.0285433235613235, 1.0630411057685476, 2.6886389942860203, 1.0092037132642115, 0.9641303831970719, 1.4993999205346835, 0.9412334298445516, 0.9184021411837411, 0.8993845444440682, 0.8993445282927136, 0.891460895121193, 5.021115779626245, 1.8622732667185167, 0.882427875068752, 0.8665353837703547, 0.866001132598304, 0.8679100768381067, 0.8664370609953186, 0.866571477650145, 0.8259753767669394, 0.8153205264090043, 1.0027549099971926, 0.7909040977429675, 0.7909010422468307, 0.7848254490772097, 0.784818345751608, 0.7820014583756534, 1.1568758999854734, 1.236393244046319, 1.5381198277320713, 2.9173443313657637, 0.9811249483914848, 1.6224472551172484, 8.259114163739689, 8.071119533825033, 13.624921702151294, 10.786278305504498, 4.753615485244064, 2.147909519921302, 43.50378487117957, 2.985502095195863, 6.365912580191651, 3.302540252944226, 2.96906222040314, 2.3841071401184446, 3.2968885805475194, 4.161380106586622, 3.367142796646649, 22.362638141635916, 1.5514129871597606, 1.9615545417817548, 1.2973294309225591, 1.2528943123361502, 1.047851189600763, 1.0220901128670943, 0.9741500874574466, 1.1949430201335238, 0.9524283697592063, 0.9423666378818387, 0.9322399532679707, 0.9139788528852318, 0.9097875701457518, 1.1505544597457018, 0.8852035813515221, 0.8832104347032114, 0.8834908304707535, 0.8833885811895366, 0.8831984958992906, 0.8788029403735322, 1.6897222115780013, 0.8675542326099379, 0.8668361462229713, 0.846328045320301, 0.8465279546144711, 1.2724277797796806, 1.1243574451474119, 0.8036910093530985, 2.117662756660655, 0.7927379790386861, 1.442768561776938, 1.2740225541547043, 1.6154828208162795, 5.691790550869104, 1.8663972323559532, 2.8858252642802524, 3.216120972338117, 2.8916311579135656, 5.815035629455033, 1.422014705082871, 9.812570508212925, 22.362638141635916, 43.50378487117957, 7.159843200791773, 4.876915887147992, 2.538371747659745, 5.1781441037628015, 3.648365174350685, 11.978509150430444, 5.561469616545724, 7.702235957706763, 4.1051123929266575, 3.489667075089567, 2.4542282057946965, 2.0113307542444145, 2.5036305866851007, 1.3627000113073924, 1.2109405217633906, 1.2006293019889307, 1.008710604112717, 1.0040882974509502, 0.9870031210914325, 0.9576678855473307, 0.9548555833866437, 0.9222527616250635, 1.2638470298020297, 0.8549343121039383, 1.270902240211666, 0.8309822528793667, 0.8316209705275405, 0.8321468984467009, 5.58494402262894, 0.8180511881098459, 0.8084186787032706, 0.8050465352058227, 0.7903016414256432, 1.0750851045607082, 1.563492160930764, 0.7883165167144371, 1.145886572777119, 0.7813435648474476, 1.9747930274595458, 0.7661011402776718, 1.7019645326893635, 2.6842036498432558, 1.943359783997833, 8.05348193211212, 1.6835734193556893, 1.5431261346826661, 13.624921702151294, 4.1051123929266575, 4.0285433235613235, 4.161380106586622, 5.764242265520339, 43.50378487117957, 5.1781441037628015, 22.362638141635916, 5.986396200725014, 2.0671257470024127, 5.390122052579246, 1.4791247739226512, 1.1787628439256033, 0.8562720434898228, 1.9956059490887117, 0.7426964936362964, 1.0755807603588525, 0.7331183104967581, 0.7310513167570739, 0.731336069287768, 0.9377074834706461, 0.7284962556976119, 0.7189947484216644, 1.3833340951708293, 0.7010222588619871, 0.7004225973470347, 0.692915260826461, 0.6929529436091297, 1.0599954783171013, 0.6876651167087912, 0.6776747732150044, 0.6779775324169984, 0.6767949348547543, 1.055760929819154, 0.6624336092344137, 0.6621081230040144, 0.6614808169824361, 0.6613914038981229, 0.6592052410093491, 0.6589933330978986, 0.6587228901226072, 2.0262516421353642, 2.9173443313657637, 1.5521983767448289, 1.2820275080553467, 1.096056552603252, 0.8856433820294543, 1.8200371839268084, 3.292419231834857, 1.5154143405967737, 1.1328659086254829, 3.481194459846413, 2.2247486238507967, 43.50378487117957, 1.332204852541738, 1.2645712547430392, 7.562659978669687, 1.2510341629031307, 1.4315527274238005, 0.9884247977962339, 0.8810902541047194, 0.8815756208877824, 0.8754942540783074, 0.7989586495618116, 0.775024925305717, 0.7526103063924698, 0.7525119646171577, 0.7529954338999784, 0.7528981262070081, 0.7531957670065315, 0.7529654947191057, 0.7528319739622853, 1.0341013748270524, 0.7440358348907705, 0.6944181638607948, 0.6909122456316812, 0.6866511762403198, 0.6865882505514666, 0.6868106640334646, 0.6866870929048804, 0.6867904459591165, 0.6868278102468204, 0.6875005323553557, 0.9473704544214715, 0.6852023798485827, 0.6851815016208115, 0.6838841040707333, 1.0173737403646408, 2.183565758935535, 1.7066809783251158, 1.487283996461147, 6.894246536450901, 4.161380106586622, 2.1437996768506506, 43.50378487117957, 3.058458040619359, 7.767785128891171, 22.362638141635916, 11.978509150430444, 1.5154143405967737, 0.9206167814852791, 1.1467660676255425, 0.9074637761585795, 0.8725917874374285, 2.0960985506347782, 0.8179001454673612, 0.7853864441976831, 1.0934168032845608, 0.767739205043318, 0.9146161446639463, 0.7007972053039494, 0.7014973039365121, 0.7016396851648425, 0.7014946528389151, 0.701430101691597, 0.7016890128557827, 0.7018515464737999, 1.1981659697417948, 1.4058060854651233, 0.671492733650398, 0.6715308568743483, 0.6654034181662507, 0.6655236388472305, 0.660562544710763, 0.6608404210980083, 1.5521983767448289, 0.6501439948616126, 0.6505558726766836, 0.6508486447103432, 2.7638369169793466, 2.0986566953000145, 1.4762544668490325, 2.5399842993170525, 0.8919817542770889, 2.0671257470024127, 3.481194459846413, 1.2306179223856448, 43.50378487117957, 5.691790550869104, 2.3411191838986722, 1.3414628919621987, 1.9362398138230017, 0.7911388879449857, 0.7213232194684096, 0.7116807317997333, 0.7116200790456914, 0.7077040557129459, 0.7055132540133733, 0.7058396721603146, 0.7055132122174849, 0.70615999882416, 0.7062446501347203, 0.7061978894429046, 0.7063062867751236, 0.7063423114509135, 0.6999159527941654, 0.7009890686236809, 0.6966290935538435, 0.6975082532481153, 0.6910160476962982, 0.6912357039119771, 0.677073401799587, 0.67267875105172, 0.6651914595074544, 0.6652306688099867, 0.6610236697863184, 0.6612383327442247, 0.6531136966044577, 0.6530415037701651, 0.6465570326490899, 0.6372487407716401, 0.6375794842051151, 0.8913155236975528, 0.8919817542770889, 1.6925905260382548, 1.4993999205346835, 1.8622732667185167, 3.0614262920419377, 1.1192705708409587, 4.648660740121492, 7.0228470417031925, 5.476431748341079, 43.50378487117957, 1.2529028571699319, 1.0396422344076577, 1.5028934835761791, 0.7786094808703755, 0.7741150695991087, 0.7317932530082791, 0.7279918381502576, 1.3648887063875288, 0.9154090310423091, 0.6959480247568658, 0.6960480397263307, 0.6956571683077833, 0.695998676455517, 0.6962309090690602, 0.6960405799980116, 0.6960891451405715, 0.6963117892292388, 0.69607552729716, 0.6965513201802197, 0.9612067672924938, 0.6839902901165092, 0.6836920032178333, 0.6849617650299565, 0.6789502844341498, 0.6771236187305693, 0.6733031538684922, 0.6570954351164273, 0.6570717270638384, 0.6573896209596604, 0.6576568608914121, 0.8914557367728668, 1.8200371839268084, 1.2658928023407987, 1.131509985298518, 3.833499694381728, 1.2724277797796806, 2.0231023088638014, 43.50378487117957, 1.2866634631560467, 0.8062240801969778, 0.7476341625279291, 0.6983160772143637, 0.6964082599708425, 0.6966440105139252, 0.6951371319780021, 0.6894382619235414, 0.6738437771482658, 0.6743817095410101, 0.6573512127706724, 0.6521239399308041, 0.6525456327603375, 0.6518160178680376, 1.232472483297136, 1.2931217268912503, 0.6395854030548944, 0.634797071173891, 0.6346231762115807, 0.6349095719835807, 0.633453160226041, 0.6337512641424846, 0.6279312140973079, 0.6279751888794797, 0.6277237988627239, 0.6286386593144538, 0.879902944134245, 0.6075572286221637, 0.6076452363042739, 0.6073429441154098, 6.006690854464186, 0.8852750243013384, 1.1243574451474119, 3.4165371468359513, 1.509387753273903, 3.9173093194155357, 1.0155878116062662, 43.50378487117957, 1.6609222592219168, 3.2968885805475194, 1.794616187406384, 0.9611041667506984, 2.2896784331361757, 1.8304184342711447, 1.3535651621311764, 0.7891268456885087, 0.7182938343964165, 0.7182689757233802, 0.6609752331181067, 0.6612308663247068, 0.661265126450347, 0.640453699736216, 0.6400593713295747, 0.6407639300186688, 0.641051456745022, 0.6371387571596712, 0.6375203508057101, 0.6373829161039667, 0.637999238850028, 0.6376778171368096, 0.6379158698374688, 0.6379419596243826, 0.6304014108723872, 0.6311960543200676, 0.9771544361045978, 0.6168338354880476, 0.6171260775473922, 0.617205451236075, 0.6174467632403048, 0.6153141598050316, 0.6153941651755234, 0.6151062600301134, 0.6154664459714602, 0.615802288034273, 1.6014094708713553, 0.8008940255411232, 1.081768994042531, 2.6295231060515163, 1.3100031411694728, 4.55433246240032, 2.0262516421353642, 1.1643897840503878, 1.1692339954673348, 5.58494402262894, 43.50378487117957, 3.481194459846413, 1.7726870143700617, 1.4948483531216703, 2.928396573857949, 1.3559186378715429, 1.3414628919621987, 1.1755593038877978, 0.7822793593031755, 0.7714097488610323, 0.7453765260565319, 0.6996263773530681, 0.7007022712659011, 0.7008879793972592, 0.7008113177395437, 0.7008156737011012, 1.7653465696039634, 0.6785053660351353, 0.6783385787795659, 0.6683226203446668, 0.6689298126434104, 0.6667788142062033, 0.6670574554855249, 0.6659237618997662, 1.0599954783171013, 0.8913155236975528, 0.6178403207218893, 0.8064811924993294, 0.8493914296435247, 0.9612067672924938, 2.030280253459688, 1.1213479684116636, 1.0173737403646408, 1.422014705082871, 1.232472483297136, 5.002882159768395, 3.6922362882507724, 3.083373770357062, 6.066102753502795, 43.50378487117957, 2.6295231060515163, 3.1416095389503695, 22.362638141635916, 1.168339434603677, 1.1192705708409587, 0.7681167519712321, 0.7560926807099818, 0.7277096237774648, 0.7278072754809379, 0.7277030290262286, 0.7282551745500224, 0.7285154789534658, 0.7280349019876826, 0.7065853265541846, 0.7069096490602236, 0.7073636378070476, 0.6992713134632879, 0.6756403077125105, 0.6760823629807996, 0.6686955649938958, 0.6598169870045979, 0.6602576163713616, 0.660464003979057, 1.0761336114676103, 0.6523532418416068, 0.6523054848449407, 0.828669010213053, 0.8256315404371674, 3.011183756510418, 0.6271920453094776, 0.6272029396587293, 0.6228291802532924, 0.6230313172073235, 0.8690763406222307, 1.143314948088851, 0.8479653598470825, 0.8718300377855405, 22.362638141635916, 1.509387753273903, 43.50378487117957, 2.836468756196845, 1.3190849404922251, 0.7925846392108069, 0.7928093659122349, 0.7776948141575533, 0.7348115579171772, 0.7344794877402637, 0.7343913760849192, 0.7343873022597713, 0.669813724847881, 0.8380140936925466, 0.6652025943993316, 0.6581996213602707, 0.6584317110793492, 0.6510238664499512, 0.6510170934533537, 1.0947366976147603, 0.6449097091664995, 0.6335706548366999, 0.6335336962239249, 0.6336811027188195, 0.8412449104206533, 0.6252872409021417, 0.6192884180189596, 0.6198236501847898, 0.6191428481629976, 0.6195392005080582, 0.8815984357058095, 0.7756086657376118, 0.9176091474996569, 0.8871655797294119, 1.5807670222048786, 1.4058060854651233, 2.030280253459688, 5.002882159768395, 1.439241413661672, 4.235226514723757, 6.124094390565678, 2.2967693460527063, 1.0761336114676103, 43.50378487117957, 3.0614556223978275], \"loglift\": [30.0, 29.0, 28.0, 27.0, 26.0, 25.0, 24.0, 23.0, 22.0, 21.0, 20.0, 19.0, 18.0, 17.0, 16.0, 15.0, 14.0, 13.0, 12.0, 11.0, 10.0, 9.0, 8.0, 7.0, 6.0, 5.0, 4.0, 3.0, 2.0, 1.0, 0.7161, 0.7147, 0.7095, 0.7039, 0.6966, 0.6953, 0.6949, 0.6897, 0.6868, 0.6865, 0.6825, 0.6801, 0.6793, 0.6784, 0.678, 0.6761, 0.6723, 0.6704, 0.6698, 0.6689, 0.6675, 0.6658, 0.6658, 0.6642, 0.6637, 0.6617, 0.6615, 0.6604, 0.6551, 0.6548, 0.6498, 0.641, 0.6391, 0.613, 0.6241, 0.5659, 0.5523, 0.4106, 0.5997, 0.3759, 0.5913, 0.5983, 0.5386, 0.4786, 0.4829, 0.3255, 0.4874, 0.4433, 0.3919, 0.2835, 0.4263, 0.3545, 0.305, 0.2289, 1.9804, 1.9714, 1.9651, 1.9639, 1.9555, 1.9446, 1.9424, 1.9393, 1.8308, 1.8063, 1.8017, 1.7879, 1.7845, 1.7756, 1.7567, 1.7563, 1.7504, 1.7377, 1.7298, 1.728, 1.715, 1.7143, 1.703, 1.6946, 1.6884, 1.6842, 1.6696, 1.6668, 1.6634, 1.6622, 1.6508, 1.6588, 1.6362, 1.6468, 1.5057, 1.6248, 1.4065, 1.3881, 1.4136, 1.5553, 1.1473, 1.3684, 1.3389, 1.3724, 0.9606, 0.1984, 0.855, 0.2984, 0.6864, 0.9736, 0.7043, 0.9952, 1.2324, 0.7526, 0.5998, 0.6943, 0.9491, -0.0915, 2.4177, 2.4166, 2.3706, 2.2495, 2.2443, 2.224, 2.2042, 2.1648, 2.1568, 2.1443, 2.1196, 2.0977, 2.0971, 2.09, 2.0881, 2.0866, 2.0789, 2.0607, 2.0606, 2.0605, 2.0603, 2.0603, 2.0045, 1.9876, 1.9511, 1.9481, 1.948, 1.9387, 1.9379, 1.9342, 1.9248, 1.8775, 1.8333, 1.6879, 1.8847, 1.7113, 1.0628, 1.0075, 0.7233, 0.7377, 1.1416, 1.5319, -0.3199, 1.2006, 0.6676, 1.1122, 1.1428, 1.2624, 0.9796, 0.7619, 0.9066, -0.969, 2.4595, 2.4011, 2.3752, 2.3558, 2.2393, 2.2187, 2.1801, 2.1748, 2.1592, 2.1489, 2.1395, 2.1205, 2.1159, 2.1071, 2.0883, 2.0861, 2.0856, 2.0854, 2.0853, 2.0802, 2.0764, 2.0669, 2.0659, 2.039, 2.0389, 2.007, 1.9918, 1.976, 1.9679, 1.9571, 1.9525, 1.9486, 1.9222, 1.7448, 1.8724, 1.7725, 1.4898, 1.5338, 1.1128, 1.8115, 0.6752, 0.1637, -0.2951, 0.7841, 1.0238, 1.4235, 0.8858, 1.1241, 0.196, 0.696, 0.3646, 0.8989, 1.0316, 2.6982, 2.6415, 2.5975, 2.5038, 2.4368, 2.4297, 2.3102, 2.3061, 2.2915, 2.264, 2.2631, 2.231, 2.2177, 2.149, 2.123, 2.1167, 2.1159, 2.1145, 2.1081, 2.0904, 2.0825, 2.0766, 2.0538, 2.0525, 2.0518, 2.0485, 2.042, 2.0359, 2.0148, 2.0088, 2.0062, 1.8143, 1.838, 1.3439, 1.7856, 1.7807, 0.7494, 1.2395, 1.219, 1.1974, 0.9439, -0.5117, 0.8937, -0.2502, 0.6746, 1.5278, 0.579, 2.9944, 2.8739, 2.5989, 2.5062, 2.4037, 2.3979, 2.3813, 2.3785, 2.3784, 2.3726, 2.3711, 2.3502, 2.3398, 2.3027, 2.3005, 2.2802, 2.2798, 2.2687, 2.2662, 2.2357, 2.2356, 2.2303, 2.2019, 2.1869, 2.1862, 2.1827, 2.1819, 2.1744, 2.1736, 2.1736, 2.1509, 2.0824, 2.0685, 2.0905, 2.0929, 2.1254, 1.8804, 1.355, 1.7404, 1.8955, 1.1415, 1.3764, -1.0765, 1.746, 1.7826, 0.1588, 2.9688, 2.8204, 2.7813, 2.6962, 2.696, 2.6863, 2.5756, 2.5337, 2.4884, 2.4884, 2.4881, 2.4879, 2.4878, 2.4878, 2.4877, 2.4796, 2.4693, 2.3437, 2.3337, 2.3234, 2.3233, 2.323, 2.3229, 2.3229, 2.3225, 2.3216, 2.3208, 2.3182, 2.3179, 2.3116, 2.2725, 2.1089, 1.9884, 1.8839, 0.9343, 1.1834, 1.5023, -0.8795, 1.1569, 0.3314, -0.718, -0.327, 2.874, 2.8422, 2.8372, 2.8282, 2.7853, 2.7696, 2.7076, 2.6512, 2.6227, 2.6198, 2.4926, 2.4642, 2.464, 2.464, 2.4639, 2.4638, 2.4633, 2.4631, 2.4561, 2.445, 2.3723, 2.3723, 2.3527, 2.3522, 2.3386, 2.3377, 2.3037, 2.3005, 2.2997, 2.2984, 2.1215, 2.0268, 2.0631, 1.843, 2.1727, 1.6823, 1.242, 1.9247, -0.7195, 0.5773, 1.3306, 1.8204, 2.7825, 2.6141, 2.5277, 2.5031, 2.5028, 2.4906, 2.4865, 2.4864, 2.4864, 2.4864, 2.4862, 2.4861, 2.4854, 2.4853, 2.4709, 2.4701, 2.4637, 2.4621, 2.4458, 2.4445, 2.4022, 2.3867, 2.3621, 2.3619, 2.3517, 2.3511, 2.3179, 2.3166, 2.2956, 2.2592, 2.2591, 2.2023, 2.2015, 1.8906, 1.8458, 1.6875, 1.3467, 1.9821, 0.9329, 0.5461, 0.5691, -1.259, 2.8431, 2.7827, 2.7265, 2.6833, 2.6758, 2.5876, 2.5754, 2.5584, 2.5405, 2.4936, 2.4936, 2.4936, 2.4933, 2.4933, 2.493, 2.493, 2.4929, 2.4927, 2.4922, 2.492, 2.4596, 2.4595, 2.4581, 2.4415, 2.4348, 2.4242, 2.3698, 2.3693, 2.369, 2.369, 2.3216, 2.1864, 2.1765, 2.2047, 1.7993, 2.042, 1.633, -1.4307, 2.976, 2.7627, 2.6507, 2.5297, 2.5252, 2.525, 2.5204, 2.5013, 2.4568, 2.4549, 2.3995, 2.3797, 2.3793, 2.3761, 2.3713, 2.3526, 2.3303, 2.3118, 2.3114, 2.3109, 2.3069, 2.3058, 2.2826, 2.2821, 2.2817, 2.2816, 2.2483, 2.1841, 2.1836, 2.1836, 1.7812, 2.0521, 1.8948, 1.3064, 1.7126, 1.0726, 1.9148, -1.2718, 1.4842, 0.8903, 1.4071, 1.9376, 1.0738, 1.2943, 2.9296, 2.7614, 2.61, 2.6098, 2.4416, 2.4414, 2.4414, 2.3648, 2.3647, 2.3644, 2.3636, 2.3502, 2.35, 2.35, 2.3498, 2.3497, 2.3497, 2.3491, 2.3218, 2.3212, 2.2628, 2.2577, 2.257, 2.2568, 2.256, 2.2492, 2.2492, 2.2491, 2.2489, 2.2489, 2.1667, 2.2007, 2.0873, 1.7709, 1.9311, 1.1469, 1.5307, 1.8259, 1.8226, 0.4814, -1.6172, 0.7269, 1.3524, 1.5107, 0.8357, 3.0099, 2.992, 2.8998, 2.7897, 2.7746, 2.7215, 2.611, 2.6098, 2.6097, 2.6096, 2.6095, 2.5637, 2.5426, 2.5425, 2.5118, 2.5111, 2.5048, 2.5043, 2.4992, 2.3455, 2.3184, 2.305, 2.2641, 2.2226, 2.1447, 2.0522, 1.9444, 1.696, 1.6342, 1.6037, 1.3454, 1.3539, 1.4006, 0.7316, -1.1625, 1.2126, 0.9594, -0.9938, 3.1938, 2.7905, 2.773, 2.748, 2.6849, 2.6848, 2.6847, 2.6843, 2.6841, 2.684, 2.6259, 2.6246, 2.622, 2.6087, 2.5393, 2.539, 2.5135, 2.4859, 2.4857, 2.4853, 2.4698, 2.456, 2.4558, 2.417, 2.392, 2.388, 2.3501, 2.3497, 2.3287, 2.3285, 2.2374, 2.0177, 2.145, 2.1174, -0.4046, 1.6841, -1.3312, 1.0851, 2.9874, 2.8338, 2.8335, 2.8043, 2.7149, 2.7144, 2.7143, 2.7142, 2.5318, 2.5309, 2.5211, 2.4939, 2.4932, 2.4667, 2.4657, 2.458, 2.4452, 2.3941, 2.3933, 2.393, 2.3869, 2.3557, 2.3294, 2.3292, 2.3291, 2.3283, 2.1901, 2.1427, 2.1129, 2.1069, 1.9904, 1.9525, 1.5764, 0.9225, 1.7568, 0.9798, 0.6438, 1.3685, 1.9258, -1.6091, 0.8857], \"logprob\": [30.0, 29.0, 28.0, 27.0, 26.0, 25.0, 24.0, 23.0, 22.0, 21.0, 20.0, 19.0, 18.0, 17.0, 16.0, 15.0, 14.0, 13.0, 12.0, 11.0, 10.0, 9.0, 8.0, 7.0, 6.0, 5.0, 4.0, 3.0, 2.0, 1.0, -5.3873, -5.2728, -4.4427, -5.74, -5.5805, -5.5325, -5.7053, -5.857, -5.5963, -4.553, -5.557, -5.949, -5.9544, -5.9621, -5.9613, -5.9617, -5.8213, -6.0223, -5.6597, -4.9085, -5.7169, -5.7001, -5.4359, -6.0482, -6.0695, -5.0413, -6.0832, -6.0859, -5.8635, -6.1214, -5.2845, -5.4413, -5.7527, -5.4254, -5.5807, -4.9452, -4.854, -3.706, -5.4276, -4.4062, -5.5086, -5.5752, -5.4017, -5.2036, -5.225, -4.952, -5.3605, -5.3347, -5.4092, -5.3222, -5.4947, -5.485, -5.4983, -5.5714, -5.0778, -5.3888, -5.1536, -5.4151, -5.0055, -5.4865, -5.2293, -5.5038, -5.8395, -5.0792, -5.912, -5.9542, -5.9608, -5.6526, -6.0317, -4.8538, -6.0486, -6.0745, -5.4834, -6.1007, -6.1321, -6.134, -6.1606, -5.8716, -6.193, -6.2032, -6.2342, -6.2387, -6.2485, -6.2498, -5.2718, -5.9199, -5.6626, -5.8748, -4.5441, -5.8286, -4.6951, -4.6986, -5.05, -5.5705, -4.653, -5.3626, -5.4058, -5.4789, -4.9056, -3.9182, -4.8272, -4.4836, -4.9193, -5.216, -5.1351, -5.3782, -5.4889, -5.3482, -5.3589, -5.3829, -5.4329, -5.369, -5.1184, -5.1207, -5.2576, -4.2465, -5.584, -4.6764, -5.676, -5.7611, -5.3275, -5.8057, -5.855, -5.8977, -5.8984, -5.9144, -4.1877, -5.181, -5.9356, -5.972, -5.9727, -5.9706, -5.9725, -5.9724, -6.0761, -6.1059, -5.9356, -6.1759, -6.176, -6.193, -6.1938, -6.2011, -5.8189, -5.7997, -5.6256, -5.1309, -6.0238, -5.6941, -4.7153, -4.7937, -4.5543, -4.7734, -5.1889, -5.593, -4.4365, -5.595, -5.3708, -5.5826, -5.6583, -5.7582, -5.7169, -5.7017, -5.7687, -5.751, -4.9908, -4.8146, -5.2539, -5.3082, -5.6033, -5.6488, -5.7355, -5.5365, -5.779, -5.7999, -5.8201, -5.8589, -5.868, -5.642, -5.923, -5.9275, -5.9277, -5.928, -5.9283, -5.9384, -5.2884, -5.9646, -5.9665, -6.0172, -6.0172, -5.6415, -5.7804, -6.1319, -5.1712, -6.1646, -5.5704, -5.6987, -5.4875, -4.4056, -5.393, -5.0571, -5.2315, -5.2937, -5.0162, -5.7258, -4.9305, -4.6184, -4.4116, -5.1369, -5.2811, -5.5344, -5.3592, -5.471, -5.2103, -5.4775, -5.4834, -5.5783, -5.608, -4.2934, -4.5491, -4.3741, -5.0762, -5.2612, -5.2769, -5.5705, -5.5793, -5.611, -5.6686, -5.6725, -5.7393, -5.4375, -5.8971, -5.5267, -5.9579, -5.9579, -5.9586, -4.0613, -5.9999, -6.0196, -6.0297, -6.0709, -5.7645, -5.3907, -6.0788, -5.7112, -6.1002, -5.1941, -6.147, -5.3514, -5.0877, -5.387, -4.4594, -5.5829, -5.6749, -4.5281, -5.2376, -5.277, -5.2662, -5.1938, -4.6282, -5.3513, -5.0322, -5.4253, -5.6354, -5.6258, -4.5035, -4.851, -5.4456, -4.6923, -5.7832, -5.4186, -5.8186, -5.8242, -5.8239, -5.5811, -5.8351, -5.8691, -5.2252, -5.9419, -5.945, -5.9761, -5.9764, -5.5625, -5.9977, -6.0428, -6.0424, -6.0495, -5.6333, -6.1144, -6.1156, -6.12, -6.121, -6.1317, -6.1328, -6.1332, -5.0323, -4.7363, -5.3812, -5.5505, -5.7048, -5.8855, -5.4101, -5.3428, -5.7333, -5.8692, -5.5006, -5.7133, -5.1931, -5.8566, -5.872, -5.7074, -4.6967, -4.7103, -5.1197, -5.3198, -5.3195, -5.3361, -5.5382, -5.6106, -5.6852, -5.6854, -5.685, -5.6854, -5.685, -5.6853, -5.6856, -5.3763, -5.7157, -5.9104, -5.9254, -5.9419, -5.9421, -5.9421, -5.9424, -5.9422, -5.9426, -5.9425, -5.6227, -5.9493, -5.9496, -5.9578, -5.5997, -4.9996, -5.3664, -5.6086, -5.0244, -5.2801, -5.6245, -4.9961, -5.6146, -5.508, -5.5, -5.7333, -4.5997, -5.1299, -4.9153, -5.1584, -5.2404, -4.3798, -5.3829, -5.4798, -5.1774, -5.5339, -5.4861, -5.7807, -5.7799, -5.7798, -5.78, -5.7802, -5.7804, -5.7804, -5.2525, -5.1038, -5.9153, -5.9153, -5.9441, -5.9444, -5.9655, -5.966, -5.146, -6.0195, -6.0197, -6.0205, -4.7513, -5.1213, -5.4368, -5.1142, -5.831, -5.481, -5.4001, -5.7572, -4.8361, -5.5731, -5.7082, -5.7752, -4.4462, -5.5096, -5.6884, -5.7265, -5.7269, -5.7446, -5.7517, -5.7514, -5.7519, -5.751, -5.7511, -5.7512, -5.7517, -5.7518, -5.7753, -5.7745, -5.7872, -5.7876, -5.8132, -5.8142, -5.8772, -5.8992, -5.935, -5.9351, -5.9517, -5.9519, -5.9976, -5.999, -6.0299, -6.0808, -6.0804, -5.8022, -5.8022, -5.4726, -5.6385, -5.5801, -5.4239, -5.7946, -5.4199, -5.3941, -5.6198, -5.3756, -4.8208, -5.0678, -4.7555, -5.4564, -5.4696, -5.6141, -5.6315, -5.02, -5.4372, -5.7583, -5.7581, -5.7587, -5.7585, -5.7582, -5.7588, -5.7587, -5.7585, -5.759, -5.7588, -5.437, -5.8096, -5.8101, -5.8097, -5.8351, -5.8445, -5.8608, -5.9395, -5.9401, -5.9399, -5.9395, -5.6827, -5.1041, -5.4772, -5.5611, -4.7464, -5.6065, -5.5517, -5.5473, -4.6613, -5.3421, -5.5296, -5.7188, -5.726, -5.7259, -5.7327, -5.7599, -5.8274, -5.8285, -5.9095, -5.9372, -5.937, -5.9413, -5.3091, -5.2798, -6.006, -6.0321, -6.0327, -6.0328, -6.0391, -6.0397, -6.0722, -6.0726, -6.0734, -6.072, -5.7691, -6.2036, -6.204, -6.2045, -4.3154, -5.9592, -5.8774, -5.3544, -5.7651, -5.4514, -5.9591, -5.3884, -5.8979, -5.8061, -5.8975, -5.9915, -5.9872, -5.9906, -4.6571, -5.3648, -5.6103, -5.6106, -5.8619, -5.8616, -5.8617, -5.9702, -5.9709, -5.9702, -5.9705, -5.99, -5.9895, -5.9898, -5.989, -5.9897, -5.9893, -5.9898, -6.029, -6.0283, -5.6497, -6.1148, -6.1151, -6.1152, -6.1156, -6.1258, -6.1257, -6.1263, -6.1259, -6.1254, -5.2518, -5.9107, -5.7236, -5.1517, -5.6882, -5.2264, -5.6526, -5.9113, -5.9105, -5.6879, -5.7338, -5.9151, -5.9645, -5.9767, -5.9793, -4.575, -4.6036, -4.8279, -5.3453, -5.3744, -5.4618, -5.6357, -5.6353, -5.6351, -5.6354, -5.6354, -4.7574, -5.7347, -5.7351, -5.7806, -5.7804, -5.7899, -5.79, -5.7968, -5.4857, -5.6861, -6.0659, -5.8403, -5.83, -5.7842, -5.1291, -5.8304, -6.1762, -5.9031, -6.0767, -4.934, -5.2292, -5.3628, -5.3551, -5.2791, -5.71, -5.7852, -5.7759, -4.54, -4.9863, -5.3803, -5.421, -5.5223, -5.5224, -5.5226, -5.5223, -5.5221, -5.5229, -5.6108, -5.6117, -5.6136, -5.6384, -5.7422, -5.7418, -5.7783, -5.8193, -5.8188, -5.8189, -5.3463, -5.8605, -5.8609, -5.6604, -5.6891, -4.3991, -6.0058, -6.0062, -6.0342, -6.0341, -5.7923, -5.7378, -5.9093, -5.9092, -5.1867, -5.7936, -5.4478, -5.7618, -4.625, -5.288, -5.2881, -5.3366, -5.4827, -5.4836, -5.4838, -5.4839, -5.7584, -5.5352, -5.776, -5.8137, -5.8141, -5.8519, -5.8529, -5.3409, -5.8828, -5.9517, -5.9526, -5.9526, -5.6754, -6.0033, -6.0392, -6.0385, -6.0397, -6.0399, -5.8254, -6.0009, -5.8625, -5.9022, -5.4411, -5.5963, -5.6048, -5.3569, -5.7685, -5.4662, -5.4334, -5.6894, -5.8902, -5.7257, -5.8848]}, \"token.table\": {\"Topic\": [5, 14, 1, 2, 1, 2, 1, 2, 4, 2, 13, 1, 3, 6, 2, 1, 2, 6, 11, 1, 2, 5, 10, 1, 1, 2, 4, 1, 2, 2, 2, 1, 1, 2, 2, 2, 7, 2, 1, 3, 1, 2, 1, 1, 7, 1, 6, 1, 3, 1, 4, 1, 1, 2, 4, 1, 8, 1, 5, 1, 1, 4, 1, 1, 1, 2, 4, 5, 1, 2, 1, 1, 5, 1, 2, 4, 5, 1, 4, 4, 2, 2, 1, 2, 2, 1, 1, 3, 1, 4, 1, 2, 1, 1, 2, 1, 1, 1, 2, 1, 1, 13, 13, 1, 4, 5, 1, 5, 1, 4, 2, 1, 4, 2, 1, 1, 2, 5, 1, 2, 5, 1, 1, 3, 1, 4, 5, 5, 1, 2, 2, 10, 1, 5, 2, 1, 1, 8, 13, 1, 3, 1, 2, 1, 1, 2, 2, 1, 2, 1, 1, 11, 1, 2, 1, 3, 3, 2, 1, 3, 1, 1, 2, 2, 5, 2, 5, 1, 4, 5, 2, 3, 2, 1, 2, 1, 1, 2, 1, 2, 4, 2, 4, 1, 2, 3, 4, 5, 1, 1, 4, 3, 15, 3, 2, 3, 4, 1, 3, 1, 1, 1, 2, 1, 3, 1, 1, 3, 1, 1, 1, 4, 1, 4, 1, 4, 1, 2, 2, 1, 2, 1, 1, 1, 2, 1, 2, 4, 1, 2, 3, 1, 1, 1, 10, 1, 2, 4, 1, 4, 7, 1, 3, 1, 1, 2, 1, 1, 4, 1, 3, 1, 4, 1, 2, 7, 5, 2, 2, 5, 1, 9, 1, 1, 2, 4, 1, 2, 5, 1, 6, 1, 5, 5, 3, 1, 2, 1, 2, 1, 2, 1, 4, 1, 1, 1, 1, 2, 1, 2, 2, 1, 3, 2, 6, 2, 3, 4, 1, 2, 1, 5, 1, 1, 8, 2, 3, 5, 1, 1, 2, 3, 4, 5, 6, 7, 8, 1, 5, 2, 1, 2, 3, 1, 2, 3, 5, 1, 12, 1, 2, 5, 1, 2, 4, 1, 14, 2, 1, 2, 1, 4, 2, 1, 5, 2, 5, 3, 1, 3, 7, 4, 2, 3, 5, 1, 4, 1, 8, 5], \"Freq\": [0.7338372288120749, 0.8559156443599963, 0.393703221027342, 0.838909714572083, 0.9550067959267068, 0.7238450636535896, 0.6114605744721141, 0.2038201914907047, 0.10191009574535236, 0.5664610095366935, 0.5664610095366935, 0.49429037553795885, 0.3427775011843895, 0.3427775011843895, 0.7903689393027941, 0.6772167799669148, 0.11286946332781914, 0.8483470658692684, 0.7772040076020406, 0.8707883547110454, 0.6002509923516595, 0.8328965471219355, 0.6653831498560169, 0.8914982922312398, 0.4664614939531338, 0.4664614939531338, 0.9783873138101995, 0.3183081753482662, 0.3183081753482662, 0.9744825042112543, 0.9410953667492332, 0.7051020730020705, 0.6587134392948724, 0.21957114643162412, 0.38029709558308344, 0.4579665145910189, 0.4579665145910189, 0.732949142061435, 0.8594184014080233, 0.5369781212410812, 0.3541213864112126, 0.3541213864112126, 0.8581015670075933, 0.7976933642708255, 1.0117107565791286, 0.5011009315023577, 0.5011009315023577, 0.7264701614541224, 0.12107836024235372, 0.4722187217273921, 0.4722187217273921, 0.5859325865232115, 0.34652132697625676, 0.34652132697625676, 0.34652132697625676, 0.4770768052375982, 0.4770768052375982, 0.5908103493528586, 0.8258043909074777, 0.7767263601480832, 0.6190099870543438, 0.6190099870543438, 0.9021891438438195, 0.5853880446908637, 0.6983393155100204, 0.13966786310200408, 0.13966786310200408, 0.9943665385613462, 0.8946864848931267, 0.8630609158266446, 0.6773899909914812, 0.5063821808640072, 0.5063821808640072, 0.3458255722771857, 0.3458255722771857, 0.3458255722771857, 0.4837635066227216, 0.6151428627066997, 0.20504762090223325, 1.026535862261248, 0.9585506407621883, 0.6399982444103186, 0.7308381255188382, 0.18270953137970955, 0.49254283899769763, 0.8985375431049446, 0.5939754031197632, 0.2969877015598816, 0.854292260622714, 0.7981519192432099, 0.6644463283131029, 0.221482109437701, 0.7658317879394833, 0.9424955373265959, 0.7800144643673502, 0.8881026924173001, 0.4764952754014131, 0.653157796875584, 0.163289449218896, 0.9855391877613942, 0.5572222110874975, 0.7454548359047558, 0.7375073784439993, 0.8205744227507589, 0.16411488455015177, 0.7868425818758901, 0.7420982235617367, 0.18552455589043418, 0.9905374844632959, 0.7032276082839262, 1.0162449159453717, 0.5745154495299979, 0.5097997423470376, 0.9979280797882182, 0.3266420041120076, 0.6208494713402419, 0.12416989426804838, 0.24833978853609676, 0.5204500195879934, 0.17348333986266445, 0.17348333986266445, 0.6074560556145838, 0.7854333431404851, 0.15708666862809703, 0.48719737940576585, 0.24359868970288293, 0.24359868970288293, 0.5145727560250445, 0.9064951037980824, 0.06474965027129159, 0.6921973243492002, 0.7981464758239988, 0.37254997401497275, 0.37254997401497275, 0.9597540315237632, 0.8917838424556587, 0.7236316975553827, 0.36181584877769135, 0.8506589133298593, 0.605594435440111, 0.3027972177200555, 0.849263122513251, 0.1415438537522085, 0.6020751389462771, 0.8545976137202774, 0.9257001336827149, 1.0144661905410897, 0.6600129241313575, 0.22000430804378582, 0.8746496332192506, 0.6659240664978107, 0.16648101662445267, 0.46600269986608994, 0.46600269986608994, 0.46556895936502923, 0.46556895936502923, 0.6501444048572478, 0.5890480177996865, 0.8381989390475686, 1.0372041141199013, 0.8406459211746056, 0.49517318074355693, 0.37137988555766765, 0.6305446605718928, 0.9959283486708002, 0.8710644658802977, 1.0131680220972306, 0.5793581522422272, 0.1931193840807424, 0.1931193840807424, 0.925404319995029, 0.7032259868953169, 0.5085443180690629, 0.36644561584784824, 0.7328912316956965, 0.8507482776663888, 0.5416771419435663, 0.27083857097178315, 0.3513832742307447, 0.17569163711537236, 0.3513832742307447, 0.4878860629658985, 0.8691461682057382, 0.6260442042360859, 0.13415232947916125, 0.04471744315972042, 0.08943488631944084, 0.04471744315972042, 0.7617444860212909, 0.8957285940511309, 0.8368599867533929, 0.7701228339691792, 0.7581012937854051, 0.702371015552355, 0.6163528563692714, 0.6163528563692714, 0.6931118590277454, 0.7416830693045818, 0.09271038366307273, 0.9245672095348242, 0.7633569482186697, 0.5019665398482125, 0.3346443598988083, 0.6699040684708649, 0.33495203423543246, 0.7119619678897907, 0.3983178416469164, 0.3983178416469164, 0.6539242891149771, 0.7834124615333978, 0.5494393240046103, 0.7849154606713267, 0.5731205748183492, 0.2865602874091746, 0.7192343527508893, 0.17980858818772233, 0.7304026022440032, 0.8032104090724189, 0.6625202820355292, 0.5463231692146886, 0.5463231692146886, 0.6486401419210345, 0.6689641781467093, 0.8478712160037908, 0.07065593466698256, 0.4766547001243845, 0.4766547001243845, 0.9543339836079258, 0.30331628611905603, 0.30331628611905603, 0.30331628611905603, 0.8604628781526141, 0.6532902670885543, 0.5217164887038195, 0.26085824435190974, 0.31093357762379226, 0.31093357762379226, 0.31093357762379226, 0.687871967583261, 0.17196799189581524, 0.799338682869711, 0.6310985836596271, 0.21036619455320904, 0.5641153750739004, 0.6436841283628215, 0.2574736513451286, 0.9491731736564444, 0.5481907387069466, 0.2740953693534733, 0.3719353926374018, 0.7438707852748035, 0.7899563044760751, 0.7708142405193709, 0.580193931106381, 0.14504848277659524, 0.14504848277659524, 1.0442033350930164, 1.0228317579634805, 0.5540389425587334, 0.7912349963402145, 0.6723665435649185, 0.5164649507054364, 0.9440367431811357, 0.7789945715693731, 0.12983242859489552, 0.12983242859489552, 0.5996543400772173, 0.1998847800257391, 0.8149201428285214, 0.4935221169993232, 0.4935221169993232, 0.6480351654504533, 0.7988398970025661, 0.6395938687691847, 0.9406973959647866, 0.5289144310708018, 0.2644572155354009, 0.49455146440895476, 0.3297009762726365, 0.31400575139965053, 0.31400575139965053, 0.7083446397897505, 0.6445736939657464, 0.9065085269230858, 0.44948898463373776, 0.858818939927015, 0.6688061529203766, 0.16720153823009415, 0.34148380343259754, 0.34148380343259754, 0.9920396183122805, 0.873485102124405, 0.6669334753888754, 1.0227313286518844, 0.6760754857401189, 0.4194442368686162, 0.4194442368686162, 0.535791621774803, 0.27820920454899367, 0.5564184090979873, 0.8352270435081541, 0.16704540870163082, 0.8367058440596171, 0.9603533232609497, 0.6598855330920239, 0.48060978540133964, 0.24030489270066982, 0.24030489270066982, 0.8717928726398702, 0.6666086660246416, 0.11493252862493822, 0.04597301144997529, 0.04597301144997529, 0.022986505724987644, 0.022986505724987644, 0.022986505724987644, 0.022986505724987644, 0.35810564831025143, 0.5371584724653772, 0.8658229665910117, 0.6194927455906999, 0.12389854911813998, 0.12389854911813998, 0.5871593374908605, 0.07339491718635756, 0.14678983437271512, 0.14678983437271512, 0.8604720721748761, 0.7387896999546802, 0.80252803055022, 0.913594949389913, 1.0472787900063798, 0.7513455879170563, 0.08348284310189515, 0.08348284310189515, 0.6641906179507782, 0.3320953089753891, 0.9038936794548151, 0.9564255340666482, 0.6323006018707643, 0.3939533289093496, 0.3939533289093496, 0.6466136019450845, 0.5939746900866992, 0.5939746900866992, 0.5875563096604883, 0.5875563096604883, 0.9908802225524491, 0.6736133672969775, 0.33680668364848876, 0.6985422058463638, 0.5918132537691613, 0.24822868210238766, 0.4964573642047753, 0.24822868210238766, 0.7733224020634668, 0.7858992202867096, 0.7506353081450512, 0.872017430783044, 0.9913646153047246], \"Term\": [\"achieving\", \"advanced\", \"agility\", \"agri\", \"agricultural\", \"agriculture\", \"analysis\", \"analysis\", \"analysis\", \"analytics\", \"analytics\", \"analyzing\", \"application\", \"application\", \"applications\", \"approach\", \"approach\", \"art\", \"asymmetry\", \"automotive\", \"aversion\", \"bank\", \"base\", \"based\", \"behavior\", \"behavior\", \"bibliometric\", \"big_data\", \"big_data\", \"bio\", \"biofuel\", \"biomass\", \"blockchain\", \"blockchain\", \"blockchain_technology\", \"blood\", \"blood\", \"bullwhip\", \"business\", \"capabilities\", \"capacity\", \"capacity\", \"capital\", \"case_study\", \"chain_management\", \"channel\", \"channel\", \"closed_loop\", \"closed_loop\", \"commerce\", \"commerce\", \"companies\", \"competition\", \"competition\", \"competition\", \"competitiveness\", \"competitiveness\", \"complex\", \"conditions\", \"considering\", \"consignment\", \"consignment\", \"contract\", \"contracts\", \"coordination\", \"coordination\", \"coordination\", \"corporate_social\", \"cost\", \"creation\", \"cyber\", \"data_driven\", \"data_driven\", \"decision_making\", \"decision_making\", \"decision_making\", \"decision_support\", \"decisions\", \"decisions\", \"definitions\", \"degree\", \"delivery\", \"demand\", \"demand\", \"der\", \"design\", \"designing\", \"designing\", \"developing\", \"direct\", \"disruption\", \"disruption\", \"disruptions\", \"distribution\", \"dual\", \"dual_channel\", \"economy\", \"effect\", \"effect\", \"effort\", \"electric\", \"empirical_investigation\", \"enhancing\", \"environmental\", \"environmental\", \"european\", \"evaluation\", \"evaluation\", \"evidence\", \"evolutionary\", \"extension\", \"factors\", \"fairness_concerns\", \"financially\", \"firm_performance\", \"food\", \"food\", \"food\", \"framework\", \"framework\", \"framework\", \"future\", \"fuzzy\", \"fuzzy\", \"global\", \"global\", \"global\", \"government\", \"green\", \"green\", \"halal\", \"health\", \"healthcare\", \"healthcare\", \"hedging\", \"hierarchy\", \"how\", \"how\", \"humanitarian\", \"hybrid\", \"hybrid\", \"impact\", \"impact\", \"imperfect\", \"in\", \"income\", \"indicators\", \"industry\", \"industry\", \"inflation\", \"information\", \"information\", \"information_sharing\", \"information_sharing\", \"information_technology\", \"information_technology\", \"infrastructure\", \"initiatives\", \"innovation\", \"integer\", \"integrated\", \"integration\", \"integration\", \"intelligence\", \"interactions\", \"internet_things\", \"intervention\", \"inventory\", \"inventory\", \"inventory\", \"iot\", \"is\", \"key\", \"knowledge\", \"knowledge\", \"level\", \"literature_review\", \"literature_review\", \"logistics\", \"logistics\", \"logistics\", \"loss\", \"managed\", \"management\", \"management\", \"management\", \"management\", \"management\", \"management_practices\", \"manufacturing\", \"markets\", \"mathematical\", \"mitigating\", \"mixed\", \"mobile\", \"mobile\", \"mode\", \"model\", \"model\", \"models\", \"moderating\", \"multi\", \"multi\", \"multi_objective\", \"multi_objective\", \"network\", \"network_design\", \"network_design\", \"networks\", \"new\", \"of_the\", \"online\", \"operations\", \"operations\", \"optimal\", \"optimal\", \"optimization\", \"optimize\", \"option\", \"order\", \"order\", \"organizational\", \"overview\", \"performance\", \"performance\", \"perspective\", \"perspective\", \"perspectives\", \"pharmaceutical\", \"pharmaceutical\", \"pharmaceutical\", \"planning\", \"power\", \"practices\", \"practices\", \"price\", \"price\", \"price\", \"pricing\", \"pricing\", \"proactive\", \"problem\", \"problem\", \"processes\", \"product\", \"product\", \"production\", \"products\", \"products\", \"programming\", \"programming\", \"projects\", \"purchasing\", \"quality\", \"quality\", \"quality\", \"quantification\", \"quantifying\", \"real\", \"regional\", \"relational\", \"relationships\", \"remanufacturing\", \"research\", \"research\", \"research\", \"resilience\", \"resilience\", \"resilient\", \"resource\", \"resource\", \"response\", \"responsibility\", \"retailers\", \"returns\", \"review\", \"review\", \"risk\", \"risk\", \"risk_management\", \"risk_management\", \"risks\", \"safety\", \"sales\", \"scheduling\", \"security\", \"service\", \"service\", \"sharing\", \"sharing\", \"simultaneous\", \"smart\", \"solution\", \"startups\", \"state\", \"stochastic\", \"stochastic\", \"stock\", \"strategic\", \"strategic\", \"strategies\", \"strategies\", \"strategy\", \"study\", \"success\", \"supplier\", \"supplier\", \"supplier\", \"supply\", \"supply_chain\", \"supply_chain\", \"supply_chain\", \"supply_chain\", \"supply_chain\", \"supply_chain\", \"supply_chain\", \"supply_chain\", \"supply_chains\", \"supply_chains\", \"support\", \"sustainability\", \"sustainability\", \"sustainability\", \"sustainable\", \"sustainable\", \"sustainable\", \"sustainable\", \"system\", \"systematic\", \"systems\", \"taxonomy\", \"text\", \"the\", \"the\", \"the\", \"the_role\", \"the_role\", \"theoretic\", \"theory\", \"tier\", \"time\", \"time\", \"tool\", \"towards\", \"towards\", \"traceability\", \"traceability\", \"transaction\", \"transportation\", \"transportation\", \"transshipment\", \"two_stage\", \"uncertainty\", \"uncertainty\", \"uncertainty\", \"vehicle\", \"vendor\", \"view\", \"visibility\", \"worldwide\"]}, \"R\": 30, \"lambda.step\": 0.01, \"plot.opts\": {\"xlab\": \"PC1\", \"ylab\": \"PC2\"}, \"topic.order\": [14, 3, 12, 11, 7, 5, 15, 13, 2, 1, 4, 8, 6, 9, 10]};\n",
       "\n",
       "function LDAvis_load_lib(url, callback){\n",
       "  var s = document.createElement('script');\n",
       "  s.src = url;\n",
       "  s.async = true;\n",
       "  s.onreadystatechange = s.onload = callback;\n",
       "  s.onerror = function(){console.warn(\"failed to load library \" + url);};\n",
       "  document.getElementsByTagName(\"head\")[0].appendChild(s);\n",
       "}\n",
       "\n",
       "if(typeof(LDAvis) !== \"undefined\"){\n",
       "   // already loaded: just create the visualization\n",
       "   !function(LDAvis){\n",
       "       new LDAvis(\"#\" + \"ldavis_el2865850414560164848228254\", ldavis_el2865850414560164848228254_data);\n",
       "   }(LDAvis);\n",
       "}else if(typeof define === \"function\" && define.amd){\n",
       "   // require.js is available: use it to load d3/LDAvis\n",
       "   require.config({paths: {d3: \"https://cdnjs.cloudflare.com/ajax/libs/d3/3.5.5/d3.min\"}});\n",
       "   require([\"d3\"], function(d3){\n",
       "      window.d3 = d3;\n",
       "      LDAvis_load_lib(\"https://cdn.rawgit.com/bmabey/pyLDAvis/files/ldavis.v1.0.0.js\", function(){\n",
       "        new LDAvis(\"#\" + \"ldavis_el2865850414560164848228254\", ldavis_el2865850414560164848228254_data);\n",
       "      });\n",
       "    });\n",
       "}else{\n",
       "    // require.js not available: dynamically load d3 & LDAvis\n",
       "    LDAvis_load_lib(\"https://cdnjs.cloudflare.com/ajax/libs/d3/3.5.5/d3.min.js\", function(){\n",
       "         LDAvis_load_lib(\"https://cdn.rawgit.com/bmabey/pyLDAvis/files/ldavis.v1.0.0.js\", function(){\n",
       "                 new LDAvis(\"#\" + \"ldavis_el2865850414560164848228254\", ldavis_el2865850414560164848228254_data);\n",
       "            })\n",
       "         });\n",
       "}\n",
       "</script>"
      ],
      "text/plain": [
       "PreparedData(topic_coordinates=            Freq  cluster  topics         x         y\n",
       "topic                                                \n",
       "13     44.265024        1       1  0.192461  0.081703\n",
       "2      10.234095        1       2  0.100841 -0.144657\n",
       "11      6.077295        1       3 -0.006758  0.001517\n",
       "10      6.050835        1       4 -0.007351  0.028892\n",
       "6       5.451176        1       5 -0.019744  0.014908\n",
       "4       3.450378        1       6 -0.036883  0.002094\n",
       "14      3.224861        1       7 -0.019824 -0.002449\n",
       "12      2.899898        1       8 -0.026930  0.007914\n",
       "1       2.877925        1       9 -0.027363  0.010340\n",
       "0       2.769290        1      10 -0.034615  0.006244\n",
       "3       2.694513        1      11 -0.023774  0.000969\n",
       "7       2.611105        1      12 -0.027212 -0.001399\n",
       "5       2.485793        1      13 -0.017773 -0.006592\n",
       "8       2.472261        1      14 -0.022273  0.000246\n",
       "9       2.435552        1      15 -0.022803  0.000269, topic_info=     Category       Freq              Term      Total  loglift  logprob\n",
       "term                                                                   \n",
       "925   Default   6.000000       information   6.000000  30.0000  30.0000\n",
       "1792  Default   5.000000     supply_chains   5.000000  29.0000  29.0000\n",
       "1797  Default  13.000000       sustainable  13.000000  28.0000  28.0000\n",
       "1232  Default   5.000000    network_design   5.000000  27.0000  27.0000\n",
       "1791  Default  43.000000      supply_chain  43.000000  26.0000  26.0000\n",
       "1088  Default   5.000000         logistics   5.000000  25.0000  25.0000\n",
       "744   Default   8.000000              food   8.000000  24.0000  24.0000\n",
       "1105  Default  22.000000        management  22.000000  23.0000  23.0000\n",
       "1191  Default  10.000000             model  10.000000  22.0000  22.0000\n",
       "1852  Default   3.000000          the_role   3.000000  21.0000  21.0000\n",
       "1558  Default   5.000000        resilience   5.000000  20.0000  20.0000\n",
       "1938  Default   4.000000       uncertainty   4.000000  19.0000  19.0000\n",
       "1599  Default   6.000000              risk   6.000000  18.0000  18.0000\n",
       "1349  Default   6.000000       perspective   6.000000  17.0000  17.0000\n",
       "306   Default   8.000000       closed_loop   8.000000  16.0000  16.0000\n",
       "1400  Default   3.000000         practices   3.000000  15.0000  15.0000\n",
       "1559  Default   2.000000         resilient   2.000000  14.0000  14.0000\n",
       "75    Default   9.000000          analysis   9.000000  13.0000  13.0000\n",
       "1483  Default   6.000000           quality   6.000000  12.0000  12.0000\n",
       "346   Default   2.000000   competitiveness   2.000000  11.0000  11.0000\n",
       "859   Default   2.000000               how   2.000000  10.0000  10.0000\n",
       "1796  Default   8.000000    sustainability   8.000000   9.0000   9.0000\n",
       "1567  Default   2.000000    responsibility   2.000000   8.0000   8.0000\n",
       "1210  Default   5.000000             multi   5.000000   7.0000   7.0000\n",
       "952   Default   8.000000       integration   8.000000   6.0000   6.0000\n",
       "208   Default   4.000000        blockchain   4.000000   5.0000   5.0000\n",
       "1419  Default   5.000000           pricing   5.000000   4.0000   4.0000\n",
       "920   Default   9.000000          industry   9.000000   3.0000   3.0000\n",
       "93    Default   2.000000       application   2.000000   2.0000   2.0000\n",
       "1787  Default   4.000000          supplier   4.000000   1.0000   1.0000\n",
       "...       ...        ...               ...        ...      ...      ...\n",
       "573   Topic15   0.194112             earth   0.658200   2.4939  -5.8137\n",
       "1497  Topic15   0.194049              rare   0.658432   2.4932  -5.8141\n",
       "204   Topic15   0.186837       biorefinery   0.651024   2.4667  -5.8519\n",
       "662   Topic15   0.186660           ethanol   0.651017   2.4657  -5.8529\n",
       "1701  Topic15   0.311455             socio   1.094737   2.4580  -5.3409\n",
       "1115  Topic15   0.181152           mapping   0.644910   2.4452  -5.8828\n",
       "376   Topic15   0.169090         consensus   0.633571   2.3941  -5.9517\n",
       "417   Topic15   0.168952       coopetition   0.633534   2.3933  -5.9526\n",
       "373   Topic15   0.168937            conict   0.633681   2.3930  -5.9526\n",
       "31    Topic15   0.222918         advantage   0.841245   2.3869  -5.6754\n",
       "1926  Topic15   0.160592             twins   0.625287   2.3557  -6.0033\n",
       "1566  Topic15   0.154933         responses   0.619288   2.3294  -6.0392\n",
       "1837  Topic15   0.155036          tensions   0.619824   2.3292  -6.0385\n",
       "237   Topic15   0.154849            buying   0.619143   2.3291  -6.0397\n",
       "940   Topic15   0.154825            inside   0.619539   2.3283  -6.0399\n",
       "1141  Topic15   0.191866              meat   0.881598   2.1901  -5.8254\n",
       "1205  Topic15   0.160984            moving   0.775609   2.1427  -6.0009\n",
       "292   Topic15   0.184875           chinese   0.917609   2.1129  -5.8625\n",
       "1064  Topic15   0.177677   lignocellulosic   0.887166   2.1069  -5.9022\n",
       "1597  Topic15   0.281761            ripple   1.580767   1.9904  -5.4411\n",
       "521   Topic15   0.241267           digital   1.405806   1.9525  -5.5963\n",
       "495   Topic15   0.239217               der   2.030280   1.5764  -5.6048\n",
       "1558  Topic15   0.306528        resilience   5.002882   0.9225  -5.3569\n",
       "345   Topic15   0.203097       competitive   1.439241   1.7568  -5.7685\n",
       "1602  Topic15   0.274793             risks   4.235227   0.9798  -5.4662\n",
       "587   Topic15   0.283955            effect   6.124094   0.6438  -5.4334\n",
       "135   Topic15   0.219801        automotive   2.296769   1.3685  -5.6894\n",
       "1040  Topic15   0.179815        leadership   1.076134   1.9258  -5.8902\n",
       "1791  Topic15   0.211978      supply_chain  43.503785  -1.6091  -5.7257\n",
       "732   Topic15   0.180801  firm_performance   3.061456   0.8857  -5.8848\n",
       "\n",
       "[710 rows x 6 columns], token_table=      Topic      Freq            Term\n",
       "term                                 \n",
       "10        5  0.733837       achieving\n",
       "28       14  0.855916        advanced\n",
       "47        1  0.393703         agility\n",
       "49        2  0.838910            agri\n",
       "51        1  0.955007    agricultural\n",
       "52        2  0.723845     agriculture\n",
       "75        1  0.611461        analysis\n",
       "75        2  0.203820        analysis\n",
       "75        4  0.101910        analysis\n",
       "79        2  0.566461       analytics\n",
       "79       13  0.566461       analytics\n",
       "80        1  0.494290       analyzing\n",
       "93        3  0.342778     application\n",
       "93        6  0.342778     application\n",
       "94        2  0.790369    applications\n",
       "97        1  0.677217        approach\n",
       "97        2  0.112869        approach\n",
       "107       6  0.848347             art\n",
       "121      11  0.777204       asymmetry\n",
       "135       1  0.870788      automotive\n",
       "138       2  0.600251        aversion\n",
       "153       5  0.832897            bank\n",
       "155      10  0.665383            base\n",
       "156       1  0.891498           based\n",
       "166       1  0.466461        behavior\n",
       "166       2  0.466461        behavior\n",
       "183       4  0.978387    bibliometric\n",
       "186       1  0.318308        big_data\n",
       "186       2  0.318308        big_data\n",
       "192       2  0.974483             bio\n",
       "...     ...       ...             ...\n",
       "1824      2  0.913595        taxonomy\n",
       "1845      5  1.047279            text\n",
       "1849      1  0.751346             the\n",
       "1849      2  0.083483             the\n",
       "1849      4  0.083483             the\n",
       "1852      1  0.664191        the_role\n",
       "1852     14  0.332095        the_role\n",
       "1854      2  0.903894       theoretic\n",
       "1857      1  0.956426          theory\n",
       "1869      2  0.632301            tier\n",
       "1872      1  0.393953            time\n",
       "1872      4  0.393953            time\n",
       "1880      2  0.646614            tool\n",
       "1889      1  0.593975         towards\n",
       "1889      5  0.593975         towards\n",
       "1894      2  0.587556    traceability\n",
       "1894      5  0.587556    traceability\n",
       "1903      3  0.990880     transaction\n",
       "1912      1  0.673613  transportation\n",
       "1912      3  0.336807  transportation\n",
       "1914      7  0.698542   transshipment\n",
       "1930      4  0.591813       two_stage\n",
       "1938      2  0.248229     uncertainty\n",
       "1938      3  0.496457     uncertainty\n",
       "1938      5  0.248229     uncertainty\n",
       "1984      1  0.773322         vehicle\n",
       "1986      4  0.785899          vendor\n",
       "1992      1  0.750635            view\n",
       "1994      8  0.872017      visibility\n",
       "2029      5  0.991365       worldwide\n",
       "\n",
       "[360 rows x 3 columns], R=30, lambda_step=0.01, plot_opts={'xlab': 'PC1', 'ylab': 'PC2'}, topic_order=[14, 3, 12, 11, 7, 5, 15, 13, 2, 1, 4, 8, 6, 9, 10])"
      ]
     },
     "execution_count": 90,
     "metadata": {},
     "output_type": "execute_result"
    }
   ],
   "source": [
    "pyLDAvis.sklearn.prepare(lda, vectorized, vectorizer)"
   ]
  },
  {
   "cell_type": "code",
   "execution_count": null,
   "metadata": {},
   "outputs": [],
   "source": []
  }
 ],
 "metadata": {
  "kernelspec": {
   "display_name": "Python 3",
   "language": "python",
   "name": "python3"
  },
  "language_info": {
   "codemirror_mode": {
    "name": "ipython",
    "version": 3
   },
   "file_extension": ".py",
   "mimetype": "text/x-python",
   "name": "python",
   "nbconvert_exporter": "python",
   "pygments_lexer": "ipython3",
   "version": "3.6.8"
  }
 },
 "nbformat": 4,
 "nbformat_minor": 2
}
