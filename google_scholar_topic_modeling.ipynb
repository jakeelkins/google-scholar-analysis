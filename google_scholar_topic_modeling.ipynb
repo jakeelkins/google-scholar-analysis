{
 "cells": [
  {
   "cell_type": "code",
   "execution_count": 1,
   "metadata": {},
   "outputs": [],
   "source": [
    "import scholarly"
   ]
  },
  {
   "cell_type": "code",
   "execution_count": 2,
   "metadata": {},
   "outputs": [],
   "source": [
    "results = scholarly.search_pubs_custom_url('/scholar?as_ylo=2019&q=\"supply+chain\"&hl=en&as_sdt=1,1&as_vis=1')"
   ]
  },
  {
   "cell_type": "code",
   "execution_count": 3,
   "metadata": {},
   "outputs": [
    {
     "name": "stdout",
     "output_type": "stream",
     "text": [
      "{'_filled': False,\n",
      " 'bib': {'abstract': 'We opened our 2010 paper in the Journal of Business '\n",
      "                     'Logistics with a 6th century quote by Heraclitus–“The '\n",
      "                     'only constant is change.” This immutable law certainly '\n",
      "                     \"holds in today's volatile business world, especially for \"\n",
      "                     'supply chain management, and has been the driving …',\n",
      "         'author': 'TJ Pettit and KL Croxton and J Fiksel',\n",
      "         'eprint': 'https://onlinelibrary.wiley.com/doi/pdf/10.1111/jbl.12202',\n",
      "         'title': 'The Evolution of Resilience in Supply Chain Management: A '\n",
      "                  'Retrospective on Ensuring Supply Chain Resilience',\n",
      "         'url': 'https://onlinelibrary.wiley.com/doi/abs/10.1111/jbl.12202'},\n",
      " 'citedby': 1,\n",
      " 'id_scholarcitedby': '16408947525918857329',\n",
      " 'source': 'scholar',\n",
      " 'url_scholarbib': 'https://scholar.googleusercontent.com/scholar.bib?q=info:cRhrJNZKuOMJ:scholar.google.com/&output=citation&scisdr=CgUD3q0BGAA:AAGBfm0AAAAAXZyxVpz5GxkCK5HmHQ_fi0d6zAHz62W6&scisig=AAGBfm0AAAAAXZyxVlgZa-yPjimQoz5A5bzHuHkpwZtb&scisf=4&ct=citation&cd=0&hl=en'}\n"
     ]
    }
   ],
   "source": [
    "for result in results:\n",
    "    print(result)\n",
    "    break"
   ]
  },
  {
   "cell_type": "code",
   "execution_count": 4,
   "metadata": {},
   "outputs": [],
   "source": [
    "num_scraped = 0\n",
    "title_list = []\n",
    "\n",
    "for result in results:\n",
    "    num_scraped += 1\n",
    "    \n",
    "    title_list.append(result.bib['title'])\n",
    "    \n",
    "    if num_scraped == 5000:\n",
    "        break"
   ]
  },
  {
   "cell_type": "code",
   "execution_count": 5,
   "metadata": {},
   "outputs": [
    {
     "data": {
      "text/plain": [
       "'An empirical analysis of supply chain finance adoption'"
      ]
     },
     "execution_count": 5,
     "metadata": {},
     "output_type": "execute_result"
    }
   ],
   "source": [
    "title_list[2]"
   ]
  },
  {
   "cell_type": "code",
   "execution_count": 6,
   "metadata": {},
   "outputs": [],
   "source": [
    "import pandas as pd\n",
    "from sklearn.feature_extraction.text import TfidfVectorizer\n",
    "from sklearn.cluster import KMeans\n",
    "from gensim.models.phrases import Phrases\n",
    "from gensim.utils import simple_preprocess\n",
    "from gensim.parsing.preprocessing import remove_stopwords"
   ]
  },
  {
   "cell_type": "code",
   "execution_count": 7,
   "metadata": {},
   "outputs": [],
   "source": [
    "example = title_list[0]"
   ]
  },
  {
   "cell_type": "code",
   "execution_count": 8,
   "metadata": {},
   "outputs": [
    {
     "data": {
      "text/plain": [
       "'A behavioral investigation of supply chain contracts for a newsvendor problem in a developing economy'"
      ]
     },
     "execution_count": 8,
     "metadata": {},
     "output_type": "execute_result"
    }
   ],
   "source": [
    "example"
   ]
  },
  {
   "cell_type": "code",
   "execution_count": 9,
   "metadata": {},
   "outputs": [
    {
     "data": {
      "text/plain": [
       "['behavioral',\n",
       " 'investigation',\n",
       " 'of',\n",
       " 'supply',\n",
       " 'chain',\n",
       " 'contracts',\n",
       " 'for',\n",
       " 'newsvendor',\n",
       " 'problem',\n",
       " 'in',\n",
       " 'developing',\n",
       " 'economy']"
      ]
     },
     "execution_count": 9,
     "metadata": {},
     "output_type": "execute_result"
    }
   ],
   "source": [
    "simple_preprocess(example)"
   ]
  },
  {
   "cell_type": "code",
   "execution_count": 10,
   "metadata": {},
   "outputs": [],
   "source": [
    "corpus = pd.DataFrame(columns=['raw_text', 'processed_text'])"
   ]
  },
  {
   "cell_type": "code",
   "execution_count": 11,
   "metadata": {},
   "outputs": [],
   "source": [
    "for i, title in enumerate(title_list):\n",
    "    \n",
    "    corpus.loc[i, 'raw_text'] = title\n",
    "    \n",
    "    no_stop_title = remove_stopwords(title)\n",
    "    \n",
    "    processed = simple_preprocess(no_stop_title)\n",
    "    \n",
    "    corpus.loc[i, 'processed_text'] = processed"
   ]
  },
  {
   "cell_type": "code",
   "execution_count": 12,
   "metadata": {},
   "outputs": [
    {
     "data": {
      "text/plain": [
       "['behavioral',\n",
       " 'investigation',\n",
       " 'supply',\n",
       " 'chain',\n",
       " 'contracts',\n",
       " 'newsvendor',\n",
       " 'problem',\n",
       " 'developing',\n",
       " 'economy']"
      ]
     },
     "execution_count": 12,
     "metadata": {},
     "output_type": "execute_result"
    }
   ],
   "source": [
    "corpus.loc[0, 'processed_text']"
   ]
  },
  {
   "cell_type": "code",
   "execution_count": 13,
   "metadata": {},
   "outputs": [],
   "source": [
    "bigrammer = Phrases(corpus['processed_text'], threshold=5)"
   ]
  },
  {
   "cell_type": "code",
   "execution_count": 14,
   "metadata": {},
   "outputs": [
    {
     "data": {
      "text/plain": [
       "['blockchain_technology',\n",
       " 'relationships',\n",
       " 'sustainable',\n",
       " 'supply_chain',\n",
       " 'management']"
      ]
     },
     "execution_count": 14,
     "metadata": {},
     "output_type": "execute_result"
    }
   ],
   "source": [
    "bigrammer[corpus.loc[7, 'processed_text']]"
   ]
  },
  {
   "cell_type": "code",
   "execution_count": 15,
   "metadata": {},
   "outputs": [],
   "source": [
    "corpus['bigram_proc_text'] = [[0]]*len(corpus)\n",
    "\n",
    "for i in range(len(corpus)):\n",
    "    \n",
    "    corpus.loc[i, 'bigram_proc_text'] = bigrammer[corpus.loc[i, 'processed_text']]"
   ]
  },
  {
   "cell_type": "code",
   "execution_count": 16,
   "metadata": {},
   "outputs": [],
   "source": [
    "teststr = ' hi my name is jake'"
   ]
  },
  {
   "cell_type": "code",
   "execution_count": 17,
   "metadata": {},
   "outputs": [
    {
     "data": {
      "text/plain": [
       "'hi my name is jake'"
      ]
     },
     "execution_count": 17,
     "metadata": {},
     "output_type": "execute_result"
    }
   ],
   "source": [
    "teststr[1:]"
   ]
  },
  {
   "cell_type": "code",
   "execution_count": 18,
   "metadata": {},
   "outputs": [],
   "source": [
    "new_corpus = []\n",
    "\n",
    "for doc in corpus['bigram_proc_text']:\n",
    "    \n",
    "    build_str = ''\n",
    "    \n",
    "    for xstr in doc:\n",
    "        \n",
    "        build_str = build_str + ' ' + xstr\n",
    "        \n",
    "    build_str = build_str[1:]\n",
    "    \n",
    "    new_corpus.append(build_str)"
   ]
  },
  {
   "cell_type": "code",
   "execution_count": 19,
   "metadata": {},
   "outputs": [],
   "source": [
    "vectorizer = TfidfVectorizer(lowercase=False)"
   ]
  },
  {
   "cell_type": "code",
   "execution_count": 20,
   "metadata": {},
   "outputs": [],
   "source": [
    "vectorized = vectorizer.fit_transform(new_corpus)"
   ]
  },
  {
   "cell_type": "code",
   "execution_count": 21,
   "metadata": {},
   "outputs": [],
   "source": [
    "from sklearn.cluster import KMeans"
   ]
  },
  {
   "cell_type": "code",
   "execution_count": 22,
   "metadata": {},
   "outputs": [
    {
     "data": {
      "text/plain": [
       "<1x2036 sparse matrix of type '<class 'numpy.float64'>'\n",
       "\twith 8 stored elements in Compressed Sparse Row format>"
      ]
     },
     "execution_count": 22,
     "metadata": {},
     "output_type": "execute_result"
    }
   ],
   "source": [
    "vectorized[0]"
   ]
  },
  {
   "cell_type": "code",
   "execution_count": 69,
   "metadata": {},
   "outputs": [],
   "source": [
    "kmeans = KMeans(n_clusters=50).fit(vectorized)"
   ]
  },
  {
   "cell_type": "code",
   "execution_count": 70,
   "metadata": {},
   "outputs": [
    {
     "data": {
      "text/plain": [
       "array([[0., 0., 0., ..., 0., 0., 0.],\n",
       "       [0., 0., 0., ..., 0., 0., 0.],\n",
       "       [0., 0., 0., ..., 0., 0., 0.],\n",
       "       ...,\n",
       "       [0., 0., 0., ..., 0., 0., 0.],\n",
       "       [0., 0., 0., ..., 0., 0., 0.],\n",
       "       [0., 0., 0., ..., 0., 0., 0.]])"
      ]
     },
     "execution_count": 70,
     "metadata": {},
     "output_type": "execute_result"
    }
   ],
   "source": [
    "kmeans.cluster_centers_"
   ]
  },
  {
   "cell_type": "code",
   "execution_count": 71,
   "metadata": {},
   "outputs": [],
   "source": [
    "from sklearn.metrics import pairwise_distances_argmin_min"
   ]
  },
  {
   "cell_type": "code",
   "execution_count": 72,
   "metadata": {},
   "outputs": [],
   "source": [
    "closest, _ = pairwise_distances_argmin_min(kmeans.cluster_centers_, vectorized)"
   ]
  },
  {
   "cell_type": "code",
   "execution_count": 73,
   "metadata": {},
   "outputs": [
    {
     "data": {
      "text/plain": [
       "array([581, 607, 627, 466, 235, 123, 587, 311, 541, 831, 634, 746, 122,\n",
       "       395, 263, 309, 740, 147, 719, 138, 631, 683, 407, 832, 432, 149,\n",
       "       480, 530, 742, 756, 625, 226, 167,  76, 682, 844, 916, 290, 103,\n",
       "       228, 729,  23, 305, 315, 860, 566, 361,  39, 154, 246])"
      ]
     },
     "execution_count": 73,
     "metadata": {},
     "output_type": "execute_result"
    }
   ],
   "source": [
    "closest"
   ]
  },
  {
   "cell_type": "code",
   "execution_count": 74,
   "metadata": {},
   "outputs": [
    {
     "data": {
      "text/plain": [
       "'Identifying trade-offs between sustainability dimensions in the supply chain of biodiesel in Colombia'"
      ]
     },
     "execution_count": 74,
     "metadata": {},
     "output_type": "execute_result"
    }
   ],
   "source": [
    "corpus.loc[closest[0], 'raw_text']"
   ]
  },
  {
   "cell_type": "code",
   "execution_count": 75,
   "metadata": {},
   "outputs": [
    {
     "data": {
      "text/plain": [
       "\"Supply chain coordination to optimize manufacturer's capacity procurement decisions through a new commitment-based model with penalty and revenue …\""
      ]
     },
     "execution_count": 75,
     "metadata": {},
     "output_type": "execute_result"
    }
   ],
   "source": [
    "corpus.loc[closest[1], 'raw_text']"
   ]
  },
  {
   "cell_type": "code",
   "execution_count": 76,
   "metadata": {},
   "outputs": [
    {
     "data": {
      "text/plain": [
       "'Architectures for Green-Field Supply Chain Integration-Supply Chain Integration Design'"
      ]
     },
     "execution_count": 76,
     "metadata": {},
     "output_type": "execute_result"
    }
   ],
   "source": [
    "corpus.loc[closest[2], 'raw_text']"
   ]
  },
  {
   "cell_type": "code",
   "execution_count": 77,
   "metadata": {},
   "outputs": [
    {
     "data": {
      "text/plain": [
       "'Optimal planning of municipal solid waste management systems in an integrated supply chain network'"
      ]
     },
     "execution_count": 77,
     "metadata": {},
     "output_type": "execute_result"
    }
   ],
   "source": [
    "corpus.loc[closest[3], 'raw_text']"
   ]
  },
  {
   "cell_type": "code",
   "execution_count": 78,
   "metadata": {},
   "outputs": [],
   "source": [
    "corpus['kmeans_pred'] = kmeans.predict(vectorized)"
   ]
  },
  {
   "cell_type": "code",
   "execution_count": 79,
   "metadata": {},
   "outputs": [
    {
     "data": {
      "text/plain": [
       "45    75\n",
       "25    46\n",
       "6     43\n",
       "34    31\n",
       "22    31\n",
       "24    28\n",
       "29    27\n",
       "35    27\n",
       "7     26\n",
       "19    26\n",
       "46    26\n",
       "20    25\n",
       "16    24\n",
       "23    23\n",
       "4     22\n",
       "3     22\n",
       "14    22\n",
       "2     21\n",
       "49    21\n",
       "15    20\n",
       "37    20\n",
       "40    20\n",
       "32    19\n",
       "48    18\n",
       "8     18\n",
       "31    17\n",
       "11    17\n",
       "21    17\n",
       "13    17\n",
       "44    16\n",
       "27    15\n",
       "42    15\n",
       "17    15\n",
       "30    14\n",
       "28    14\n",
       "26    13\n",
       "43    13\n",
       "1     13\n",
       "39    12\n",
       "18    12\n",
       "41    11\n",
       "5     11\n",
       "47    11\n",
       "38    10\n",
       "9      9\n",
       "33     9\n",
       "12     8\n",
       "10     8\n",
       "36     7\n",
       "0      3\n",
       "Name: kmeans_pred, dtype: int64"
      ]
     },
     "execution_count": 79,
     "metadata": {},
     "output_type": "execute_result"
    }
   ],
   "source": [
    "corpus['kmeans_pred'].value_counts()"
   ]
  },
  {
   "cell_type": "code",
   "execution_count": 83,
   "metadata": {},
   "outputs": [
    {
     "data": {
      "text/html": [
       "<div>\n",
       "<style scoped>\n",
       "    .dataframe tbody tr th:only-of-type {\n",
       "        vertical-align: middle;\n",
       "    }\n",
       "\n",
       "    .dataframe tbody tr th {\n",
       "        vertical-align: top;\n",
       "    }\n",
       "\n",
       "    .dataframe thead th {\n",
       "        text-align: right;\n",
       "    }\n",
       "</style>\n",
       "<table border=\"1\" class=\"dataframe\">\n",
       "  <thead>\n",
       "    <tr style=\"text-align: right;\">\n",
       "      <th></th>\n",
       "      <th>raw_text</th>\n",
       "      <th>processed_text</th>\n",
       "      <th>bigram_proc_text</th>\n",
       "      <th>kmeans_pred</th>\n",
       "    </tr>\n",
       "  </thead>\n",
       "  <tbody>\n",
       "    <tr>\n",
       "      <th>5</th>\n",
       "      <td>Supply chain management in industrial marketin...</td>\n",
       "      <td>[supply, chain, management, industrial, market...</td>\n",
       "      <td>[supply_chain, management, industrial, marketi...</td>\n",
       "      <td>6</td>\n",
       "    </tr>\n",
       "    <tr>\n",
       "      <th>10</th>\n",
       "      <td>Resilience of medium-sized firms to supply cha...</td>\n",
       "      <td>[resilience, medium, sized, firms, supply, cha...</td>\n",
       "      <td>[resilience, medium, sized, firms, supply_chai...</td>\n",
       "      <td>6</td>\n",
       "    </tr>\n",
       "    <tr>\n",
       "      <th>28</th>\n",
       "      <td>Competition policy and antitrust law: implicat...</td>\n",
       "      <td>[competition, policy, antitrust, law, implicat...</td>\n",
       "      <td>[competition, policy, antitrust, law, implicat...</td>\n",
       "      <td>6</td>\n",
       "    </tr>\n",
       "    <tr>\n",
       "      <th>51</th>\n",
       "      <td>The Promise: Signaling Sustainability in Suppl...</td>\n",
       "      <td>[the, promise, signaling, sustainability, supp...</td>\n",
       "      <td>[the, promise, signaling, sustainability, supp...</td>\n",
       "      <td>6</td>\n",
       "    </tr>\n",
       "    <tr>\n",
       "      <th>98</th>\n",
       "      <td>Reporting on supply chain sustainability: Meas...</td>\n",
       "      <td>[reporting, supply, chain, sustainability, mea...</td>\n",
       "      <td>[reporting, supply_chain, sustainability, meas...</td>\n",
       "      <td>6</td>\n",
       "    </tr>\n",
       "    <tr>\n",
       "      <th>134</th>\n",
       "      <td>Supply Chain Linked Sustainability Assessment ...</td>\n",
       "      <td>[supply, chain, linked, sustainability, assess...</td>\n",
       "      <td>[supply_chain, linked, sustainability, assessm...</td>\n",
       "      <td>6</td>\n",
       "    </tr>\n",
       "    <tr>\n",
       "      <th>143</th>\n",
       "      <td>Does social capital matter for supply chain re...</td>\n",
       "      <td>[does, social, capital, matter, supply, chain,...</td>\n",
       "      <td>[does, social, capital, matter, supply_chain, ...</td>\n",
       "      <td>6</td>\n",
       "    </tr>\n",
       "    <tr>\n",
       "      <th>144</th>\n",
       "      <td>Supply chain sustainability risk and assessment</td>\n",
       "      <td>[supply, chain, sustainability, risk, assessment]</td>\n",
       "      <td>[supply_chain, sustainability, risk_assessment]</td>\n",
       "      <td>6</td>\n",
       "    </tr>\n",
       "    <tr>\n",
       "      <th>152</th>\n",
       "      <td>Information sharing and the impact of shutdown...</td>\n",
       "      <td>[information, sharing, impact, shutdown, polic...</td>\n",
       "      <td>[information_sharing, impact, shutdown, policy...</td>\n",
       "      <td>6</td>\n",
       "    </tr>\n",
       "    <tr>\n",
       "      <th>222</th>\n",
       "      <td>Exploring the Social, Economic and Environment...</td>\n",
       "      <td>[exploring, social, economic, environmental, f...</td>\n",
       "      <td>[exploring, social, economic, environmental, f...</td>\n",
       "      <td>6</td>\n",
       "    </tr>\n",
       "  </tbody>\n",
       "</table>\n",
       "</div>"
      ],
      "text/plain": [
       "                                              raw_text  \\\n",
       "5    Supply chain management in industrial marketin...   \n",
       "10   Resilience of medium-sized firms to supply cha...   \n",
       "28   Competition policy and antitrust law: implicat...   \n",
       "51   The Promise: Signaling Sustainability in Suppl...   \n",
       "98   Reporting on supply chain sustainability: Meas...   \n",
       "134  Supply Chain Linked Sustainability Assessment ...   \n",
       "143  Does social capital matter for supply chain re...   \n",
       "144    Supply chain sustainability risk and assessment   \n",
       "152  Information sharing and the impact of shutdown...   \n",
       "222  Exploring the Social, Economic and Environment...   \n",
       "\n",
       "                                        processed_text  \\\n",
       "5    [supply, chain, management, industrial, market...   \n",
       "10   [resilience, medium, sized, firms, supply, cha...   \n",
       "28   [competition, policy, antitrust, law, implicat...   \n",
       "51   [the, promise, signaling, sustainability, supp...   \n",
       "98   [reporting, supply, chain, sustainability, mea...   \n",
       "134  [supply, chain, linked, sustainability, assess...   \n",
       "143  [does, social, capital, matter, supply, chain,...   \n",
       "144  [supply, chain, sustainability, risk, assessment]   \n",
       "152  [information, sharing, impact, shutdown, polic...   \n",
       "222  [exploring, social, economic, environmental, f...   \n",
       "\n",
       "                                      bigram_proc_text  kmeans_pred  \n",
       "5    [supply_chain, management, industrial, marketi...            6  \n",
       "10   [resilience, medium, sized, firms, supply_chai...            6  \n",
       "28   [competition, policy, antitrust, law, implicat...            6  \n",
       "51   [the, promise, signaling, sustainability, supp...            6  \n",
       "98   [reporting, supply_chain, sustainability, meas...            6  \n",
       "134  [supply_chain, linked, sustainability, assessm...            6  \n",
       "143  [does, social, capital, matter, supply_chain, ...            6  \n",
       "144    [supply_chain, sustainability, risk_assessment]            6  \n",
       "152  [information_sharing, impact, shutdown, policy...            6  \n",
       "222  [exploring, social, economic, environmental, f...            6  "
      ]
     },
     "execution_count": 83,
     "metadata": {},
     "output_type": "execute_result"
    }
   ],
   "source": [
    "corpus[corpus['kmeans_pred']==6].head(10)"
   ]
  },
  {
   "cell_type": "code",
   "execution_count": null,
   "metadata": {},
   "outputs": [],
   "source": []
  },
  {
   "cell_type": "code",
   "execution_count": null,
   "metadata": {},
   "outputs": [],
   "source": []
  },
  {
   "cell_type": "markdown",
   "metadata": {},
   "source": [
    "## Do LDA with LDA vis for a little more intuition"
   ]
  },
  {
   "cell_type": "code",
   "execution_count": 32,
   "metadata": {},
   "outputs": [],
   "source": [
    "from sklearn.decomposition import LatentDirichletAllocation"
   ]
  },
  {
   "cell_type": "code",
   "execution_count": 57,
   "metadata": {},
   "outputs": [],
   "source": [
    "lda = LatentDirichletAllocation(n_components=5)"
   ]
  },
  {
   "cell_type": "code",
   "execution_count": 58,
   "metadata": {},
   "outputs": [
    {
     "name": "stderr",
     "output_type": "stream",
     "text": [
      "/anaconda3/lib/python3.6/site-packages/sklearn/decomposition/online_lda.py:536: DeprecationWarning: The default value for 'learning_method' will be changed from 'online' to 'batch' in the release 0.20. This warning was introduced in 0.18.\n",
      "  DeprecationWarning)\n"
     ]
    },
    {
     "data": {
      "text/plain": [
       "LatentDirichletAllocation(batch_size=128, doc_topic_prior=None,\n",
       "             evaluate_every=-1, learning_decay=0.7, learning_method=None,\n",
       "             learning_offset=10.0, max_doc_update_iter=100, max_iter=10,\n",
       "             mean_change_tol=0.001, n_components=5, n_jobs=1,\n",
       "             n_topics=None, perp_tol=0.1, random_state=None,\n",
       "             topic_word_prior=None, total_samples=1000000.0, verbose=0)"
      ]
     },
     "execution_count": 58,
     "metadata": {},
     "output_type": "execute_result"
    }
   ],
   "source": [
    "lda.fit(vectorized)"
   ]
  },
  {
   "cell_type": "code",
   "execution_count": 59,
   "metadata": {},
   "outputs": [],
   "source": [
    "import pyLDAvis.sklearn\n",
    "pyLDAvis.enable_notebook()"
   ]
  },
  {
   "cell_type": "code",
   "execution_count": 60,
   "metadata": {},
   "outputs": [
    {
     "data": {
      "text/html": [
       "\n",
       "<link rel=\"stylesheet\" type=\"text/css\" href=\"https://cdn.rawgit.com/bmabey/pyLDAvis/files/ldavis.v1.0.0.css\">\n",
       "\n",
       "\n",
       "<div id=\"ldavis_el2865850237133447675256534\"></div>\n",
       "<script type=\"text/javascript\">\n",
       "\n",
       "var ldavis_el2865850237133447675256534_data = {\"mdsDat\": {\"Freq\": [44.956820478105975, 23.480241187993585, 13.670434008248309, 9.349217256286755, 8.543287069365382], \"cluster\": [1, 1, 1, 1, 1], \"topics\": [1, 2, 3, 4, 5], \"x\": [0.12262731668690194, -0.0034432896308408726, -0.0412070825663725, -0.03329960037986276, -0.04467734410982581], \"y\": [-0.021190318645415703, 0.09574222408056403, -0.02362304324796055, -0.028179828937808207, -0.022749033249379574]}, \"tinfo\": {\"Category\": [\"Default\", \"Default\", \"Default\", \"Default\", \"Default\", \"Default\", \"Default\", \"Default\", \"Default\", \"Default\", \"Default\", \"Default\", \"Default\", \"Default\", \"Default\", \"Default\", \"Default\", \"Default\", \"Default\", \"Default\", \"Default\", \"Default\", \"Default\", \"Default\", \"Default\", \"Default\", \"Default\", \"Default\", \"Default\", \"Default\", \"Topic1\", \"Topic1\", \"Topic1\", \"Topic1\", \"Topic1\", \"Topic1\", \"Topic1\", \"Topic1\", \"Topic1\", \"Topic1\", \"Topic1\", \"Topic1\", \"Topic1\", \"Topic1\", \"Topic1\", \"Topic1\", \"Topic1\", \"Topic1\", \"Topic1\", \"Topic1\", \"Topic1\", \"Topic1\", \"Topic1\", \"Topic1\", \"Topic1\", \"Topic1\", \"Topic1\", \"Topic1\", \"Topic1\", \"Topic1\", \"Topic1\", \"Topic1\", \"Topic1\", \"Topic1\", \"Topic1\", \"Topic1\", \"Topic1\", \"Topic1\", \"Topic1\", \"Topic1\", \"Topic1\", \"Topic1\", \"Topic1\", \"Topic1\", \"Topic1\", \"Topic1\", \"Topic1\", \"Topic1\", \"Topic1\", \"Topic1\", \"Topic1\", \"Topic1\", \"Topic1\", \"Topic1\", \"Topic1\", \"Topic1\", \"Topic2\", \"Topic2\", \"Topic2\", \"Topic2\", \"Topic2\", \"Topic2\", \"Topic2\", \"Topic2\", \"Topic2\", \"Topic2\", \"Topic2\", \"Topic2\", \"Topic2\", \"Topic2\", \"Topic2\", \"Topic2\", \"Topic2\", \"Topic2\", \"Topic2\", \"Topic2\", \"Topic2\", \"Topic2\", \"Topic2\", \"Topic2\", \"Topic2\", \"Topic2\", \"Topic2\", \"Topic2\", \"Topic2\", \"Topic2\", \"Topic2\", \"Topic2\", \"Topic2\", \"Topic2\", \"Topic2\", \"Topic2\", \"Topic2\", \"Topic2\", \"Topic2\", \"Topic2\", \"Topic2\", \"Topic2\", \"Topic2\", \"Topic2\", \"Topic2\", \"Topic2\", \"Topic2\", \"Topic2\", \"Topic2\", \"Topic2\", \"Topic2\", \"Topic2\", \"Topic3\", \"Topic3\", \"Topic3\", \"Topic3\", \"Topic3\", \"Topic3\", \"Topic3\", \"Topic3\", \"Topic3\", \"Topic3\", \"Topic3\", \"Topic3\", \"Topic3\", \"Topic3\", \"Topic3\", \"Topic3\", \"Topic3\", \"Topic3\", \"Topic3\", \"Topic3\", \"Topic3\", \"Topic3\", \"Topic3\", \"Topic3\", \"Topic3\", \"Topic3\", \"Topic3\", \"Topic3\", \"Topic3\", \"Topic3\", \"Topic3\", \"Topic3\", \"Topic3\", \"Topic3\", \"Topic3\", \"Topic3\", \"Topic3\", \"Topic3\", \"Topic3\", \"Topic3\", \"Topic3\", \"Topic3\", \"Topic3\", \"Topic3\", \"Topic3\", \"Topic3\", \"Topic3\", \"Topic3\", \"Topic3\", \"Topic3\", \"Topic3\", \"Topic3\", \"Topic3\", \"Topic4\", \"Topic4\", \"Topic4\", \"Topic4\", \"Topic4\", \"Topic4\", \"Topic4\", \"Topic4\", \"Topic4\", \"Topic4\", \"Topic4\", \"Topic4\", \"Topic4\", \"Topic4\", \"Topic4\", \"Topic4\", \"Topic4\", \"Topic4\", \"Topic4\", \"Topic4\", \"Topic4\", \"Topic4\", \"Topic4\", \"Topic4\", \"Topic4\", \"Topic4\", \"Topic4\", \"Topic4\", \"Topic4\", \"Topic4\", \"Topic4\", \"Topic4\", \"Topic4\", \"Topic4\", \"Topic4\", \"Topic4\", \"Topic4\", \"Topic4\", \"Topic4\", \"Topic4\", \"Topic4\", \"Topic4\", \"Topic4\", \"Topic4\", \"Topic4\", \"Topic4\", \"Topic4\", \"Topic4\", \"Topic4\", \"Topic4\", \"Topic5\", \"Topic5\", \"Topic5\", \"Topic5\", \"Topic5\", \"Topic5\", \"Topic5\", \"Topic5\", \"Topic5\", \"Topic5\", \"Topic5\", \"Topic5\", \"Topic5\", \"Topic5\", \"Topic5\", \"Topic5\", \"Topic5\", \"Topic5\", \"Topic5\", \"Topic5\", \"Topic5\", \"Topic5\", \"Topic5\", \"Topic5\", \"Topic5\", \"Topic5\", \"Topic5\", \"Topic5\", \"Topic5\", \"Topic5\", \"Topic5\", \"Topic5\", \"Topic5\", \"Topic5\", \"Topic5\", \"Topic5\", \"Topic5\", \"Topic5\", \"Topic5\", \"Topic5\", \"Topic5\", \"Topic5\", \"Topic5\", \"Topic5\", \"Topic5\", \"Topic5\", \"Topic5\", \"Topic5\", \"Topic5\"], \"Freq\": [5.0, 2.0, 2.0, 6.0, 13.0, 3.0, 2.0, 13.0, 4.0, 21.0, 7.0, 3.0, 2.0, 11.0, 5.0, 1.0, 1.0, 3.0, 14.0, 8.0, 4.0, 2.0, 1.0, 1.0, 1.0, 3.0, 2.0, 1.0, 1.0, 4.0, 5.81356166347628, 12.309159094694104, 4.012189737349134, 3.8973774694970658, 3.4804472986475448, 3.381044120131588, 3.477894749940469, 3.394108445200716, 3.336644946452338, 5.5499020928866605, 4.032584716316375, 3.00167581760338, 2.8919711091752354, 3.8097205398438203, 2.874842251867205, 2.8516934936576592, 4.846372547726849, 5.302403825083701, 2.6594631852102086, 12.559495795968768, 4.903852522296788, 2.63833123446691, 2.588991759472135, 5.134752054174757, 2.522161157691805, 2.4984666666104554, 2.4641861458807477, 2.4579341345510044, 2.4009644097230445, 2.4745747532555447, 3.0997059268232294, 5.192168250690095, 3.255075065553057, 4.821419318349177, 4.741183557306795, 2.8068913442272274, 8.206177716716772, 25.517705300530363, 6.051221024166998, 4.986202588589585, 4.157268641006605, 5.108165889879347, 6.888125556490911, 5.414316394277065, 4.942942998927974, 11.006999186916541, 6.078516193384271, 5.575283128271213, 5.346268852984852, 5.617889914568183, 5.809054050552155, 4.557089951584572, 6.833547060178614, 4.56551441115246, 4.286883798026368, 4.442901832861799, 2.8543443364187544, 4.749235318420144, 2.3619877546653463, 1.964649704408192, 1.8911655540288972, 1.7630348233691049, 2.2081685800040174, 1.4686235123583213, 1.4510072754592438, 1.3565423593978743, 1.2535368786089822, 1.6275124312222604, 1.2370043832623228, 1.2843879044306186, 1.638311781026069, 1.1726370540314521, 1.101605638689595, 1.095220992568653, 1.1003070426264656, 3.528236367184853, 1.5744913000934397, 1.0825894904500901, 2.171938892209051, 1.4487149167196072, 1.7545905164912796, 1.029959008203436, 1.6848372257506836, 1.01983789699256, 1.0203159286265195, 1.0159512290740682, 2.043170455515347, 2.1622502364341285, 1.3424035602574478, 1.617626280205707, 2.706817864574655, 2.330113707043214, 3.448959770082256, 2.3835906457711658, 4.262824421721296, 5.665790662464882, 7.5849087605284184, 10.164298608800099, 2.682709431785689, 3.1427550273989917, 1.813118796748881, 3.020113798798684, 2.468835543188768, 2.0336913118705695, 1.9123779966126604, 2.398678325996667, 2.2608907854522564, 1.8109948971287573, 1.4144046466289788, 1.2177851011169927, 1.1733796151964777, 1.167289538441653, 1.045612345278306, 1.0164145539551845, 0.8879265958321267, 0.8505895369756681, 0.7971679161305542, 0.7774708387110214, 0.7764977602543301, 0.763535665540693, 0.7437622429276043, 0.7508882172445246, 0.69351145355212, 0.694881215583001, 0.6767217150716479, 0.6698838192017893, 0.6457838143701482, 0.5679141834914845, 0.5653808917254267, 0.579452262331773, 0.5527777963180013, 0.551224894617824, 0.5508715176048933, 0.5489867600164234, 0.5489266674897924, 0.546818247080574, 0.5461598384693609, 0.5429517414183388, 1.0517220555449782, 0.9379522395808657, 1.3815690400798166, 0.7531542778107634, 1.5947079032266422, 2.408072462203654, 0.8312043907780635, 1.5751046757912723, 0.8482241473203866, 1.8127781609608316, 0.970231270862746, 1.3010699527405483, 1.9628323367908826, 1.5693644702603258, 3.4929530574546694, 1.4190941118926816, 1.7383221925837213, 1.1937245781392396, 0.9623687580282659, 1.0944664404365085, 0.9553811545659696, 0.8664436948078339, 0.8283677105952357, 1.750542594338792, 1.842822264418615, 1.097784988159841, 0.7307330341897716, 0.6320691865243534, 0.5784407252252157, 0.574028231512183, 1.0025740300348673, 1.2777699989437734, 0.4809757134901647, 0.4371267181379963, 0.4257074762207413, 0.41164412971931025, 0.411682571157947, 0.4071780521671295, 0.4070056477824734, 0.39474112683116447, 0.39455858320387144, 0.39458725967312047, 0.3947398813133071, 0.5655058573152635, 0.5186776984913058, 0.37499850897482506, 0.3694455598830981, 0.35510246077149843, 0.34372029863420167, 0.3382746321894667, 0.3383304820310463, 0.336364901510819, 0.336217109919577, 0.5430760928020925, 0.9763693080993981, 1.2134645969310438, 0.6731116504806235, 0.5675218153514525, 0.5347560224064626, 0.6757895354479119, 0.5854883484297717, 0.8349659034218874, 0.6315417528592299, 1.4169438461040973, 0.48192688819332025, 0.6086793747733965, 0.5222618448547206, 0.6147254073589938, 0.5854397366197596, 0.4881883607607484, 0.532431072054236, 0.5445762509747645, 0.48761750104770063, 0.9645049692001175, 0.6162354479346648, 0.8573120427488871, 0.848203465528209, 0.5433092984408608, 0.9871662523782648, 0.4982384251922399, 0.6592336663324184, 0.42422950443959273, 0.405206462069906, 0.38135623573394656, 0.3856210273749594, 0.36863060184945406, 0.36820857059653483, 0.3445138487795077, 0.34451886431046436, 0.3444447014498266, 0.3443525263088099, 0.3445528755377272, 0.3444329348562065, 0.34256319449477485, 0.3369737793722647, 0.336867795574071, 0.3370769566403029, 0.3369640007415991, 0.33691430562008634, 0.3369123538831031, 0.3368220302509146, 0.33127773457797466, 0.3104772155812943, 0.4432202579526292, 0.591535089318708, 0.7348124956447377, 0.48145132388217515, 0.43509400474196297, 0.5725368669716133, 0.3776739910464272, 0.43883111141238385, 0.4868281171640429, 0.6201004821281346, 0.9888623386825957, 0.8285452487870364, 0.5040132392425154, 0.40766708139945923, 0.394719825352573, 0.5252567120615033, 0.4128950746339334, 0.42133454027544287, 0.38456837363218854], \"Term\": [\"supply_chains\", \"level\", \"effort\", \"research\", \"performance\", \"contract\", \"cooperative\", \"sustainable\", \"evaluation\", \"management\", \"food\", \"challenges\", \"remanufacturing\", \"the\", \"fuzzy\", \"channel\", \"coordinating\", \"of\", \"green\", \"industry\", \"blockchain\", \"application\", \"from\", \"advertising\", \"of_the\", \"global\", \"programming\", \"additive\", \"measuring\", \"development\", \"effect\", \"performance\", \"disruption\", \"role\", \"disruptions\", \"the_impact\", \"evidence\", \"factors\", \"strategic\", \"manufacturing\", \"uncertainty\", \"reduction\", \"relationship\", \"supply\", \"firm_performance\", \"financial\", \"strategy\", \"considering\", \"decision_making\", \"green\", \"innovation\", \"competition\", \"credit\", \"multi\", \"responsibility\", \"collaboration\", \"capacity\", \"market\", \"trade\", \"china\", \"new\", \"risk\", \"policies\", \"service\", \"logistics\", \"capital\", \"the\", \"supply_chain\", \"closed_loop\", \"impact\", \"inventory\", \"coordination\", \"model\", \"product\", \"network\", \"management\", \"analysis\", \"design\", \"integration\", \"approach\", \"based\", \"perspective\", \"sustainable\", \"quality\", \"environmental\", \"sustainability\", \"challenges\", \"supply_chains\", \"programming\", \"competitiveness\", \"risk_assessment\", \"decision_support\", \"data\", \"life_cycle\", \"effective\", \"traceability\", \"change\", \"developing\", \"solution\", \"emission\", \"automotive\", \"equipment\", \"port\", \"proactive\", \"wind\", \"evaluation\", \"iot\", \"drivers\", \"assessment\", \"environment\", \"approaches\", \"humanitarian\", \"emerging\", \"industrial\", \"balanced\", \"sector\", \"novel\", \"big_data\", \"analyzing\", \"internet_things\", \"blockchain\", \"literature_review\", \"fuzzy\", \"risks\", \"industry\", \"sustainable\", \"management\", \"supply_chain\", \"framework\", \"food\", \"future\", \"sustainability\", \"approach\", \"pricing\", \"case_study\", \"model\", \"design\", \"based\", \"of_the\", \"base\", \"agenda\", \"state\", \"pyramid\", \"mining\", \"halal\", \"art\", \"maturity\", \"markets\", \"findings\", \"group\", \"literature\", \"paradigm\", \"mass\", \"adaptive\", \"outlook\", \"farmers\", \"utility\", \"unconventional\", \"automatic\", \"offshore\", \"quantification\", \"teams\", \"dan\", \"solid\", \"municipal\", \"definitions\", \"australian\", \"customization\", \"retail\", \"forecasting\", \"application\", \"infrastructure\", \"global\", \"research\", \"complex\", \"development\", \"systematic_literature\", \"food\", \"structural\", \"systems\", \"the\", \"review\", \"supply_chain\", \"based\", \"management\", \"integration\", \"case_study\", \"analysis\", \"network\", \"information\", \"logistics\", \"effort\", \"level\", \"coordinating\", \"heterogeneous\", \"cell\", \"farming\", \"fruit\", \"advertising\", \"cooperative\", \"self\", \"ledger\", \"monitoring\", \"freshness\", \"keeping\", \"step\", \"determine\", \"handwoven\", \"songket\", \"terengganu\", \"malay\", \"flexibility\", \"trust\", \"proximity\", \"facing\", \"labour\", \"thinking\", \"propagation\", \"shocks\", \"threat\", \"entry\", \"visibility\", \"remanufacturing\", \"contract\", \"improvement\", \"two\", \"dependent\", \"using\", \"dynamic\", \"quality\", \"game\", \"supply_chain\", \"barriers\", \"demand\", \"sales\", \"closed_loop\", \"impact\", \"consumers\", \"strategies\", \"analysis\", \"pricing\", \"from\", \"care\", \"additive\", \"measuring\", \"point\", \"channel\", \"von\", \"overview\", \"lignocellulosic\", \"logic\", \"member\", \"phone\", \"expansion\", \"chance\", \"beetle\", \"pine\", \"mountain\", \"infested\", \"forests\", \"timber\", \"responding\", \"die\", \"ein\", \"leitfaden\", \"konzepte\", \"f\\u00fcr\", \"innovativer\", \"entwicklung\", \"changer\", \"digitalisierung\", \"conventional\", \"assessing\", \"of\", \"imperfect\", \"vehicle\", \"biomass\", \"random\", \"mobile\", \"der\", \"an\", \"supply_chain\", \"management\", \"contracts\", \"option\", \"conceptual\", \"information\", \"uncertain\", \"cost\", \"and\"], \"Total\": [5.0, 2.0, 2.0, 6.0, 13.0, 3.0, 2.0, 13.0, 4.0, 21.0, 7.0, 3.0, 2.0, 11.0, 5.0, 1.0, 1.0, 3.0, 14.0, 8.0, 4.0, 2.0, 1.0, 1.0, 1.0, 3.0, 2.0, 1.0, 1.0, 4.0, 6.220687543267454, 13.496101033763258, 4.429003709255618, 4.30450228886151, 3.8881832730072183, 3.781882190039476, 3.8922834681684666, 3.8051268357168153, 3.74359856452019, 6.230088326470497, 4.569821807119523, 3.4065128887080536, 3.292592745576301, 4.338567873170902, 3.274498651341519, 3.2523927827113654, 5.5655636554009655, 6.098254410002322, 3.060431309178431, 14.484067375906829, 5.6595526128133695, 3.0456884525471417, 2.9953694300482723, 5.947443221596793, 2.921897098998711, 2.9007326529725943, 2.8688654964738043, 2.862489732065675, 2.8012961758095813, 2.8884659677558955, 3.632651767835726, 6.193363906477629, 3.8359918437634337, 5.851573299819896, 5.872536875184511, 3.29837706117297, 11.251946451798311, 41.58076315157182, 7.967981391859635, 6.414562665815379, 5.240235931416894, 6.856842958550722, 10.237541097308116, 7.477573454483113, 6.741783356613263, 21.29843055069989, 9.26453645278944, 8.246881747993548, 7.795056420582494, 8.474761578824618, 9.220417618523669, 6.187184719007564, 13.213935925404476, 6.486675486578325, 5.757183815850646, 7.745779260796637, 3.266339017493194, 5.56649605380613, 2.7749924338588876, 2.3764376410336983, 2.302961688159862, 2.175660048216741, 2.7716834758490037, 1.8807695159432867, 1.8634228927361693, 1.771711223146876, 1.670384366045485, 2.17014957986303, 1.64963930357366, 1.7221584669290941, 2.1980978942245994, 1.585404418091543, 1.513823428413608, 1.5078607972166056, 1.5176829916758323, 4.867559389576403, 2.1729983666695745, 1.4944978145442969, 3.001701128888543, 2.009859743342874, 2.451878100410619, 1.4426304094335565, 2.361699799431484, 1.4318709028149497, 1.4328619357318677, 1.4286298796140904, 2.8900721104116474, 3.148118662554695, 1.9168328765660938, 2.34577966893655, 4.111751782777189, 3.5116234192176004, 5.655765268187789, 3.970624480004499, 8.24468974200524, 13.213935925404476, 21.29843055069989, 41.58076315157182, 5.5783085553395555, 7.481187044883621, 2.9945924356092632, 7.745779260796637, 8.474761578824618, 5.341634499387547, 4.330894974833832, 10.237541097308116, 8.246881747993548, 9.220417618523669, 1.855527361325099, 1.6454180444313196, 1.607913510346108, 1.6057180745204944, 1.4736546995564026, 1.448087099944493, 1.3130964694318867, 1.2779652281896412, 1.2233703927197142, 1.202555221642528, 1.2055920611968842, 1.1889125284748958, 1.1687450905744485, 1.182907911052136, 1.118575215604198, 1.1209723760704788, 1.1020224144858715, 1.0964617629089193, 1.0752862553677378, 0.9926881271071284, 0.9917276789591497, 1.0201363155956067, 0.9782456073030383, 0.9762141645095681, 0.9758365130016866, 0.9737406912599877, 0.9739531726245285, 0.9723841092043735, 0.9715879176373342, 0.9680233457816845, 2.00345831117135, 1.7998159814157404, 2.983073051176694, 1.442185288541625, 3.9802053793285554, 6.905804366569354, 1.7222540079942539, 4.661061017120174, 1.9107160901490994, 7.481187044883621, 2.5420872817510642, 4.442472720736078, 11.251946451798311, 7.088167363942847, 41.58076315157182, 9.220417618523669, 21.29843055069989, 7.795056420582494, 4.330894974833832, 9.26453645278944, 6.741783356613263, 5.833146442850444, 5.872536875184511, 2.1991248838033606, 2.578329429925121, 1.6502179873192109, 1.1690523482409962, 1.0769695005962945, 1.0166669601584877, 1.013772453759854, 1.7931963760746865, 2.3258901845436744, 0.9199841748099546, 0.8752904042764625, 0.8642305987712995, 0.8508077505552127, 0.8509880098073321, 0.8454435467639888, 0.845487846370258, 0.832800992034501, 0.8326849944701902, 0.8329246576699136, 0.8332727474987167, 1.1966019243802646, 1.1141871755705268, 0.8132237306738922, 0.8078897753920358, 0.7933789228990515, 0.7821023072355076, 0.7766033298054205, 0.7767775295167475, 0.7752831675243544, 0.7751954977181282, 1.340347133879101, 2.6582219446376016, 3.735559219569382, 2.051147968560136, 1.8936883539896254, 1.8213451340246545, 3.0200314762939313, 2.536669454315948, 6.486675486578325, 3.2657147288412984, 41.58076315157182, 1.5674268223228593, 4.958102215417561, 2.958017175741733, 7.967981391859635, 6.414562665815379, 2.3140832051251503, 5.569772912057753, 9.26453645278944, 5.341634499387547, 1.4119642593078063, 1.0588764696149902, 1.5135990925298919, 1.516074077709211, 0.9872564435201023, 1.7954513197689617, 0.940156272297871, 1.257254229547844, 0.8663397301185752, 0.847837167192413, 0.8237291529703243, 0.8343132463960516, 0.8148655532385602, 0.8203690968170145, 0.7866470027495447, 0.7867612554304073, 0.7866691155717375, 0.7866854275651811, 0.7871597114697598, 0.7869273794578842, 0.7889875722452586, 0.7791694683960791, 0.7789440212660002, 0.7794376478706757, 0.7791981627310769, 0.7791425432304528, 0.7792286736199071, 0.7792494936205342, 0.7759076847251607, 0.7524378576635581, 1.0881163950953718, 1.6732418831473765, 3.1918801104979577, 1.545057838852335, 1.2750902814483582, 2.604841563451963, 1.0495867253450992, 1.6063550302458074, 2.271558873028875, 5.223659240742759, 41.58076315157182, 21.29843055069989, 3.3803096233541607, 1.6512708918544097, 1.4275498990533038, 5.833146442850444, 2.087771505488709, 4.176421413929285, 2.089608265823353], \"loglift\": [30.0, 29.0, 28.0, 27.0, 26.0, 25.0, 24.0, 23.0, 22.0, 21.0, 20.0, 19.0, 18.0, 17.0, 16.0, 15.0, 14.0, 13.0, 12.0, 11.0, 10.0, 9.0, 8.0, 7.0, 6.0, 5.0, 4.0, 3.0, 2.0, 1.0, 0.7318, 0.7074, 0.7006, 0.7001, 0.6887, 0.6874, 0.6869, 0.6852, 0.6844, 0.6839, 0.6744, 0.6729, 0.6697, 0.6695, 0.6693, 0.668, 0.6611, 0.6596, 0.659, 0.6569, 0.6561, 0.6559, 0.6537, 0.6525, 0.6524, 0.6502, 0.6474, 0.6471, 0.6453, 0.6448, 0.6408, 0.6231, 0.6353, 0.6058, 0.5855, 0.6381, 0.4838, 0.3112, 0.5243, 0.5476, 0.568, 0.5051, 0.4032, 0.4766, 0.4891, 0.1394, 0.378, 0.408, 0.4224, 0.3883, 0.3375, 0.4937, 0.14, 0.4482, 0.5046, 0.2436, 1.3142, 1.2902, 1.2879, 1.2587, 1.252, 1.2387, 1.2217, 1.2017, 1.1989, 1.182, 1.1619, 1.1613, 1.1611, 1.1557, 1.1551, 1.1474, 1.1311, 1.1293, 1.1274, 1.1272, 1.1268, 1.1266, 1.1255, 1.1216, 1.1144, 1.1121, 1.1113, 1.1097, 1.1094, 1.1081, 1.1022, 1.0734, 1.0928, 1.0774, 1.0309, 1.0388, 0.9544, 0.9387, 0.7894, 0.6022, 0.4165, 0.0403, 0.717, 0.5817, 0.9473, 0.5072, 0.2157, 0.4833, 0.6316, -0.0021, 0.1549, -0.1785, 1.7185, 1.689, 1.6749, 1.671, 1.6468, 1.636, 1.5987, 1.5828, 1.5616, 1.5538, 1.55, 1.5471, 1.538, 1.5355, 1.5119, 1.5117, 1.5023, 1.4972, 1.4801, 1.4315, 1.428, 1.4243, 1.4191, 1.4184, 1.4181, 1.4169, 1.4165, 1.4143, 1.4139, 1.4117, 1.3455, 1.3382, 1.2202, 1.3403, 1.0753, 0.9364, 1.2614, 0.905, 1.1778, 0.5724, 1.0267, 0.7619, 0.2438, 0.4822, -0.487, 0.1185, -0.5158, 0.1135, 0.4858, -0.146, 0.036, 0.083, 0.0313, 2.1417, 2.034, 1.9623, 1.9, 1.837, 1.8059, 1.8011, 1.7884, 1.7709, 1.7213, 1.6755, 1.6618, 1.6439, 1.6437, 1.6393, 1.6388, 1.6233, 1.623, 1.6228, 1.6227, 1.6204, 1.6053, 1.5958, 1.5875, 1.566, 1.5477, 1.5388, 1.5387, 1.5348, 1.5345, 1.4664, 1.3683, 1.2455, 1.2556, 1.1649, 1.1444, 0.8727, 0.9037, 0.3198, 0.7268, -1.0093, 1.1905, 0.2724, 0.6358, -0.1921, -0.0241, 0.8138, 0.0222, -0.4641, -0.0239, 2.0789, 1.9187, 1.8916, 1.8793, 1.8628, 1.8619, 1.8251, 1.8144, 1.746, 1.7217, 1.6899, 1.6883, 1.6668, 1.6589, 1.6344, 1.6342, 1.6342, 1.6339, 1.6338, 1.6338, 1.6257, 1.6218, 1.6218, 1.6218, 1.6217, 1.6217, 1.6215, 1.6212, 1.6089, 1.5748, 1.5619, 1.4202, 0.9913, 1.294, 1.3848, 0.945, 1.4379, 1.1624, 0.9197, 0.329, -1.2788, -0.7867, 0.5569, 1.0612, 1.1745, 0.0526, 0.8394, 0.1662, 0.7674], \"logprob\": [30.0, 29.0, 28.0, 27.0, 26.0, 25.0, 24.0, 23.0, 22.0, 21.0, 20.0, 19.0, 18.0, 17.0, 16.0, 15.0, 14.0, 13.0, 12.0, 11.0, 10.0, 9.0, 8.0, 7.0, 6.0, 5.0, 4.0, 3.0, 2.0, 1.0, -5.3298, -4.5796, -5.7006, -5.7296, -5.8428, -5.8718, -5.8435, -5.8679, -5.885, -5.3762, -5.6955, -5.9908, -6.028, -5.7524, -6.0339, -6.042, -5.5117, -5.4218, -6.1118, -4.5595, -5.4999, -6.1198, -6.1387, -5.4539, -6.1648, -6.1743, -6.1881, -6.1906, -6.2141, -6.1839, -5.9586, -5.4428, -5.9097, -5.5169, -5.5337, -6.0579, -4.9851, -3.8506, -5.2897, -5.4833, -5.6651, -5.4591, -5.1601, -5.4009, -5.492, -4.6914, -5.2852, -5.3716, -5.4135, -5.364, -5.3305, -5.5733, -5.1681, -5.5714, -5.6344, -5.5986, -5.3916, -4.8824, -5.5809, -5.7651, -5.8032, -5.8734, -5.6482, -6.0561, -6.0681, -6.1355, -6.2144, -5.9533, -6.2277, -6.1901, -5.9467, -6.2811, -6.3436, -6.3494, -6.3448, -5.1796, -5.9865, -6.361, -5.6648, -6.0697, -5.8782, -6.4109, -5.9187, -6.4208, -6.4203, -6.4246, -5.7259, -5.6693, -6.1459, -5.9594, -5.4446, -5.5945, -5.2023, -5.5718, -4.9905, -4.706, -4.4142, -4.1215, -5.4536, -5.2953, -5.8454, -5.3351, -5.5367, -5.7305, -5.7921, -5.5655, -5.6246, -5.8465, -5.5528, -5.7024, -5.7396, -5.7448, -5.8549, -5.8832, -6.0183, -6.0613, -6.1262, -6.1512, -6.1524, -6.1693, -6.1955, -6.186, -6.2655, -6.2635, -6.29, -6.3001, -6.3368, -6.4653, -6.4697, -6.4451, -6.4923, -6.4951, -6.4957, -6.4992, -6.4993, -6.5031, -6.5043, -6.5102, -5.849, -5.9635, -5.5763, -6.183, -5.4328, -5.0207, -6.0844, -5.4452, -6.0641, -5.3046, -5.9297, -5.6363, -5.2251, -5.4488, -4.6487, -5.5495, -5.3466, -5.7224, -5.9378, -5.8092, -5.9451, -6.0428, -6.0878, -4.9596, -4.9082, -5.4262, -5.8332, -5.9783, -6.067, -6.0746, -5.517, -5.2744, -6.2515, -6.3471, -6.3735, -6.4071, -6.407, -6.418, -6.4185, -6.4491, -6.4495, -6.4495, -6.4491, -6.0896, -6.176, -6.5004, -6.5153, -6.5549, -6.5875, -6.6034, -6.6033, -6.6091, -6.6095, -6.13, -5.5434, -5.3261, -5.9154, -6.086, -6.1455, -5.9114, -6.0548, -5.6999, -5.9791, -5.171, -6.2495, -6.016, -6.1691, -6.0061, -6.0549, -6.2366, -6.1498, -6.1273, -6.2378, -5.4655, -5.9135, -5.5833, -5.594, -6.0395, -5.4423, -6.1261, -5.8461, -6.2869, -6.3327, -6.3934, -6.3823, -6.4273, -6.4285, -6.495, -6.495, -6.4952, -6.4955, -6.4949, -6.4952, -6.5007, -6.5171, -6.5175, -6.5168, -6.5172, -6.5173, -6.5173, -6.5176, -6.5342, -6.599, -6.2431, -5.9544, -5.7375, -6.1603, -6.2616, -5.9871, -6.4031, -6.253, -6.1492, -5.9073, -5.4406, -5.6175, -6.1145, -6.3267, -6.359, -6.0733, -6.314, -6.2937, -6.385]}, \"token.table\": {\"Topic\": [3, 5, 4, 3, 1, 2, 5, 1, 2, 3, 4, 2, 1, 2, 3, 1, 2, 2, 3, 5, 1, 2, 3, 3, 2, 2, 1, 3, 1, 2, 3, 1, 2, 1, 5, 2, 3, 1, 1, 5, 1, 2, 3, 4, 2, 2, 5, 1, 1, 2, 4, 1, 1, 2, 1, 3, 1, 1, 1, 4, 1, 2, 5, 1, 4, 4, 1, 2, 1, 1, 3, 3, 2, 1, 2, 3, 1, 2, 4, 1, 4, 1, 1, 2, 2, 1, 2, 3, 1, 1, 2, 1, 2, 4, 1, 2, 4, 2, 2, 2, 1, 2, 2, 1, 2, 1, 1, 3, 4, 1, 3, 1, 4, 1, 2, 3, 1, 3, 1, 2, 5, 4, 2, 3, 1, 2, 1, 2, 4, 1, 2, 3, 1, 2, 3, 3, 4, 2, 1, 3, 4, 1, 1, 4, 2, 1, 2, 3, 1, 2, 3, 5, 3, 1, 1, 2, 3, 2, 1, 2, 2, 4, 2, 3, 1, 2, 1, 3, 1, 2, 3, 5, 1, 1, 3, 3, 3, 5, 3, 1, 2, 3, 1, 2, 3, 1, 2, 3, 1, 2, 1, 5, 3, 3, 1, 3, 5, 3, 1, 2, 1, 2, 5, 1, 2, 1, 2, 2, 1, 2, 3, 2, 3, 1, 3, 4, 3, 1, 1, 1, 4, 1, 2, 3, 1, 1, 3, 1, 2, 3, 1, 2, 2, 1, 2, 1, 1, 4, 2, 1, 2, 3, 2, 3, 1, 1, 2, 4, 1, 1, 3, 1, 1, 2, 3, 4, 5, 2, 3, 1, 2, 1, 2, 3, 1, 3, 1, 2, 3, 3, 1, 2, 3, 1, 2, 1, 4, 1, 4, 1, 1, 3, 2, 4, 3, 4, 2], \"Freq\": [0.8920826430223532, 0.6606769288745798, 0.5576634067201294, 0.6219239987508701, 0.5743100500509345, 0.1914366833503115, 0.1914366833503115, 0.6476308912566773, 0.10793848187611288, 0.10793848187611288, 0.10793848187611288, 0.5216938900753038, 0.4785585970133868, 0.33522477755130503, 0.33522477755130503, 0.7079845189971884, 0.23599483966572948, 0.8157012372128359, 0.7824939035443044, 0.5976422238003001, 0.33314442613088385, 0.6662888522617677, 1.0292429350415937, 1.0083413231438012, 0.9098775833664676, 0.6979039466836187, 0.6379883167483652, 0.6077482882750411, 0.650729744382304, 0.21690991479410135, 0.10845495739705067, 0.3176500339375712, 0.6353000678751424, 0.3839005082039576, 0.3839005082039576, 0.7296160270583548, 0.24320534235278493, 0.6971396890018897, 0.9095382196640486, 0.9443972254512392, 0.23089915728985508, 0.46179831457971016, 0.23089915728985508, 0.9285314017215175, 0.9184594691283453, 0.5986646069775116, 0.556963025947526, 0.6924090580696155, 0.7530138067503279, 0.12550230112505464, 0.12550230112505464, 0.6894809826581063, 0.9849989737102192, 0.8415958262342806, 0.5806344449531027, 0.5806344449531027, 0.8199067575467217, 0.432136579093282, 0.5353950727169976, 0.2676975363584988, 0.5916617774248358, 0.2958308887124179, 0.2958308887124179, 0.42994291245792154, 0.42994291245792154, 0.6059805478332629, 0.7291985583197331, 0.14583971166394663, 0.7183183167278904, 1.0015459094645474, 1.0330329370233258, 1.024761818887045, 0.7215831163359565, 0.9802539893650958, 0.9192612612615104, 1.0284001872657325, 0.6050702203498937, 0.20169007344996456, 0.20169007344996456, 0.5490447589086449, 0.5490447589086449, 0.4402263185310313, 0.7275477184403414, 0.24251590614678045, 0.9215954598513117, 0.4290868522540165, 0.21454342612700825, 0.4290868522540165, 0.9031376495894332, 0.7715685679805224, 0.6691210855366293, 0.39421770081181723, 0.39421770081181723, 0.39421770081181723, 0.9645236090492441, 0.5366468362592902, 0.9094526712557695, 0.8468476816915709, 0.5806666571068646, 0.49754715636861435, 0.6947841389026389, 0.17369603472565973, 0.6307538875183448, 0.2054417665948652, 0.8217670663794608, 0.7707557850126637, 0.7884099872415569, 0.9120245081296718, 0.9836062734291183, 0.9223978161392433, 0.8294679702910642, 0.9161707850363412, 0.8356998092894701, 0.26733725383430945, 0.4010058807514642, 0.26733725383430945, 0.555612357221874, 0.555612357221874, 0.5377974291379778, 0.5377974291379778, 0.7082332243241303, 0.9864146498469404, 0.6678705176095494, 0.3339352588047747, 0.3536214650295833, 0.530432197544375, 0.3062116819844849, 0.3062116819844849, 0.3062116819844849, 0.25124331653677023, 0.25124331653677023, 0.5024866330735405, 0.8975379403180999, 0.06904138002446922, 0.841104770998395, 0.7615586693585823, 0.8553936883191251, 0.6931782343286708, 0.7794763665878742, 0.15589527331757486, 0.15589527331757486, 0.6472249613275303, 0.4875318676799215, 0.4875318676799215, 0.6983869830960848, 0.3638705753493099, 0.48516076713241313, 0.12129019178310328, 0.5143021916888496, 0.1714340638962832, 0.1714340638962832, 0.1714340638962832, 0.6933921791777711, 0.8834620582340509, 0.6414321757566406, 0.12828643515132812, 0.12828643515132812, 0.852594992822447, 0.7633244098836691, 0.19083110247091728, 0.920387254163141, 0.7756960676891018, 0.5316972608940107, 0.8556185673545728, 0.2847685758465533, 0.5695371516931066, 0.8514207924565657, 0.17028415849131312, 0.5164699799741126, 0.3756145308902637, 0.09390363272256592, 0.04695181636128296, 0.9630682079589635, 0.6986924625775788, 0.8315626442785181, 0.8939944190162039, 0.8174139295433395, 0.6595983762950427, 0.6905661959410668, 0.6837579388902866, 0.19535941111151045, 0.09767970555575523, 0.8406973910812015, 0.16813947821624028, 1.0267434083152915, 0.7416435289477696, 0.14832870578955393, 0.14832870578955393, 0.825842990666664, 0.6920242553100622, 0.6265899503625105, 0.31329497518125526, 0.5389303444632926, 0.9802611520756909, 0.6055941547404013, 0.9074225595189295, 0.7953840810379598, 0.8453743445764524, 0.8891456851115404, 0.07409547375929502, 0.8081219855356135, 0.16162439710712273, 1.0129080509563047, 0.7820663135343753, 0.6605790221174852, 0.5616258469844706, 0.37441723132298044, 0.6631911923474121, 0.6686661161452442, 0.13373322322904885, 0.13373322322904885, 0.7207226857980338, 0.6785850174406655, 0.7708108738205839, 0.15416217476411678, 0.15416217476411678, 1.0222381705929018, 0.8806659766192088, 0.9111360656523925, 0.37619131164622566, 0.37619131164622566, 0.5792228953608641, 0.14480572384021603, 0.28961144768043207, 1.0267302024523908, 0.49913691461607496, 0.49913691461607496, 0.5643207608708282, 0.14108019021770704, 0.2821603804354141, 0.8073157133186553, 0.16146314266373105, 0.8684469265305331, 0.25184955289422556, 0.5036991057884511, 0.9292595825423414, 0.676128596007389, 0.3380642980036945, 0.6999713601609157, 0.8544710531360674, 0.1708942106272135, 1.0269674554793777, 0.6061931222380988, 0.6227743312278675, 0.8013679747696196, 0.5386216004436076, 0.35908106696240505, 0.17954053348120252, 0.8983816032986833, 0.39337752372970086, 0.39337752372970086, 0.9219632184932364, 0.6252891488601059, 0.24049582648465612, 0.07214874794539683, 0.02404958264846561, 0.02404958264846561, 0.8982311227151981, 0.1796462245430396, 0.5164102752378988, 0.3873077064284241, 0.5297437523169866, 0.45406607341455996, 0.07567767890242666, 0.5233639917283404, 0.5233639917283404, 0.4501997256313186, 0.2250998628156593, 0.2250998628156593, 1.0243653865669748, 0.7109880974168182, 0.08887351217710228, 0.17774702435420456, 0.7932558047157692, 0.5644260683881774, 0.7139552101883676, 0.8975152666677783, 0.5280699951991564, 0.5280699951991564, 0.4789796188764049, 0.8753076528647631, 1.0073657301756793, 0.33112237665388916, 0.33112237665388916, 0.9299849179770362, 0.7460753820586001, 0.6588991281346545], \"Term\": [\"adaptive\", \"additive\", \"advertising\", \"agenda\", \"an\", \"an\", \"an\", \"analysis\", \"analysis\", \"analysis\", \"analysis\", \"analyzing\", \"and\", \"application\", \"application\", \"approach\", \"approach\", \"approaches\", \"art\", \"assessing\", \"assessment\", \"assessment\", \"australian\", \"automatic\", \"automotive\", \"balanced\", \"barriers\", \"base\", \"based\", \"based\", \"based\", \"big_data\", \"big_data\", \"biomass\", \"biomass\", \"blockchain\", \"blockchain\", \"capacity\", \"capital\", \"care\", \"case_study\", \"case_study\", \"case_study\", \"cell\", \"challenges\", \"change\", \"channel\", \"china\", \"closed_loop\", \"closed_loop\", \"closed_loop\", \"collaboration\", \"competition\", \"competitiveness\", \"complex\", \"complex\", \"considering\", \"consumers\", \"contract\", \"contract\", \"contracts\", \"contracts\", \"contracts\", \"cooperative\", \"cooperative\", \"coordinating\", \"coordination\", \"coordination\", \"cost\", \"credit\", \"customization\", \"dan\", \"data\", \"decision_making\", \"decision_support\", \"definitions\", \"demand\", \"demand\", \"demand\", \"dependent\", \"dependent\", \"der\", \"design\", \"design\", \"developing\", \"development\", \"development\", \"development\", \"disruption\", \"disruptions\", \"drivers\", \"dynamic\", \"dynamic\", \"dynamic\", \"effect\", \"effective\", \"effort\", \"emerging\", \"emission\", \"environment\", \"environmental\", \"environmental\", \"equipment\", \"evaluation\", \"evaluation\", \"evidence\", \"factors\", \"farmers\", \"farming\", \"financial\", \"findings\", \"firm_performance\", \"flexibility\", \"food\", \"food\", \"food\", \"forecasting\", \"forecasting\", \"framework\", \"framework\", \"from\", \"fruit\", \"future\", \"future\", \"fuzzy\", \"fuzzy\", \"game\", \"game\", \"game\", \"global\", \"global\", \"global\", \"green\", \"green\", \"group\", \"halal\", \"heterogeneous\", \"humanitarian\", \"impact\", \"impact\", \"impact\", \"imperfect\", \"improvement\", \"improvement\", \"industrial\", \"industry\", \"industry\", \"industry\", \"information\", \"information\", \"information\", \"information\", \"infrastructure\", \"innovation\", \"integration\", \"integration\", \"integration\", \"internet_things\", \"inventory\", \"inventory\", \"iot\", \"level\", \"life_cycle\", \"literature\", \"literature_review\", \"literature_review\", \"logistics\", \"logistics\", \"management\", \"management\", \"management\", \"management\", \"manufacturing\", \"market\", \"markets\", \"mass\", \"maturity\", \"measuring\", \"mining\", \"model\", \"model\", \"model\", \"multi\", \"multi\", \"municipal\", \"network\", \"network\", \"network\", \"new\", \"novel\", \"of\", \"of\", \"of_the\", \"offshore\", \"option\", \"outlook\", \"overview\", \"paradigm\", \"performance\", \"performance\", \"perspective\", \"perspective\", \"point\", \"policies\", \"port\", \"pricing\", \"pricing\", \"proactive\", \"product\", \"product\", \"product\", \"programming\", \"pyramid\", \"quality\", \"quality\", \"quality\", \"quantification\", \"reduction\", \"relationship\", \"remanufacturing\", \"remanufacturing\", \"research\", \"research\", \"research\", \"responsibility\", \"retail\", \"retail\", \"review\", \"review\", \"review\", \"risk\", \"risk\", \"risk_assessment\", \"risks\", \"risks\", \"role\", \"sales\", \"sales\", \"sector\", \"service\", \"service\", \"solid\", \"solution\", \"state\", \"strategic\", \"strategies\", \"strategies\", \"strategies\", \"strategy\", \"structural\", \"structural\", \"supply\", \"supply_chain\", \"supply_chain\", \"supply_chain\", \"supply_chain\", \"supply_chain\", \"supply_chains\", \"supply_chains\", \"sustainability\", \"sustainability\", \"sustainable\", \"sustainable\", \"sustainable\", \"systematic_literature\", \"systematic_literature\", \"systems\", \"systems\", \"systems\", \"teams\", \"the\", \"the\", \"the\", \"the_impact\", \"traceability\", \"trade\", \"trust\", \"two\", \"two\", \"uncertain\", \"uncertainty\", \"unconventional\", \"using\", \"using\", \"utility\", \"visibility\", \"wind\"]}, \"R\": 30, \"lambda.step\": 0.01, \"plot.opts\": {\"xlab\": \"PC1\", \"ylab\": \"PC2\"}, \"topic.order\": [2, 1, 4, 3, 5]};\n",
       "\n",
       "function LDAvis_load_lib(url, callback){\n",
       "  var s = document.createElement('script');\n",
       "  s.src = url;\n",
       "  s.async = true;\n",
       "  s.onreadystatechange = s.onload = callback;\n",
       "  s.onerror = function(){console.warn(\"failed to load library \" + url);};\n",
       "  document.getElementsByTagName(\"head\")[0].appendChild(s);\n",
       "}\n",
       "\n",
       "if(typeof(LDAvis) !== \"undefined\"){\n",
       "   // already loaded: just create the visualization\n",
       "   !function(LDAvis){\n",
       "       new LDAvis(\"#\" + \"ldavis_el2865850237133447675256534\", ldavis_el2865850237133447675256534_data);\n",
       "   }(LDAvis);\n",
       "}else if(typeof define === \"function\" && define.amd){\n",
       "   // require.js is available: use it to load d3/LDAvis\n",
       "   require.config({paths: {d3: \"https://cdnjs.cloudflare.com/ajax/libs/d3/3.5.5/d3.min\"}});\n",
       "   require([\"d3\"], function(d3){\n",
       "      window.d3 = d3;\n",
       "      LDAvis_load_lib(\"https://cdn.rawgit.com/bmabey/pyLDAvis/files/ldavis.v1.0.0.js\", function(){\n",
       "        new LDAvis(\"#\" + \"ldavis_el2865850237133447675256534\", ldavis_el2865850237133447675256534_data);\n",
       "      });\n",
       "    });\n",
       "}else{\n",
       "    // require.js not available: dynamically load d3 & LDAvis\n",
       "    LDAvis_load_lib(\"https://cdnjs.cloudflare.com/ajax/libs/d3/3.5.5/d3.min.js\", function(){\n",
       "         LDAvis_load_lib(\"https://cdn.rawgit.com/bmabey/pyLDAvis/files/ldavis.v1.0.0.js\", function(){\n",
       "                 new LDAvis(\"#\" + \"ldavis_el2865850237133447675256534\", ldavis_el2865850237133447675256534_data);\n",
       "            })\n",
       "         });\n",
       "}\n",
       "</script>"
      ],
      "text/plain": [
       "PreparedData(topic_coordinates=            Freq  cluster  topics         x         y\n",
       "topic                                                \n",
       "1      44.956820        1       1  0.122627 -0.021190\n",
       "0      23.480241        1       2 -0.003443  0.095742\n",
       "3      13.670434        1       3 -0.041207 -0.023623\n",
       "2       9.349217        1       4 -0.033300 -0.028180\n",
       "4       8.543287        1       5 -0.044677 -0.022749, topic_info=     Category       Freq             Term      Total  loglift  logprob\n",
       "term                                                                  \n",
       "1792  Default   5.000000    supply_chains   5.000000  30.0000  30.0000\n",
       "1055  Default   2.000000            level   2.000000  29.0000  29.0000\n",
       "595   Default   2.000000           effort   2.000000  28.0000  28.0000\n",
       "1554  Default   6.000000         research   6.000000  27.0000  27.0000\n",
       "1342  Default  13.000000      performance  13.000000  26.0000  26.0000\n",
       "402   Default   3.000000         contract   3.000000  25.0000  25.0000\n",
       "416   Default   2.000000      cooperative   2.000000  24.0000  24.0000\n",
       "1797  Default  13.000000      sustainable  13.000000  23.0000  23.0000\n",
       "668   Default   4.000000       evaluation   4.000000  22.0000  22.0000\n",
       "1105  Default  21.000000       management  21.000000  21.0000  21.0000\n",
       "744   Default   7.000000             food   7.000000  20.0000  20.0000\n",
       "275   Default   3.000000       challenges   3.000000  19.0000  19.0000\n",
       "1543  Default   2.000000  remanufacturing   2.000000  18.0000  18.0000\n",
       "1849  Default  11.000000              the  11.000000  17.0000  17.0000\n",
       "780   Default   5.000000            fuzzy   5.000000  16.0000  16.0000\n",
       "281   Default   1.000000          channel   1.000000  15.0000  15.0000\n",
       "420   Default   1.000000     coordinating   1.000000  14.0000  14.0000\n",
       "1253  Default   3.000000               of   3.000000  13.0000  13.0000\n",
       "815   Default  14.000000            green  14.000000  12.0000  12.0000\n",
       "920   Default   8.000000         industry   8.000000  11.0000  11.0000\n",
       "208   Default   4.000000       blockchain   4.000000  10.0000  10.0000\n",
       "93    Default   2.000000      application   2.000000   9.0000   9.0000\n",
       "768   Default   1.000000             from   1.000000   8.0000   8.0000\n",
       "34    Default   1.000000      advertising   1.000000   7.0000   7.0000\n",
       "1254  Default   1.000000           of_the   1.000000   6.0000   6.0000\n",
       "798   Default   3.000000           global   3.000000   5.0000   5.0000\n",
       "1447  Default   2.000000      programming   2.000000   4.0000   4.0000\n",
       "22    Default   1.000000         additive   1.000000   3.0000   3.0000\n",
       "1140  Default   1.000000        measuring   1.000000   2.0000   2.0000\n",
       "512   Default   4.000000      development   4.000000   1.0000   1.0000\n",
       "...       ...        ...              ...        ...      ...      ...\n",
       "1871   Topic5   0.344433           timber   0.786927   1.6338  -6.4952\n",
       "1564   Topic5   0.342563       responding   0.788988   1.6257  -6.5007\n",
       "515    Topic5   0.336974              die   0.779169   1.6218  -6.5171\n",
       "598    Topic5   0.336868              ein   0.778944   1.6218  -6.5175\n",
       "1052   Topic5   0.337077        leitfaden   0.779438   1.6218  -6.5168\n",
       "1019   Topic5   0.336964         konzepte   0.779198   1.6217  -6.5172\n",
       "781    Topic5   0.336914              für   0.779143   1.6217  -6.5173\n",
       "938    Topic5   0.336912      innovativer   0.779229   1.6215  -6.5173\n",
       "642    Topic5   0.336822      entwicklung   0.779249   1.6212  -6.5176\n",
       "278    Topic5   0.331278          changer   0.775908   1.6089  -6.5342\n",
       "524    Topic5   0.310477  digitalisierung   0.752438   1.5748  -6.5990\n",
       "411    Topic5   0.443220     conventional   1.088116   1.5619  -6.2431\n",
       "114    Topic5   0.591535        assessing   1.673242   1.4202  -5.9544\n",
       "1253   Topic5   0.734812               of   3.191880   0.9913  -5.7375\n",
       "886    Topic5   0.481451        imperfect   1.545058   1.2940  -6.1603\n",
       "1984   Topic5   0.435094          vehicle   1.275090   1.3848  -6.2616\n",
       "202    Topic5   0.572537          biomass   2.604842   0.9450  -5.9871\n",
       "1495   Topic5   0.377674           random   1.049587   1.4379  -6.4031\n",
       "1188   Topic5   0.438831           mobile   1.606355   1.1624  -6.2530\n",
       "495    Topic5   0.486828              der   2.271559   0.9197  -6.1492\n",
       "71     Topic5   0.620100               an   5.223659   0.3290  -5.9073\n",
       "1791   Topic5   0.988862     supply_chain  41.580763  -1.2788  -5.4406\n",
       "1105   Topic5   0.828545       management  21.298431  -0.7867  -5.6175\n",
       "404    Topic5   0.504013        contracts   3.380310   0.5569  -6.1145\n",
       "1286   Topic5   0.407667           option   1.651271   1.0612  -6.3267\n",
       "361    Topic5   0.394720       conceptual   1.427550   1.1745  -6.3590\n",
       "925    Topic5   0.525257      information   5.833146   0.0526  -6.0733\n",
       "1936   Topic5   0.412895        uncertain   2.087772   0.8394  -6.3140\n",
       "427    Topic5   0.421335             cost   4.176421   0.1662  -6.2937\n",
       "82     Topic5   0.384568              and   2.089608   0.7674  -6.3850\n",
       "\n",
       "[290 rows x 6 columns], token_table=      Topic      Freq                   Term\n",
       "term                                        \n",
       "20        3  0.892083               adaptive\n",
       "22        5  0.660677               additive\n",
       "34        4  0.557663            advertising\n",
       "43        3  0.621924                 agenda\n",
       "71        1  0.574310                     an\n",
       "71        2  0.191437                     an\n",
       "71        5  0.191437                     an\n",
       "75        1  0.647631               analysis\n",
       "75        2  0.107938               analysis\n",
       "75        3  0.107938               analysis\n",
       "75        4  0.107938               analysis\n",
       "80        2  0.521694              analyzing\n",
       "82        1  0.478559                    and\n",
       "93        2  0.335225            application\n",
       "93        3  0.335225            application\n",
       "97        1  0.707985               approach\n",
       "97        2  0.235995               approach\n",
       "98        2  0.815701             approaches\n",
       "107       3  0.782494                    art\n",
       "114       5  0.597642              assessing\n",
       "115       1  0.333144             assessment\n",
       "115       2  0.666289             assessment\n",
       "130       3  1.029243             australian\n",
       "132       3  1.008341              automatic\n",
       "135       2  0.909878             automotive\n",
       "149       2  0.697904               balanced\n",
       "154       1  0.637988               barriers\n",
       "155       3  0.607748                   base\n",
       "156       1  0.650730                  based\n",
       "156       2  0.216910                  based\n",
       "...     ...       ...                    ...\n",
       "1792      2  0.898231          supply_chains\n",
       "1792      3  0.179646          supply_chains\n",
       "1796      1  0.516410         sustainability\n",
       "1796      2  0.387308         sustainability\n",
       "1797      1  0.529744            sustainable\n",
       "1797      2  0.454066            sustainable\n",
       "1797      3  0.075678            sustainable\n",
       "1809      1  0.523364  systematic_literature\n",
       "1809      3  0.523364  systematic_literature\n",
       "1810      1  0.450200                systems\n",
       "1810      2  0.225100                systems\n",
       "1810      3  0.225100                systems\n",
       "1828      3  1.024365                  teams\n",
       "1849      1  0.710988                    the\n",
       "1849      2  0.088874                    the\n",
       "1849      3  0.177747                    the\n",
       "1850      1  0.793256             the_impact\n",
       "1894      2  0.564426           traceability\n",
       "1896      1  0.713955                  trade\n",
       "1923      4  0.897515                  trust\n",
       "1928      1  0.528070                    two\n",
       "1928      4  0.528070                    two\n",
       "1936      1  0.478980              uncertain\n",
       "1938      1  0.875308            uncertainty\n",
       "1939      3  1.007366         unconventional\n",
       "1964      2  0.331122                  using\n",
       "1964      4  0.331122                  using\n",
       "1966      3  0.929985                utility\n",
       "1994      4  0.746075             visibility\n",
       "2017      2  0.658899                   wind\n",
       "\n",
       "[287 rows x 3 columns], R=30, lambda_step=0.01, plot_opts={'xlab': 'PC1', 'ylab': 'PC2'}, topic_order=[2, 1, 4, 3, 5])"
      ]
     },
     "execution_count": 60,
     "metadata": {},
     "output_type": "execute_result"
    }
   ],
   "source": [
    "pyLDAvis.sklearn.prepare(lda, vectorized, vectorizer)"
   ]
  },
  {
   "cell_type": "code",
   "execution_count": null,
   "metadata": {},
   "outputs": [],
   "source": []
  }
 ],
 "metadata": {
  "kernelspec": {
   "display_name": "Python 3",
   "language": "python",
   "name": "python3"
  },
  "language_info": {
   "codemirror_mode": {
    "name": "ipython",
    "version": 3
   },
   "file_extension": ".py",
   "mimetype": "text/x-python",
   "name": "python",
   "nbconvert_exporter": "python",
   "pygments_lexer": "ipython3",
   "version": "3.6.8"
  }
 },
 "nbformat": 4,
 "nbformat_minor": 2
}
